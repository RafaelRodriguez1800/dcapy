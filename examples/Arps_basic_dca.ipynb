{
 "cells": [
  {
   "cell_type": "code",
   "execution_count": 1,
   "metadata": {},
   "outputs": [
    {
     "name": "stdout",
     "output_type": "stream",
     "text": [
      "/home/scuervo/Documents/dev/dcapy\n",
      "/home/scuervo/anaconda3/envs/res/bin/python\n"
     ]
    }
   ],
   "source": [
    "import os\n",
    "path = os.path.abspath(os.path.join('..'))\n",
    "print(path)\n",
    "import sys\n",
    "\n",
    "sys.path.insert(0,path)\n",
    "print(sys.executable)"
   ]
  },
  {
   "cell_type": "code",
   "execution_count": 2,
   "metadata": {},
   "outputs": [],
   "source": [
    "from dcapy import dca\n",
    "import numpy as np \n",
    "import pandas as pd\n",
    "from datetime import date\n",
    "import matplotlib.pyplot as plt\n",
    "import seaborn as sns \n",
    "from scipy import stats"
   ]
  },
  {
   "cell_type": "markdown",
   "metadata": {},
   "source": [
    "# dcapy Basis Examples to try"
   ]
  },
  {
   "cell_type": "markdown",
   "metadata": {},
   "source": [
    "## Basics Equations\n",
    "\n",
    "First Section will explore the Arps Declination Analysis equations. \n",
    "Starting from Equations used to calculate rate then cumulatives.\n",
    "\n",
    "The library numpy is used to performed the majority of operations"
   ]
  },
  {
   "cell_type": "markdown",
   "metadata": {},
   "source": [
    "### Exponential b = 0, Examples\n",
    "\n",
    "The time array used with this function is relative to a Initial Time which is always 0"
   ]
  },
  {
   "cell_type": "code",
   "execution_count": 3,
   "metadata": {},
   "outputs": [
    {
     "data": {
      "text/plain": [
       "array([500.        , 274.40581805, 203.28482987, 150.59710596,\n",
       "        24.89353418])"
      ]
     },
     "execution_count": 3,
     "metadata": {},
     "output_type": "execute_result"
    }
   ],
   "source": [
    "time1 = [0,2,3,4,10]\n",
    "qi1 = 500\n",
    "di1 = 0.3 \n",
    "dca.arps_exp_rate(time1,qi1,di1)"
   ]
  },
  {
   "cell_type": "markdown",
   "metadata": {},
   "source": [
    "Cumulative volume can be calculated  for any timestep"
   ]
  },
  {
   "cell_type": "code",
   "execution_count": 4,
   "metadata": {},
   "outputs": [
    {
     "data": {
      "text/plain": [
       "array([   0.        ,  751.98060651,  989.0505671 , 1164.67631348,\n",
       "       1583.68821939])"
      ]
     },
     "execution_count": 4,
     "metadata": {},
     "output_type": "execute_result"
    }
   ],
   "source": [
    "dca.arps_exp_cumulative(time1,qi1,di1)\n"
   ]
  },
  {
   "cell_type": "markdown",
   "metadata": {},
   "source": [
    "### Hyperbolic 0<b<1, Examples\n",
    "\n",
    "The time array used with this function is relative to a Initial Time which is always 0"
   ]
  },
  {
   "cell_type": "code",
   "execution_count": 5,
   "metadata": {},
   "outputs": [
    {
     "data": {
      "text/plain": [
       "array([500.        , 295.85798817, 237.81212842, 195.3125    ,\n",
       "        80.        ])"
      ]
     },
     "execution_count": 5,
     "metadata": {},
     "output_type": "execute_result"
    }
   ],
   "source": [
    "b = 0.5\n",
    "dca.arps_hyp_rate(time1,qi1,di1,b)"
   ]
  },
  {
   "cell_type": "code",
   "execution_count": 6,
   "metadata": {},
   "outputs": [
    {
     "data": {
      "text/plain": [
       "array([  -0.        ,  769.23076923, 1034.48275862, 1250.        ,\n",
       "       2000.        ])"
      ]
     },
     "execution_count": 6,
     "metadata": {},
     "output_type": "execute_result"
    }
   ],
   "source": [
    "dca.arps_hyp_cumulative(time1,qi1,di1,b,ti=0)"
   ]
  },
  {
   "cell_type": "markdown",
   "metadata": {},
   "source": [
    "### Armonic, Examples\n",
    "\n",
    "The time array used with this function is relative to a Initial Time which is always 0"
   ]
  },
  {
   "cell_type": "code",
   "execution_count": 7,
   "metadata": {},
   "outputs": [
    {
     "data": {
      "text/plain": [
       "array([500.        , 312.5       , 263.15789474, 227.27272727,\n",
       "       125.        ])"
      ]
     },
     "execution_count": 7,
     "metadata": {},
     "output_type": "execute_result"
    }
   ],
   "source": [
    "b = 1\n",
    "dca.arps_hyp_rate(time1,qi1,di1,b)"
   ]
  },
  {
   "cell_type": "code",
   "execution_count": 8,
   "metadata": {},
   "outputs": [
    {
     "data": {
      "text/plain": [
       "array([   0.        ,  783.33938208, 1069.75647695, 1314.09560061,\n",
       "       2310.49060187])"
      ]
     },
     "execution_count": 8,
     "metadata": {},
     "output_type": "execute_result"
    }
   ],
   "source": [
    "dca.arps_arm_cumulative(time1,qi1,di1,b,ti=0)"
   ]
  },
  {
   "cell_type": "markdown",
   "metadata": {},
   "source": [
    "## Use arps_forecast and arps_cumulative \n",
    "independently of the b. It internally uses the appropiate equation"
   ]
  },
  {
   "cell_type": "code",
   "execution_count": 9,
   "metadata": {},
   "outputs": [
    {
     "name": "stdout",
     "output_type": "stream",
     "text": [
      "Examples Arps Forecast function\n",
      "Example 1. Single Values\n",
      "Forecast Example 1\n",
      "[500.         274.40581805 150.59710596  82.64944411]\n"
     ]
    },
    {
     "name": "stderr",
     "output_type": "stream",
     "text": [
      "/home/scuervo/Documents/dev/dcapy/dcapy/dca/arps.py:76: RuntimeWarning: divide by zero encountered in true_divide\n",
      "  return qi/np.power(1+b*di*time_array,1/b)\n"
     ]
    }
   ],
   "source": [
    "print('Examples Arps Forecast function')\n",
    "\n",
    "print('Example 1. Single Values')\n",
    "time1 = [0,2,4,6]\n",
    "qi1 = 500,\n",
    "di1 = 0.3\n",
    "b1 = 0 \n",
    "f1 = dca.arps_forecast(time1,qi1,di1,b1)\n",
    "print('Forecast Example 1')\n",
    "print(f1)\n"
   ]
  },
  {
   "cell_type": "code",
   "execution_count": 10,
   "metadata": {},
   "outputs": [
    {
     "name": "stderr",
     "output_type": "stream",
     "text": [
      "/home/scuervo/Documents/dev/dcapy/dcapy/dca/arps.py:99: RuntimeWarning: divide by zero encountered in true_divide\n",
      "  g = np.power(b*di*time_array+1,(b-1)/b)\n",
      "/home/scuervo/Documents/dev/dcapy/dcapy/dca/arps.py:100: RuntimeWarning: divide by zero encountered in true_divide\n",
      "  h = np.power(b*di*ti+1,(b-1)/b)\n"
     ]
    },
    {
     "data": {
      "text/plain": [
       "array([   0.        ,  751.98060651, 1164.67631348, 1391.16851963])"
      ]
     },
     "execution_count": 10,
     "metadata": {},
     "output_type": "execute_result"
    }
   ],
   "source": [
    "dca.arps_cumulative(time1,qi1,di1,b1)"
   ]
  },
  {
   "cell_type": "code",
   "execution_count": 11,
   "metadata": {},
   "outputs": [
    {
     "name": "stdout",
     "output_type": "stream",
     "text": [
      "\n",
      "Example 2. Multiple values\n",
      " ->Time array [0, 2, 4, 6]\n",
      " ->qi [600, 700, 900]\n",
      " -> di 0.3\n",
      " b [0, 0.5, 1]\n",
      "Forecast Example 2\n",
      "[[600.         700.         900.        ]\n",
      " [329.28698166 414.20118343 562.5       ]\n",
      " [180.71652715 273.4375     409.09090909]\n",
      " [ 99.17933293 193.90581717 321.42857143]]\n"
     ]
    },
    {
     "data": {
      "text/plain": [
       "(4, 3)"
      ]
     },
     "execution_count": 11,
     "metadata": {},
     "output_type": "execute_result"
    }
   ],
   "source": [
    "print('\\nExample 2. Multiple values')\n",
    "time2 = [0,2,4,6]\n",
    "qi2 = [600,700,900]\n",
    "di2 = 0.3\n",
    "b2 = [0,0.5,1]\n",
    "print(f' ->Time array {time2}\\n ->qi {qi2}\\n -> di {di2}\\n b {b2}')    \n",
    "f2 = dca.arps_forecast(time2,qi2,di2,b2)\n",
    "print('Forecast Example 2')\n",
    "print(f2)\n",
    "f2.shape"
   ]
  },
  {
   "cell_type": "code",
   "execution_count": 12,
   "metadata": {},
   "outputs": [
    {
     "name": "stderr",
     "output_type": "stream",
     "text": [
      "/home/scuervo/Documents/dev/dcapy/dcapy/dca/arps.py:98: RuntimeWarning: divide by zero encountered in true_divide\n",
      "  f = qi/(di*(b-1))\n",
      "/home/scuervo/Documents/dev/dcapy/dcapy/dca/arps.py:101: RuntimeWarning: invalid value encountered in multiply\n",
      "  return f*(g-h)\n"
     ]
    },
    {
     "data": {
      "text/plain": [
       "array([[   0.        ,   -0.        ,    0.        ],\n",
       "       [ 902.37672781, 1076.92307692, 1410.01088774],\n",
       "       [1397.61157618, 1750.        , 2365.37208109],\n",
       "       [1669.40222356, 2210.52631579, 3088.85825154]])"
      ]
     },
     "execution_count": 12,
     "metadata": {},
     "output_type": "execute_result"
    }
   ],
   "source": [
    "dca.arps_cumulative(time2,qi2,di2,b2)"
   ]
  },
  {
   "cell_type": "code",
   "execution_count": 13,
   "metadata": {},
   "outputs": [
    {
     "name": "stderr",
     "output_type": "stream",
     "text": [
      "/home/scuervo/Documents/dev/dcapy/dcapy/dca/arps.py:270: RuntimeWarning: invalid value encountered in true_divide\n",
      "  (np.power(qi / rate, b) - 1)/(b * di)\n"
     ]
    },
    {
     "data": {
      "text/plain": [
       "array([ 6, 15])"
      ]
     },
     "execution_count": 13,
     "metadata": {},
     "output_type": "execute_result"
    }
   ],
   "source": [
    "dca.arps_rate_time([4000,5000],[0.3,0.6],[0,1],500)"
   ]
  },
  {
   "cell_type": "markdown",
   "metadata": {},
   "source": [
    "# Arps Class"
   ]
  },
  {
   "cell_type": "code",
   "execution_count": 14,
   "metadata": {},
   "outputs": [
    {
     "name": "stdout",
     "output_type": "stream",
     "text": [
      "Example Arps Class\n",
      "Declination \n",
      " Ti: 0 \n",
      " Qi: [5000] bbl/d \n",
      " Di: [0.3] A \n",
      " b: [0]\n"
     ]
    }
   ],
   "source": [
    "print('Example Arps Class')\n",
    "#print(dca.time_converter_matrix)\n",
    "qi = 5000\n",
    "di = 0.3\n",
    "b = 0\n",
    "ti = 0\n",
    "di_f = 'A'\n",
    "dc = dca.Arps(qi,di,b,ti,freq_di=di_f)\n",
    "print(dc)"
   ]
  },
  {
   "cell_type": "code",
   "execution_count": 15,
   "metadata": {},
   "outputs": [
    {
     "name": "stdout",
     "output_type": "stream",
     "text": [
      "Calculate Daily Basis each day\n",
      "          rate    cumulative  iteration\n",
      "0  5000.000000      0.000000        0.0\n",
      "1  4995.892099   4997.945768        0.0\n",
      "2  4991.787574   9991.785324        0.0\n",
      "3  4987.686420  14981.522040        0.0\n",
      "4  4983.588636  19967.159287        0.0\n",
      "5  4979.494219  24948.700434        0.0\n",
      "6  4975.403165  29926.148846        0.0\n",
      "7  4971.315473  34899.507885        0.0\n",
      "8  4967.231139  39868.780912        0.0\n",
      "9  4963.150161  44833.971282        0.0\n"
     ]
    },
    {
     "name": "stderr",
     "output_type": "stream",
     "text": [
      "/home/scuervo/Documents/dev/dcapy/dcapy/dca/arps.py:76: RuntimeWarning: divide by zero encountered in true_divide\n",
      "  return qi/np.power(1+b*di*time_array,1/b)\n",
      "/home/scuervo/Documents/dev/dcapy/dcapy/dca/arps.py:99: RuntimeWarning: divide by zero encountered in true_divide\n",
      "  g = np.power(b*di*time_array+1,(b-1)/b)\n",
      "/home/scuervo/Documents/dev/dcapy/dcapy/dca/arps.py:100: RuntimeWarning: divide by zero encountered in true_divide\n",
      "  h = np.power(b*di*ti+1,(b-1)/b)\n"
     ]
    },
    {
     "data": {
      "image/png": "[encoded data removed]",
      "text/plain": [
       "<Figure size 432x288 with 1 Axes>"
      ]
     },
     "metadata": {
      "needs_background": "light"
     },
     "output_type": "display_data"
    }
   ],
   "source": [
    "print('Calculate Daily Basis each day')\n",
    "#print(dc.forecast(start=0,end=1000,freq_input='D',freq_output='D'))\n",
    "dd = dc.forecast(start=0,end=365,freq_input='D',freq_output='D')\n",
    "print(dc.forecast(start=0,end=365,freq_input='D',freq_output='D').head(10))\n",
    "dc.plot(start=0,end=365,freq_input='D',freq_output='D')"
   ]
  },
  {
   "cell_type": "code",
   "execution_count": 16,
   "metadata": {},
   "outputs": [
    {
     "name": "stdout",
     "output_type": "stream",
     "text": [
      "Calculate Daily Basis each Month\n",
      "            rate    cumulative  iteration\n",
      "0    5000.000000  0.000000e+00        0.0\n",
      "30   4878.219897  1.481658e+05        0.0\n",
      "60   4759.405873  2.927229e+05        0.0\n",
      "90   4643.485686  4.337591e+05        0.0\n",
      "120  4530.388854  5.713602e+05        0.0\n",
      "150  4420.046610  7.056100e+05        0.0\n",
      "180  4312.391864  8.365899e+05        0.0\n",
      "210  4207.359159  9.643797e+05        0.0\n",
      "240  4104.884633  1.089057e+06        0.0\n",
      "270  4004.905979  1.210698e+06        0.0\n",
      "300  3907.362406  1.329376e+06        0.0\n",
      "330  3812.194607  1.445163e+06        0.0\n",
      "360  3719.344717  1.558131e+06        0.0\n"
     ]
    },
    {
     "name": "stderr",
     "output_type": "stream",
     "text": [
      "/home/scuervo/Documents/dev/dcapy/dcapy/dca/arps.py:76: RuntimeWarning: divide by zero encountered in true_divide\n",
      "  return qi/np.power(1+b*di*time_array,1/b)\n",
      "/home/scuervo/Documents/dev/dcapy/dcapy/dca/arps.py:99: RuntimeWarning: divide by zero encountered in true_divide\n",
      "  g = np.power(b*di*time_array+1,(b-1)/b)\n",
      "/home/scuervo/Documents/dev/dcapy/dcapy/dca/arps.py:100: RuntimeWarning: divide by zero encountered in true_divide\n",
      "  h = np.power(b*di*ti+1,(b-1)/b)\n",
      "/home/scuervo/Documents/dev/dcapy/dcapy/dca/arps.py:76: RuntimeWarning: divide by zero encountered in true_divide\n",
      "  return qi/np.power(1+b*di*time_array,1/b)\n",
      "/home/scuervo/Documents/dev/dcapy/dcapy/dca/arps.py:99: RuntimeWarning: divide by zero encountered in true_divide\n",
      "  g = np.power(b*di*time_array+1,(b-1)/b)\n",
      "/home/scuervo/Documents/dev/dcapy/dcapy/dca/arps.py:100: RuntimeWarning: divide by zero encountered in true_divide\n",
      "  h = np.power(b*di*ti+1,(b-1)/b)\n"
     ]
    },
    {
     "data": {
      "image/png": "[encoded data removed]",
      "text/plain": [
       "<Figure size 432x288 with 1 Axes>"
      ]
     },
     "metadata": {
      "needs_background": "light"
     },
     "output_type": "display_data"
    }
   ],
   "source": [
    "print('Calculate Daily Basis each Month')\n",
    "print(dc.forecast(start=0,end=365,freq_input='D',freq_output='M'))\n",
    "dc.plot(start=0,end=365,freq_input='D',freq_output='M',rate_kw={'color':'red'})\n"
   ]
  },
  {
   "cell_type": "code",
   "execution_count": 17,
   "metadata": {},
   "outputs": [
    {
     "name": "stdout",
     "output_type": "stream",
     "text": [
      "Calculate Daily Basis each Year\n",
      "            rate    cumulative  iteration\n",
      "0    5000.000000  0.000000e+00        0.0\n",
      "365  3704.091103  1.576689e+06        0.0\n"
     ]
    },
    {
     "name": "stderr",
     "output_type": "stream",
     "text": [
      "/home/scuervo/Documents/dev/dcapy/dcapy/dca/arps.py:76: RuntimeWarning: divide by zero encountered in true_divide\n",
      "  return qi/np.power(1+b*di*time_array,1/b)\n",
      "/home/scuervo/Documents/dev/dcapy/dcapy/dca/arps.py:99: RuntimeWarning: divide by zero encountered in true_divide\n",
      "  g = np.power(b*di*time_array+1,(b-1)/b)\n",
      "/home/scuervo/Documents/dev/dcapy/dcapy/dca/arps.py:100: RuntimeWarning: divide by zero encountered in true_divide\n",
      "  h = np.power(b*di*ti+1,(b-1)/b)\n",
      "/home/scuervo/Documents/dev/dcapy/dcapy/dca/arps.py:76: RuntimeWarning: divide by zero encountered in true_divide\n",
      "  return qi/np.power(1+b*di*time_array,1/b)\n",
      "/home/scuervo/Documents/dev/dcapy/dcapy/dca/arps.py:99: RuntimeWarning: divide by zero encountered in true_divide\n",
      "  g = np.power(b*di*time_array+1,(b-1)/b)\n",
      "/home/scuervo/Documents/dev/dcapy/dcapy/dca/arps.py:100: RuntimeWarning: divide by zero encountered in true_divide\n",
      "  h = np.power(b*di*ti+1,(b-1)/b)\n"
     ]
    },
    {
     "data": {
      "image/png": "[encoded data removed]",
      "text/plain": [
       "<Figure size 432x288 with 1 Axes>"
      ]
     },
     "metadata": {
      "needs_background": "light"
     },
     "output_type": "display_data"
    }
   ],
   "source": [
    "print('Calculate Daily Basis each Year')\n",
    "print(dc.forecast(start=0,end=366,freq_input='D',freq_output='A'))\n",
    "dc.plot(start=0,end=366,freq_input='D',freq_output='A',rate_kw=dict(color='blue',linestyle='-',linewidth=2))"
   ]
  },
  {
   "cell_type": "code",
   "execution_count": 18,
   "metadata": {},
   "outputs": [
    {
     "name": "stdout",
     "output_type": "stream",
     "text": [
      "Calculate Monthly Basis each Month\n",
      "           rate    cumulative  iteration\n",
      "0   5000.000000  0.000000e+00        0.0\n",
      "1   4876.549560  1.481405e+05        0.0\n",
      "2   4756.147123  2.926235e+05        0.0\n",
      "3   4638.717432  4.335391e+05        0.0\n",
      "4   4524.187090  5.709755e+05        0.0\n",
      "5   4412.484513  7.050186e+05        0.0\n",
      "6   4303.539882  8.357521e+05        0.0\n",
      "7   4197.285104  9.632579e+05        0.0\n",
      "8   4093.653765  1.087615e+06        0.0\n",
      "9   3992.581094  1.208903e+06        0.0\n",
      "10  3894.003915  1.327195e+06        0.0\n",
      "11  3797.860616  1.442567e+06        0.0\n",
      "12  3704.091103  1.555091e+06        0.0\n"
     ]
    },
    {
     "name": "stderr",
     "output_type": "stream",
     "text": [
      "/home/scuervo/Documents/dev/dcapy/dcapy/dca/arps.py:76: RuntimeWarning: divide by zero encountered in true_divide\n",
      "  return qi/np.power(1+b*di*time_array,1/b)\n",
      "/home/scuervo/Documents/dev/dcapy/dcapy/dca/arps.py:99: RuntimeWarning: divide by zero encountered in true_divide\n",
      "  g = np.power(b*di*time_array+1,(b-1)/b)\n",
      "/home/scuervo/Documents/dev/dcapy/dcapy/dca/arps.py:100: RuntimeWarning: divide by zero encountered in true_divide\n",
      "  h = np.power(b*di*ti+1,(b-1)/b)\n",
      "/home/scuervo/Documents/dev/dcapy/dcapy/dca/arps.py:76: RuntimeWarning: divide by zero encountered in true_divide\n",
      "  return qi/np.power(1+b*di*time_array,1/b)\n",
      "/home/scuervo/Documents/dev/dcapy/dcapy/dca/arps.py:99: RuntimeWarning: divide by zero encountered in true_divide\n",
      "  g = np.power(b*di*time_array+1,(b-1)/b)\n",
      "/home/scuervo/Documents/dev/dcapy/dcapy/dca/arps.py:100: RuntimeWarning: divide by zero encountered in true_divide\n",
      "  h = np.power(b*di*ti+1,(b-1)/b)\n"
     ]
    },
    {
     "data": {
      "text/plain": [
       "Text(0, 0.5, 'Rate [bbl/d]')"
      ]
     },
     "execution_count": 18,
     "metadata": {},
     "output_type": "execute_result"
    },
    {
     "data": {
      "image/png": "[encoded data removed]",
      "text/plain": [
       "<Figure size 432x288 with 2 Axes>"
      ]
     },
     "metadata": {
      "needs_background": "light"
     },
     "output_type": "display_data"
    }
   ],
   "source": [
    "print('Calculate Monthly Basis each Month')\n",
    "print(dc.forecast(start=0,end=13,freq_input='M',freq_output='M'))\n",
    "\n",
    "fig, ax = plt.subplots()\n",
    "dc.plot(start=0,end=13,freq_input='M',freq_output='M',cum=True,ax=ax)\n",
    "ax.set_title('Calculate Monthly Basis each Month',fontsize=14)\n",
    "ax.set_xlabel('Time [Years]')\n",
    "ax.set_ylabel('Rate [bbl/d]')"
   ]
  },
  {
   "cell_type": "code",
   "execution_count": 19,
   "metadata": {},
   "outputs": [
    {
     "name": "stdout",
     "output_type": "stream",
     "text": [
      "Calculate Monthly Basis each Year\n",
      "           rate    cumulative  iteration\n",
      "0   5000.000000  0.000000e+00        0.0\n",
      "12  3704.091103  1.555091e+06        0.0\n"
     ]
    },
    {
     "name": "stderr",
     "output_type": "stream",
     "text": [
      "/home/scuervo/Documents/dev/dcapy/dcapy/dca/arps.py:76: RuntimeWarning: divide by zero encountered in true_divide\n",
      "  return qi/np.power(1+b*di*time_array,1/b)\n",
      "/home/scuervo/Documents/dev/dcapy/dcapy/dca/arps.py:99: RuntimeWarning: divide by zero encountered in true_divide\n",
      "  g = np.power(b*di*time_array+1,(b-1)/b)\n",
      "/home/scuervo/Documents/dev/dcapy/dcapy/dca/arps.py:100: RuntimeWarning: divide by zero encountered in true_divide\n",
      "  h = np.power(b*di*ti+1,(b-1)/b)\n"
     ]
    }
   ],
   "source": [
    "print('Calculate Monthly Basis each Year')\n",
    "print(dc.forecast(start=0,end=13,freq_input='M',freq_output='A'))"
   ]
  },
  {
   "cell_type": "code",
   "execution_count": 20,
   "metadata": {},
   "outputs": [
    {
     "name": "stdout",
     "output_type": "stream",
     "text": [
      "Calculate Year Basis each Year\n",
      "          rate    cumulative  iteration\n",
      "0  5000.000000  0.000000e+00        0.0\n",
      "1  3704.091103  1.576689e+06        0.0\n"
     ]
    },
    {
     "name": "stderr",
     "output_type": "stream",
     "text": [
      "/home/scuervo/Documents/dev/dcapy/dcapy/dca/arps.py:76: RuntimeWarning: divide by zero encountered in true_divide\n",
      "  return qi/np.power(1+b*di*time_array,1/b)\n",
      "/home/scuervo/Documents/dev/dcapy/dcapy/dca/arps.py:99: RuntimeWarning: divide by zero encountered in true_divide\n",
      "  g = np.power(b*di*time_array+1,(b-1)/b)\n",
      "/home/scuervo/Documents/dev/dcapy/dcapy/dca/arps.py:100: RuntimeWarning: divide by zero encountered in true_divide\n",
      "  h = np.power(b*di*ti+1,(b-1)/b)\n"
     ]
    }
   ],
   "source": [
    "print('Calculate Year Basis each Year')\n",
    "print(dc.forecast(start=0,end=2,freq_input='A',freq_output='A'))"
   ]
  },
  {
   "cell_type": "code",
   "execution_count": 21,
   "metadata": {},
   "outputs": [
    {
     "name": "stdout",
     "output_type": "stream",
     "text": [
      "Calculate Year Basis each Year - Rate Limit\n",
      "          rate    cumulative  iteration\n",
      "8   453.589766  5.531466e+06        0.0\n",
      "9   336.027564  5.674500e+06        0.0\n",
      "10  248.935342  5.780462e+06        0.0\n",
      "11  184.415837  5.858961e+06        0.0\n",
      "12  136.618612  5.917114e+06        0.0\n",
      "13  101.209557  5.960195e+06        0.0\n",
      "14   74.977884  5.992110e+06        0.0\n"
     ]
    },
    {
     "name": "stderr",
     "output_type": "stream",
     "text": [
      "/home/scuervo/Documents/dev/dcapy/dcapy/dca/arps.py:270: RuntimeWarning: invalid value encountered in true_divide\n",
      "  (np.power(qi / rate, b) - 1)/(b * di)\n",
      "/home/scuervo/Documents/dev/dcapy/dcapy/dca/arps.py:76: RuntimeWarning: divide by zero encountered in true_divide\n",
      "  return qi/np.power(1+b*di*time_array,1/b)\n",
      "/home/scuervo/Documents/dev/dcapy/dcapy/dca/arps.py:99: RuntimeWarning: divide by zero encountered in true_divide\n",
      "  g = np.power(b*di*time_array+1,(b-1)/b)\n",
      "/home/scuervo/Documents/dev/dcapy/dcapy/dca/arps.py:100: RuntimeWarning: divide by zero encountered in true_divide\n",
      "  h = np.power(b*di*ti+1,(b-1)/b)\n"
     ]
    }
   ],
   "source": [
    "print('Calculate Year Basis each Year - Rate Limit')\n",
    "print(dc.forecast(start=0,end=15,freq_input='A',freq_output='A',rate_limit=500))\n"
   ]
  },
  {
   "cell_type": "code",
   "execution_count": 22,
   "metadata": {},
   "outputs": [
    {
     "name": "stdout",
     "output_type": "stream",
     "text": [
      "           rate    cumulative  iteration\n",
      "0   5000.000000  0.000000e+00        0.0\n",
      "5   4412.484513  7.050186e+05        0.0\n",
      "10  3894.003915  1.327195e+06        0.0\n",
      "18  3188.140758  2.174231e+06        0.0\n"
     ]
    },
    {
     "name": "stderr",
     "output_type": "stream",
     "text": [
      "/home/scuervo/Documents/dev/dcapy/dcapy/dca/arps.py:76: RuntimeWarning: divide by zero encountered in true_divide\n",
      "  return qi/np.power(1+b*di*time_array,1/b)\n",
      "/home/scuervo/Documents/dev/dcapy/dcapy/dca/arps.py:99: RuntimeWarning: divide by zero encountered in true_divide\n",
      "  g = np.power(b*di*time_array+1,(b-1)/b)\n",
      "/home/scuervo/Documents/dev/dcapy/dcapy/dca/arps.py:100: RuntimeWarning: divide by zero encountered in true_divide\n",
      "  h = np.power(b*di*ti+1,(b-1)/b)\n"
     ]
    }
   ],
   "source": [
    "# Custom time list\n",
    "print(dc.forecast(time_list=np.array([0,5,10,18]),freq_input='M'))"
   ]
  },
  {
   "cell_type": "markdown",
   "metadata": {},
   "source": [
    "## Using Arps with dates"
   ]
  },
  {
   "cell_type": "code",
   "execution_count": 23,
   "metadata": {},
   "outputs": [
    {
     "name": "stdout",
     "output_type": "stream",
     "text": [
      "Example Arps Class\n",
      "Declination \n",
      " Ti: 2021-01-01 \n",
      " Qi: [5000] bbl/d \n",
      " Di: [0.3] A \n",
      " b: [0]\n"
     ]
    }
   ],
   "source": [
    "print('Example Arps Class')\n",
    "#print(dca.time_converter_matrix)\n",
    "qi = 5000\n",
    "di = 0.3\n",
    "b = 0\n",
    "ti = date(2021,1,1)\n",
    "di_f = 'A'\n",
    "dc1 = dca.Arps(qi,di,b,ti,freq_di=di_f)\n",
    "print(dc1)"
   ]
  },
  {
   "cell_type": "code",
   "execution_count": 24,
   "metadata": {},
   "outputs": [
    {
     "name": "stderr",
     "output_type": "stream",
     "text": [
      "/home/scuervo/Documents/dev/dcapy/dcapy/dca/arps.py:76: RuntimeWarning: divide by zero encountered in true_divide\n",
      "  return qi/np.power(1+b*di*time_array,1/b)\n",
      "/home/scuervo/Documents/dev/dcapy/dcapy/dca/arps.py:99: RuntimeWarning: divide by zero encountered in true_divide\n",
      "  g = np.power(b*di*time_array+1,(b-1)/b)\n",
      "/home/scuervo/Documents/dev/dcapy/dcapy/dca/arps.py:100: RuntimeWarning: divide by zero encountered in true_divide\n",
      "  h = np.power(b*di*ti+1,(b-1)/b)\n"
     ]
    },
    {
     "data": {
      "text/plain": [
       "Text(0, 0.5, 'Rate [bbl/d]')"
      ]
     },
     "execution_count": 24,
     "metadata": {},
     "output_type": "execute_result"
    },
    {
     "data": {
      "image/png": "[encoded data removed]",
      "text/plain": [
       "<Figure size 720x504 with 1 Axes>"
      ]
     },
     "metadata": {
      "needs_background": "light"
     },
     "output_type": "display_data"
    }
   ],
   "source": [
    "from_time = date(2021,1,1)\n",
    "to_time = date(2023,1,1)\n",
    "\n",
    "\n",
    "\n",
    "fig, ax = plt.subplots(figsize=(10,7))\n",
    "dc1.plot(start=from_time,end=to_time,ax=ax)\n",
    "ax.set_title('Calculate Monthly Basis each Month',fontsize=14)\n",
    "ax.set_xlabel('Date',fontsize=14)\n",
    "ax.set_ylabel('Rate [bbl/d]',fontsize=14)"
   ]
  },
  {
   "cell_type": "code",
   "execution_count": 25,
   "metadata": {},
   "outputs": [
    {
     "name": "stderr",
     "output_type": "stream",
     "text": [
      "/home/scuervo/Documents/dev/dcapy/dcapy/dca/arps.py:76: RuntimeWarning: divide by zero encountered in true_divide\n",
      "  return qi/np.power(1+b*di*time_array,1/b)\n",
      "/home/scuervo/Documents/dev/dcapy/dcapy/dca/arps.py:99: RuntimeWarning: divide by zero encountered in true_divide\n",
      "  g = np.power(b*di*time_array+1,(b-1)/b)\n",
      "/home/scuervo/Documents/dev/dcapy/dcapy/dca/arps.py:100: RuntimeWarning: divide by zero encountered in true_divide\n",
      "  h = np.power(b*di*ti+1,(b-1)/b)\n"
     ]
    },
    {
     "data": {
      "image/png": "[encoded data removed]",
      "text/plain": [
       "<Figure size 432x288 with 1 Axes>"
      ]
     },
     "metadata": {
      "needs_background": "light"
     },
     "output_type": "display_data"
    }
   ],
   "source": [
    "dc1.plot(start=from_time,end=to_time,freq_output='6M')"
   ]
  },
  {
   "cell_type": "code",
   "execution_count": 26,
   "metadata": {},
   "outputs": [
    {
     "name": "stderr",
     "output_type": "stream",
     "text": [
      "/home/scuervo/Documents/dev/dcapy/dcapy/dca/arps.py:76: RuntimeWarning: divide by zero encountered in true_divide\n",
      "  return qi/np.power(1+b*di*time_array,1/b)\n",
      "/home/scuervo/Documents/dev/dcapy/dcapy/dca/arps.py:99: RuntimeWarning: divide by zero encountered in true_divide\n",
      "  g = np.power(b*di*time_array+1,(b-1)/b)\n",
      "/home/scuervo/Documents/dev/dcapy/dcapy/dca/arps.py:100: RuntimeWarning: divide by zero encountered in true_divide\n",
      "  h = np.power(b*di*ti+1,(b-1)/b)\n"
     ]
    },
    {
     "data": {
      "text/html": [
       "<div>\n",
       "<style scoped>\n",
       "    .dataframe tbody tr th:only-of-type {\n",
       "        vertical-align: middle;\n",
       "    }\n",
       "\n",
       "    .dataframe tbody tr th {\n",
       "        vertical-align: top;\n",
       "    }\n",
       "\n",
       "    .dataframe thead th {\n",
       "        text-align: right;\n",
       "    }\n",
       "</style>\n",
       "<table border=\"1\" class=\"dataframe\">\n",
       "  <thead>\n",
       "    <tr style=\"text-align: right;\">\n",
       "      <th></th>\n",
       "      <th>rate</th>\n",
       "      <th>cumulative</th>\n",
       "      <th>iteration</th>\n",
       "    </tr>\n",
       "  </thead>\n",
       "  <tbody>\n",
       "    <tr>\n",
       "      <th>2021-01</th>\n",
       "      <td>5000.000000</td>\n",
       "      <td>0.000000e+00</td>\n",
       "      <td>0.0</td>\n",
       "    </tr>\n",
       "    <tr>\n",
       "      <th>2021-07</th>\n",
       "      <td>4308.848888</td>\n",
       "      <td>8.409005e+05</td>\n",
       "      <td>0.0</td>\n",
       "    </tr>\n",
       "    <tr>\n",
       "      <th>2022-01</th>\n",
       "      <td>3704.091103</td>\n",
       "      <td>1.576689e+06</td>\n",
       "      <td>0.0</td>\n",
       "    </tr>\n",
       "    <tr>\n",
       "      <th>2022-07</th>\n",
       "      <td>3192.073767</td>\n",
       "      <td>2.199644e+06</td>\n",
       "      <td>0.0</td>\n",
       "    </tr>\n",
       "    <tr>\n",
       "      <th>2023-01</th>\n",
       "      <td>2744.058180</td>\n",
       "      <td>2.744729e+06</td>\n",
       "      <td>0.0</td>\n",
       "    </tr>\n",
       "  </tbody>\n",
       "</table>\n",
       "</div>"
      ],
      "text/plain": [
       "                rate    cumulative  iteration\n",
       "2021-01  5000.000000  0.000000e+00        0.0\n",
       "2021-07  4308.848888  8.409005e+05        0.0\n",
       "2022-01  3704.091103  1.576689e+06        0.0\n",
       "2022-07  3192.073767  2.199644e+06        0.0\n",
       "2023-01  2744.058180  2.744729e+06        0.0"
      ]
     },
     "execution_count": 26,
     "metadata": {},
     "output_type": "execute_result"
    }
   ],
   "source": [
    "dc1.forecast(start=from_time,end=to_time,freq_output='6M')"
   ]
  },
  {
   "cell_type": "code",
   "execution_count": 27,
   "metadata": {},
   "outputs": [
    {
     "name": "stderr",
     "output_type": "stream",
     "text": [
      "/home/scuervo/Documents/dev/dcapy/dcapy/dca/arps.py:76: RuntimeWarning: divide by zero encountered in true_divide\n",
      "  return qi/np.power(1+b*di*time_array,1/b)\n",
      "/home/scuervo/Documents/dev/dcapy/dcapy/dca/arps.py:99: RuntimeWarning: divide by zero encountered in true_divide\n",
      "  g = np.power(b*di*time_array+1,(b-1)/b)\n",
      "/home/scuervo/Documents/dev/dcapy/dcapy/dca/arps.py:100: RuntimeWarning: divide by zero encountered in true_divide\n",
      "  h = np.power(b*di*ti+1,(b-1)/b)\n"
     ]
    },
    {
     "data": {
      "text/html": [
       "<div>\n",
       "<style scoped>\n",
       "    .dataframe tbody tr th:only-of-type {\n",
       "        vertical-align: middle;\n",
       "    }\n",
       "\n",
       "    .dataframe tbody tr th {\n",
       "        vertical-align: top;\n",
       "    }\n",
       "\n",
       "    .dataframe thead th {\n",
       "        text-align: right;\n",
       "    }\n",
       "</style>\n",
       "<table border=\"1\" class=\"dataframe\">\n",
       "  <thead>\n",
       "    <tr style=\"text-align: right;\">\n",
       "      <th></th>\n",
       "      <th>rate</th>\n",
       "      <th>cumulative</th>\n",
       "      <th>iteration</th>\n",
       "    </tr>\n",
       "  </thead>\n",
       "  <tbody>\n",
       "    <tr>\n",
       "      <th>2021</th>\n",
       "      <td>5000.000000</td>\n",
       "      <td>0.000000e+00</td>\n",
       "      <td>0.0</td>\n",
       "    </tr>\n",
       "    <tr>\n",
       "      <th>2022</th>\n",
       "      <td>3704.091103</td>\n",
       "      <td>1.576689e+06</td>\n",
       "      <td>0.0</td>\n",
       "    </tr>\n",
       "    <tr>\n",
       "      <th>2023</th>\n",
       "      <td>2744.058180</td>\n",
       "      <td>2.744729e+06</td>\n",
       "      <td>0.0</td>\n",
       "    </tr>\n",
       "  </tbody>\n",
       "</table>\n",
       "</div>"
      ],
      "text/plain": [
       "             rate    cumulative  iteration\n",
       "2021  5000.000000  0.000000e+00        0.0\n",
       "2022  3704.091103  1.576689e+06        0.0\n",
       "2023  2744.058180  2.744729e+06        0.0"
      ]
     },
     "execution_count": 27,
     "metadata": {},
     "output_type": "execute_result"
    }
   ],
   "source": [
    "dc1.forecast(start=from_time,end=to_time,freq_output='A')"
   ]
  },
  {
   "cell_type": "code",
   "execution_count": 28,
   "metadata": {},
   "outputs": [
    {
     "data": {
      "text/html": [
       "<div>\n",
       "<style scoped>\n",
       "    .dataframe tbody tr th:only-of-type {\n",
       "        vertical-align: middle;\n",
       "    }\n",
       "\n",
       "    .dataframe tbody tr th {\n",
       "        vertical-align: top;\n",
       "    }\n",
       "\n",
       "    .dataframe thead th {\n",
       "        text-align: right;\n",
       "    }\n",
       "</style>\n",
       "<table border=\"1\" class=\"dataframe\">\n",
       "  <thead>\n",
       "    <tr style=\"text-align: right;\">\n",
       "      <th>to</th>\n",
       "      <th>A</th>\n",
       "      <th>D</th>\n",
       "      <th>M</th>\n",
       "    </tr>\n",
       "    <tr>\n",
       "      <th>from</th>\n",
       "      <th></th>\n",
       "      <th></th>\n",
       "      <th></th>\n",
       "    </tr>\n",
       "  </thead>\n",
       "  <tbody>\n",
       "    <tr>\n",
       "      <th>A</th>\n",
       "      <td>1.0</td>\n",
       "      <td>0.002740</td>\n",
       "      <td>0.083333</td>\n",
       "    </tr>\n",
       "    <tr>\n",
       "      <th>D</th>\n",
       "      <td>365.0</td>\n",
       "      <td>1.000000</td>\n",
       "      <td>30.000000</td>\n",
       "    </tr>\n",
       "    <tr>\n",
       "      <th>M</th>\n",
       "      <td>12.0</td>\n",
       "      <td>0.033333</td>\n",
       "      <td>1.000000</td>\n",
       "    </tr>\n",
       "  </tbody>\n",
       "</table>\n",
       "</div>"
      ],
      "text/plain": [
       "to        A         D          M\n",
       "from                            \n",
       "A       1.0  0.002740   0.083333\n",
       "D     365.0  1.000000  30.000000\n",
       "M      12.0  0.033333   1.000000"
      ]
     },
     "execution_count": 28,
     "metadata": {},
     "output_type": "execute_result"
    }
   ],
   "source": [
    "dca.time_converter_matrix"
   ]
  },
  {
   "cell_type": "code",
   "execution_count": 29,
   "metadata": {},
   "outputs": [
    {
     "name": "stdout",
     "output_type": "stream",
     "text": [
      "['2021-01-01' '2021-02-05' '2021-06-17' '2098-08-21']\n"
     ]
    },
    {
     "name": "stderr",
     "output_type": "stream",
     "text": [
      "/home/scuervo/Documents/dev/dcapy/dcapy/dca/arps.py:76: RuntimeWarning: divide by zero encountered in true_divide\n",
      "  return qi/np.power(1+b*di*time_array,1/b)\n",
      "/home/scuervo/Documents/dev/dcapy/dcapy/dca/arps.py:99: RuntimeWarning: divide by zero encountered in true_divide\n",
      "  g = np.power(b*di*time_array+1,(b-1)/b)\n",
      "/home/scuervo/Documents/dev/dcapy/dcapy/dca/arps.py:100: RuntimeWarning: divide by zero encountered in true_divide\n",
      "  h = np.power(b*di*ti+1,(b-1)/b)\n"
     ]
    },
    {
     "data": {
      "text/html": [
       "<div>\n",
       "<style scoped>\n",
       "    .dataframe tbody tr th:only-of-type {\n",
       "        vertical-align: middle;\n",
       "    }\n",
       "\n",
       "    .dataframe tbody tr th {\n",
       "        vertical-align: top;\n",
       "    }\n",
       "\n",
       "    .dataframe thead th {\n",
       "        text-align: right;\n",
       "    }\n",
       "</style>\n",
       "<table border=\"1\" class=\"dataframe\">\n",
       "  <thead>\n",
       "    <tr style=\"text-align: right;\">\n",
       "      <th></th>\n",
       "      <th>rate</th>\n",
       "      <th>cumulative</th>\n",
       "      <th>iteration</th>\n",
       "    </tr>\n",
       "  </thead>\n",
       "  <tbody>\n",
       "    <tr>\n",
       "      <th>2021-01</th>\n",
       "      <td>5.000000e+03</td>\n",
       "      <td>0.000000e+00</td>\n",
       "      <td>0.0</td>\n",
       "    </tr>\n",
       "    <tr>\n",
       "      <th>2021-02</th>\n",
       "      <td>4.874212e+03</td>\n",
       "      <td>1.530420e+05</td>\n",
       "      <td>0.0</td>\n",
       "    </tr>\n",
       "    <tr>\n",
       "      <th>2021-06</th>\n",
       "      <td>4.416415e+03</td>\n",
       "      <td>7.100282e+05</td>\n",
       "      <td>0.0</td>\n",
       "    </tr>\n",
       "    <tr>\n",
       "      <th>2098-08</th>\n",
       "      <td>3.839821e-07</td>\n",
       "      <td>6.083333e+06</td>\n",
       "      <td>0.0</td>\n",
       "    </tr>\n",
       "  </tbody>\n",
       "</table>\n",
       "</div>"
      ],
      "text/plain": [
       "                 rate    cumulative  iteration\n",
       "2021-01  5.000000e+03  0.000000e+00        0.0\n",
       "2021-02  4.874212e+03  1.530420e+05        0.0\n",
       "2021-06  4.416415e+03  7.100282e+05        0.0\n",
       "2098-08  3.839821e-07  6.083333e+06        0.0"
      ]
     },
     "execution_count": 29,
     "metadata": {},
     "output_type": "execute_result"
    }
   ],
   "source": [
    "times = np.array([date(2021,1,1), date(2021,2,5), date(2021,6,17),date(2098,8,21)], dtype='datetime64')\n",
    "print(times)\n",
    "dc1.forecast(time_list=times)"
   ]
  },
  {
   "cell_type": "code",
   "execution_count": 30,
   "metadata": {},
   "outputs": [
    {
     "name": "stdout",
     "output_type": "stream",
     "text": [
      "Example Arps Class with probabilistic methods\n",
      "Declination \n",
      " Ti: 2021-01-01 \n",
      " Qi: <scipy.stats._distn_infrastructure.rv_frozen object at 0x7f6ce3da5670> bbl/d \n",
      " Di: [0.3] A \n",
      " b: [0]\n"
     ]
    }
   ],
   "source": [
    "print('Example Arps Class with probabilistic methods')\n",
    "#print(dca.time_converter_matrix)\n",
    "qi = stats.norm(loc=5000,scale=500)\n",
    "di = 0.3\n",
    "b = 0\n",
    "ti = date(2021,1,1)\n",
    "di_f = 'A'\n",
    "dc2 = dca.Arps(qi,di,b,ti,freq_di=di_f)\n",
    "print(dc2)"
   ]
  },
  {
   "cell_type": "code",
   "execution_count": 31,
   "metadata": {},
   "outputs": [
    {
     "name": "stderr",
     "output_type": "stream",
     "text": [
      "/home/scuervo/Documents/dev/dcapy/dcapy/dca/arps.py:76: RuntimeWarning: divide by zero encountered in true_divide\n",
      "  return qi/np.power(1+b*di*time_array,1/b)\n",
      "/home/scuervo/Documents/dev/dcapy/dcapy/dca/arps.py:99: RuntimeWarning: divide by zero encountered in true_divide\n",
      "  g = np.power(b*di*time_array+1,(b-1)/b)\n",
      "/home/scuervo/Documents/dev/dcapy/dcapy/dca/arps.py:100: RuntimeWarning: divide by zero encountered in true_divide\n",
      "  h = np.power(b*di*ti+1,(b-1)/b)\n"
     ]
    },
    {
     "data": {
      "text/html": [
       "<div>\n",
       "<style scoped>\n",
       "    .dataframe tbody tr th:only-of-type {\n",
       "        vertical-align: middle;\n",
       "    }\n",
       "\n",
       "    .dataframe tbody tr th {\n",
       "        vertical-align: top;\n",
       "    }\n",
       "\n",
       "    .dataframe thead th {\n",
       "        text-align: right;\n",
       "    }\n",
       "</style>\n",
       "<table border=\"1\" class=\"dataframe\">\n",
       "  <thead>\n",
       "    <tr style=\"text-align: right;\">\n",
       "      <th></th>\n",
       "      <th>rate</th>\n",
       "      <th>cumulative</th>\n",
       "      <th>iteration</th>\n",
       "    </tr>\n",
       "  </thead>\n",
       "  <tbody>\n",
       "    <tr>\n",
       "      <th>2021-01</th>\n",
       "      <td>5513.554808</td>\n",
       "      <td>0.000000e+00</td>\n",
       "      <td>0</td>\n",
       "    </tr>\n",
       "    <tr>\n",
       "      <th>2021-02</th>\n",
       "      <td>5374.847056</td>\n",
       "      <td>1.687611e+05</td>\n",
       "      <td>0</td>\n",
       "    </tr>\n",
       "    <tr>\n",
       "      <th>2021-03</th>\n",
       "      <td>5252.564430</td>\n",
       "      <td>3.175383e+05</td>\n",
       "      <td>0</td>\n",
       "    </tr>\n",
       "    <tr>\n",
       "      <th>2021-04</th>\n",
       "      <td>5120.422566</td>\n",
       "      <td>4.783109e+05</td>\n",
       "      <td>0</td>\n",
       "    </tr>\n",
       "    <tr>\n",
       "      <th>2021-05</th>\n",
       "      <td>4995.709449</td>\n",
       "      <td>6.300452e+05</td>\n",
       "      <td>0</td>\n",
       "    </tr>\n",
       "    <tr>\n",
       "      <th>2021-06</th>\n",
       "      <td>4870.029438</td>\n",
       "      <td>7.829559e+05</td>\n",
       "      <td>0</td>\n",
       "    </tr>\n",
       "    <tr>\n",
       "      <th>2021-07</th>\n",
       "      <td>4751.414901</td>\n",
       "      <td>9.272702e+05</td>\n",
       "      <td>0</td>\n",
       "    </tr>\n",
       "    <tr>\n",
       "      <th>2021-08</th>\n",
       "      <td>4631.880752</td>\n",
       "      <td>1.072703e+06</td>\n",
       "      <td>0</td>\n",
       "    </tr>\n",
       "    <tr>\n",
       "      <th>2021-09</th>\n",
       "      <td>4515.353794</td>\n",
       "      <td>1.214478e+06</td>\n",
       "      <td>0</td>\n",
       "    </tr>\n",
       "    <tr>\n",
       "      <th>2021-10</th>\n",
       "      <td>4405.377744</td>\n",
       "      <td>1.348282e+06</td>\n",
       "      <td>0</td>\n",
       "    </tr>\n",
       "    <tr>\n",
       "      <th>2021-11</th>\n",
       "      <td>4294.549056</td>\n",
       "      <td>1.483124e+06</td>\n",
       "      <td>0</td>\n",
       "    </tr>\n",
       "    <tr>\n",
       "      <th>2021-12</th>\n",
       "      <td>4189.950931</td>\n",
       "      <td>1.610385e+06</td>\n",
       "      <td>0</td>\n",
       "    </tr>\n",
       "    <tr>\n",
       "      <th>2022-01</th>\n",
       "      <td>4084.541863</td>\n",
       "      <td>1.738632e+06</td>\n",
       "      <td>0</td>\n",
       "    </tr>\n",
       "    <tr>\n",
       "      <th>2021-01</th>\n",
       "      <td>5440.549563</td>\n",
       "      <td>0.000000e+00</td>\n",
       "      <td>1</td>\n",
       "    </tr>\n",
       "    <tr>\n",
       "      <th>2021-02</th>\n",
       "      <td>5303.678446</td>\n",
       "      <td>1.665265e+05</td>\n",
       "      <td>1</td>\n",
       "    </tr>\n",
       "    <tr>\n",
       "      <th>2021-03</th>\n",
       "      <td>5183.014971</td>\n",
       "      <td>3.133338e+05</td>\n",
       "      <td>1</td>\n",
       "    </tr>\n",
       "    <tr>\n",
       "      <th>2021-04</th>\n",
       "      <td>5052.622804</td>\n",
       "      <td>4.719776e+05</td>\n",
       "      <td>1</td>\n",
       "    </tr>\n",
       "    <tr>\n",
       "      <th>2021-05</th>\n",
       "      <td>4929.561019</td>\n",
       "      <td>6.217027e+05</td>\n",
       "      <td>1</td>\n",
       "    </tr>\n",
       "    <tr>\n",
       "      <th>2021-06</th>\n",
       "      <td>4805.545143</td>\n",
       "      <td>7.725887e+05</td>\n",
       "      <td>1</td>\n",
       "    </tr>\n",
       "    <tr>\n",
       "      <th>2021-07</th>\n",
       "      <td>4688.501187</td>\n",
       "      <td>9.149922e+05</td>\n",
       "      <td>1</td>\n",
       "    </tr>\n",
       "    <tr>\n",
       "      <th>2021-08</th>\n",
       "      <td>4570.549795</td>\n",
       "      <td>1.058500e+06</td>\n",
       "      <td>1</td>\n",
       "    </tr>\n",
       "    <tr>\n",
       "      <th>2021-09</th>\n",
       "      <td>4455.565776</td>\n",
       "      <td>1.198397e+06</td>\n",
       "      <td>1</td>\n",
       "    </tr>\n",
       "    <tr>\n",
       "      <th>2021-10</th>\n",
       "      <td>4347.045925</td>\n",
       "      <td>1.330429e+06</td>\n",
       "      <td>1</td>\n",
       "    </tr>\n",
       "    <tr>\n",
       "      <th>2021-11</th>\n",
       "      <td>4237.684725</td>\n",
       "      <td>1.463486e+06</td>\n",
       "      <td>1</td>\n",
       "    </tr>\n",
       "    <tr>\n",
       "      <th>2021-12</th>\n",
       "      <td>4134.471588</td>\n",
       "      <td>1.589062e+06</td>\n",
       "      <td>1</td>\n",
       "    </tr>\n",
       "    <tr>\n",
       "      <th>2022-01</th>\n",
       "      <td>4030.458246</td>\n",
       "      <td>1.715611e+06</td>\n",
       "      <td>1</td>\n",
       "    </tr>\n",
       "  </tbody>\n",
       "</table>\n",
       "</div>"
      ],
      "text/plain": [
       "                rate    cumulative  iteration\n",
       "2021-01  5513.554808  0.000000e+00          0\n",
       "2021-02  5374.847056  1.687611e+05          0\n",
       "2021-03  5252.564430  3.175383e+05          0\n",
       "2021-04  5120.422566  4.783109e+05          0\n",
       "2021-05  4995.709449  6.300452e+05          0\n",
       "2021-06  4870.029438  7.829559e+05          0\n",
       "2021-07  4751.414901  9.272702e+05          0\n",
       "2021-08  4631.880752  1.072703e+06          0\n",
       "2021-09  4515.353794  1.214478e+06          0\n",
       "2021-10  4405.377744  1.348282e+06          0\n",
       "2021-11  4294.549056  1.483124e+06          0\n",
       "2021-12  4189.950931  1.610385e+06          0\n",
       "2022-01  4084.541863  1.738632e+06          0\n",
       "2021-01  5440.549563  0.000000e+00          1\n",
       "2021-02  5303.678446  1.665265e+05          1\n",
       "2021-03  5183.014971  3.133338e+05          1\n",
       "2021-04  5052.622804  4.719776e+05          1\n",
       "2021-05  4929.561019  6.217027e+05          1\n",
       "2021-06  4805.545143  7.725887e+05          1\n",
       "2021-07  4688.501187  9.149922e+05          1\n",
       "2021-08  4570.549795  1.058500e+06          1\n",
       "2021-09  4455.565776  1.198397e+06          1\n",
       "2021-10  4347.045925  1.330429e+06          1\n",
       "2021-11  4237.684725  1.463486e+06          1\n",
       "2021-12  4134.471588  1.589062e+06          1\n",
       "2022-01  4030.458246  1.715611e+06          1"
      ]
     },
     "execution_count": 31,
     "metadata": {},
     "output_type": "execute_result"
    }
   ],
   "source": [
    "dc2.forecast(start=date(2021,1,1), end=date(2022,1,1), n=2)"
   ]
  },
  {
   "cell_type": "code",
   "execution_count": 32,
   "metadata": {},
   "outputs": [
    {
     "name": "stderr",
     "output_type": "stream",
     "text": [
      "/home/scuervo/Documents/dev/dcapy/dcapy/dca/arps.py:76: RuntimeWarning: divide by zero encountered in true_divide\n",
      "  return qi/np.power(1+b*di*time_array,1/b)\n",
      "/home/scuervo/Documents/dev/dcapy/dcapy/dca/arps.py:99: RuntimeWarning: divide by zero encountered in true_divide\n",
      "  g = np.power(b*di*time_array+1,(b-1)/b)\n",
      "/home/scuervo/Documents/dev/dcapy/dcapy/dca/arps.py:100: RuntimeWarning: divide by zero encountered in true_divide\n",
      "  h = np.power(b*di*ti+1,(b-1)/b)\n"
     ]
    },
    {
     "data": {
      "image/png": "[encoded data removed]",
      "text/plain": [
       "<Figure size 432x288 with 1 Axes>"
      ]
     },
     "metadata": {
      "needs_background": "light"
     },
     "output_type": "display_data"
    }
   ],
   "source": [
    "dc2.plot(start=date(2021,1,1), end=date(2022,1,1), n=8)"
   ]
  },
  {
   "cell_type": "code",
   "execution_count": 33,
   "metadata": {},
   "outputs": [
    {
     "name": "stdout",
     "output_type": "stream",
     "text": [
      "Example Arps Class with probabilistic methods\n",
      "Declination \n",
      " Ti: 2021-01-01 \n",
      " Qi: [1000] bbl/d \n",
      " Di: [0.6] A \n",
      " b: <scipy.stats._distn_infrastructure.rv_frozen object at 0x7f6ce3ccfe50>\n"
     ]
    }
   ],
   "source": [
    "print('Example Arps Class with probabilistic methods')\n",
    "#print(dca.time_converter_matrix)\n",
    "qi = 1000\n",
    "di = 0.6\n",
    "b = stats.uniform(loc=0,scale=1)\n",
    "ti = date(2021,1,1)\n",
    "di_f = 'A'\n",
    "dc3 = dca.Arps(qi,di,b,ti,freq_di=di_f)\n",
    "print(dc3)"
   ]
  },
  {
   "cell_type": "code",
   "execution_count": null,
   "metadata": {},
   "outputs": [],
   "source": [
    "dc3.plot(start=date(2021,1,1), end=date(2022,1,1), n=8)"
   ]
  },
  {
   "cell_type": "code",
   "execution_count": null,
   "metadata": {},
   "outputs": [],
   "source": []
  }
 ],
 "metadata": {
  "kernelspec": {
   "display_name": "Python 3",
   "language": "python",
   "name": "python3"
  },
  "language_info": {
   "codemirror_mode": {
    "name": "ipython",
    "version": 3
   },
   "file_extension": ".py",
   "mimetype": "text/x-python",
   "name": "python",
   "nbconvert_exporter": "python",
   "pygments_lexer": "ipython3",
   "version": "3.8.6"
  }
 },
 "nbformat": 4,
 "nbformat_minor": 2
}
