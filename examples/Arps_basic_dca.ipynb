{
 "cells": [
  {
   "cell_type": "code",
   "execution_count": 1,
   "metadata": {},
   "outputs": [
    {
     "name": "stdout",
     "output_type": "stream",
     "text": [
      "/home/scuervo/Documents/dev/dcapy\n",
      "/home/scuervo/anaconda3/envs/res/bin/python\n"
     ]
    }
   ],
   "source": [
    "import os\n",
    "path = os.path.abspath(os.path.join('..'))\n",
    "print(path)\n",
    "import sys\n",
    "\n",
    "sys.path.insert(0,path)\n",
    "print(sys.executable)"
   ]
  },
  {
   "cell_type": "code",
   "execution_count": 2,
   "metadata": {},
   "outputs": [],
   "source": [
    "from dcapy import dca\n",
    "import numpy as np \n",
    "import pandas as pd\n",
    "from datetime import date\n",
    "import matplotlib.pyplot as plt\n",
    "import seaborn as sns \n",
    "from scipy import stats"
   ]
  },
  {
   "cell_type": "markdown",
   "metadata": {},
   "source": [
    "# dcapy Basis Examples to try"
   ]
  },
  {
   "cell_type": "markdown",
   "metadata": {},
   "source": [
    "## Basics Equations\n",
    "\n",
    "First Section will explore the Arps Declination Analysis equations. \n",
    "Starting from Equations used to calculate rate then cumulatives.\n",
    "\n",
    "The library numpy is used to performed the majority of operations"
   ]
  },
  {
   "cell_type": "markdown",
   "metadata": {},
   "source": [
    "### Exponential b = 0, Examples\n",
    "\n",
    "The time array used with this function is relative to a Initial Time which is always 0"
   ]
  },
  {
   "cell_type": "code",
   "execution_count": 3,
   "metadata": {},
   "outputs": [
    {
     "data": {
      "text/plain": [
       "array([500.        , 274.40581805, 203.28482987, 150.59710596,\n",
       "        24.89353418])"
      ]
     },
     "execution_count": 3,
     "metadata": {},
     "output_type": "execute_result"
    }
   ],
   "source": [
    "time1 = [0,2,3,4,10]\n",
    "qi1 = 500\n",
    "di1 = 0.3 \n",
    "dca.arps_exp_rate(time1,qi1,di1)"
   ]
  },
  {
   "cell_type": "markdown",
   "metadata": {},
   "source": [
    "Cumulative volume can be calculated  for any timestep"
   ]
  },
  {
   "cell_type": "code",
   "execution_count": 4,
   "metadata": {},
   "outputs": [
    {
     "data": {
      "text/plain": [
       "array([   0.        ,  751.98060651,  989.0505671 , 1164.67631348,\n",
       "       1583.68821939])"
      ]
     },
     "execution_count": 4,
     "metadata": {},
     "output_type": "execute_result"
    }
   ],
   "source": [
    "dca.arps_exp_cumulative(time1,qi1,di1)\n"
   ]
  },
  {
   "cell_type": "markdown",
   "metadata": {},
   "source": [
    "### Hyperbolic 0<b<1, Examples\n",
    "\n",
    "The time array used with this function is relative to a Initial Time which is always 0"
   ]
  },
  {
   "cell_type": "code",
   "execution_count": 5,
   "metadata": {},
   "outputs": [
    {
     "data": {
      "text/plain": [
       "array([500.        , 295.85798817, 237.81212842, 195.3125    ,\n",
       "        80.        ])"
      ]
     },
     "execution_count": 5,
     "metadata": {},
     "output_type": "execute_result"
    }
   ],
   "source": [
    "b = 0.5\n",
    "dca.arps_hyp_rate(time1,qi1,di1,b)"
   ]
  },
  {
   "cell_type": "code",
   "execution_count": 6,
   "metadata": {},
   "outputs": [
    {
     "data": {
      "text/plain": [
       "array([  -0.        ,  769.23076923, 1034.48275862, 1250.        ,\n",
       "       2000.        ])"
      ]
     },
     "execution_count": 6,
     "metadata": {},
     "output_type": "execute_result"
    }
   ],
   "source": [
    "dca.arps_hyp_cumulative(time1,qi1,di1,b,ti=0)"
   ]
  },
  {
   "cell_type": "markdown",
   "metadata": {},
   "source": [
    "### Armonic, Examples\n",
    "\n",
    "The time array used with this function is relative to a Initial Time which is always 0"
   ]
  },
  {
   "cell_type": "code",
   "execution_count": 7,
   "metadata": {},
   "outputs": [
    {
     "data": {
      "text/plain": [
       "array([500.        , 312.5       , 263.15789474, 227.27272727,\n",
       "       125.        ])"
      ]
     },
     "execution_count": 7,
     "metadata": {},
     "output_type": "execute_result"
    }
   ],
   "source": [
    "b = 1\n",
    "dca.arps_hyp_rate(time1,qi1,di1,b)"
   ]
  },
  {
   "cell_type": "code",
   "execution_count": 8,
   "metadata": {},
   "outputs": [
    {
     "data": {
      "text/plain": [
       "array([   0.        ,  783.33938208, 1069.75647695, 1314.09560061,\n",
       "       2310.49060187])"
      ]
     },
     "execution_count": 8,
     "metadata": {},
     "output_type": "execute_result"
    }
   ],
   "source": [
    "dca.arps_arm_cumulative(time1,qi1,di1,b,ti=0)"
   ]
  },
  {
   "cell_type": "markdown",
   "metadata": {},
   "source": [
    "## Use arps_forecast and arps_cumulative \n",
    "independently of the b. It internally uses the appropiate equation"
   ]
  },
  {
   "cell_type": "code",
   "execution_count": 9,
   "metadata": {},
   "outputs": [
    {
     "name": "stdout",
     "output_type": "stream",
     "text": [
      "Examples Arps Forecast function\n",
      "Example 1. Single Values\n",
      "Forecast Example 1\n",
      "[500.         274.40581805 150.59710596  82.64944411]\n"
     ]
    },
    {
     "name": "stderr",
     "output_type": "stream",
     "text": [
      "/home/scuervo/Documents/dev/dcapy/dcapy/dca/arps.py:78: RuntimeWarning: divide by zero encountered in true_divide\n",
      "  return qi/np.power(1+b*di*time_array,1/b)\n"
     ]
    }
   ],
   "source": [
    "print('Examples Arps Forecast function')\n",
    "\n",
    "print('Example 1. Single Values')\n",
    "time1 = [0,2,4,6]\n",
    "qi1 = 500,\n",
    "di1 = 0.3\n",
    "b1 = 0 \n",
    "f1 = dca.arps_forecast(time1,qi1,di1,b1)\n",
    "print('Forecast Example 1')\n",
    "print(f1)\n"
   ]
  },
  {
   "cell_type": "code",
   "execution_count": 10,
   "metadata": {
    "scrolled": true
   },
   "outputs": [
    {
     "name": "stderr",
     "output_type": "stream",
     "text": [
      "/home/scuervo/Documents/dev/dcapy/dcapy/dca/arps.py:101: RuntimeWarning: divide by zero encountered in true_divide\n",
      "  g = np.power(b*di*time_array+1,(b-1)/b)\n",
      "/home/scuervo/Documents/dev/dcapy/dcapy/dca/arps.py:102: RuntimeWarning: divide by zero encountered in true_divide\n",
      "  h = np.power(b*di*ti+1,(b-1)/b)\n"
     ]
    },
    {
     "data": {
      "text/plain": [
       "array([   0.        ,  751.98060651, 1164.67631348, 1391.16851963])"
      ]
     },
     "execution_count": 10,
     "metadata": {},
     "output_type": "execute_result"
    }
   ],
   "source": [
    "dca.arps_cumulative(time1,qi1,di1,b1)"
   ]
  },
  {
   "cell_type": "code",
   "execution_count": 11,
   "metadata": {},
   "outputs": [
    {
     "name": "stdout",
     "output_type": "stream",
     "text": [
      "\n",
      "Example 2. Multiple values\n",
      " ->Time array [0, 1, 2, 3]\n",
      " ->qi [600, 700, 900]\n",
      " -> di 0.3\n",
      " b [0, 0.5, 1]\n",
      "Forecast Example 2\n",
      "[[600.         700.         900.        ]\n",
      " [444.49093241 529.30056711 692.30769231]\n",
      " [329.28698166 414.20118343 562.5       ]\n",
      " [243.94179584 332.93697979 473.68421053]]\n"
     ]
    },
    {
     "data": {
      "text/plain": [
       "(4, 3)"
      ]
     },
     "execution_count": 11,
     "metadata": {},
     "output_type": "execute_result"
    }
   ],
   "source": [
    "print('\\nExample 2. Multiple values')\n",
    "time2 = [0,1,2,3]\n",
    "qi2 = [600,700,900]\n",
    "di2 = 0.3\n",
    "b2 = [0,0.5,1]\n",
    "print(f' ->Time array {time2}\\n ->qi {qi2}\\n -> di {di2}\\n b {b2}')    \n",
    "f2 = dca.arps_forecast(time2,qi2,di2,b2)\n",
    "print('Forecast Example 2')\n",
    "print(f2)\n",
    "f2.shape"
   ]
  },
  {
   "cell_type": "code",
   "execution_count": 12,
   "metadata": {},
   "outputs": [
    {
     "name": "stderr",
     "output_type": "stream",
     "text": [
      "/home/scuervo/Documents/dev/dcapy/dcapy/dca/arps.py:100: RuntimeWarning: divide by zero encountered in true_divide\n",
      "  f = qi/(di*(b-1))\n",
      "/home/scuervo/Documents/dev/dcapy/dcapy/dca/arps.py:103: RuntimeWarning: invalid value encountered in multiply\n",
      "  return f*(g-h)\n"
     ]
    },
    {
     "data": {
      "text/plain": [
       "array([[   0.        ,   -0.        ,    0.        ],\n",
       "       [ 518.36355864,  608.69565217,  787.0927934 ],\n",
       "       [ 902.37672781, 1076.92307692, 1410.01088774],\n",
       "       [1186.86068052, 1448.27586207, 1925.56165852]])"
      ]
     },
     "execution_count": 12,
     "metadata": {},
     "output_type": "execute_result"
    }
   ],
   "source": [
    "dca.arps_cumulative(time2,qi2,di2,b2)"
   ]
  },
  {
   "cell_type": "code",
   "execution_count": 13,
   "metadata": {},
   "outputs": [
    {
     "name": "stderr",
     "output_type": "stream",
     "text": [
      "/home/scuervo/Documents/dev/dcapy/dcapy/dca/arps.py:272: RuntimeWarning: invalid value encountered in true_divide\n",
      "  (np.power(qi / rate, b) - 1)/(b * di)\n"
     ]
    },
    {
     "data": {
      "text/plain": [
       "array([ 6, 15])"
      ]
     },
     "execution_count": 13,
     "metadata": {},
     "output_type": "execute_result"
    }
   ],
   "source": [
    "dca.arps_rate_time([4000,5000],[0.3,0.6],[0,1],500)"
   ]
  },
  {
   "cell_type": "markdown",
   "metadata": {},
   "source": [
    "# Arps Class"
   ]
  },
  {
   "cell_type": "code",
   "execution_count": 14,
   "metadata": {},
   "outputs": [
    {
     "data": {
      "text/html": [
       "<div>\n",
       "<style scoped>\n",
       "    .dataframe tbody tr th:only-of-type {\n",
       "        vertical-align: middle;\n",
       "    }\n",
       "\n",
       "    .dataframe tbody tr th {\n",
       "        vertical-align: top;\n",
       "    }\n",
       "\n",
       "    .dataframe thead th {\n",
       "        text-align: right;\n",
       "    }\n",
       "</style>\n",
       "<table border=\"1\" class=\"dataframe\">\n",
       "  <thead>\n",
       "    <tr style=\"text-align: right;\">\n",
       "      <th></th>\n",
       "      <th>rate</th>\n",
       "      <th>cumulative</th>\n",
       "      <th>iteration</th>\n",
       "      <th>volume</th>\n",
       "      <th>fluid_rate</th>\n",
       "      <th>water_rate</th>\n",
       "      <th>bsw</th>\n",
       "      <th>wor</th>\n",
       "      <th>water_cum</th>\n",
       "      <th>fluid_cum</th>\n",
       "    </tr>\n",
       "  </thead>\n",
       "  <tbody>\n",
       "    <tr>\n",
       "      <th>2021-01</th>\n",
       "      <td>800.000000</td>\n",
       "      <td>0.000000</td>\n",
       "      <td>0</td>\n",
       "      <td>0.000000</td>\n",
       "      <td>1000.0</td>\n",
       "      <td>200.000000</td>\n",
       "      <td>0.200000</td>\n",
       "      <td>0.250000</td>\n",
       "      <td>0.000000</td>\n",
       "      <td>0.0</td>\n",
       "    </tr>\n",
       "    <tr>\n",
       "      <th>2021-02</th>\n",
       "      <td>779.873928</td>\n",
       "      <td>24486.721159</td>\n",
       "      <td>0</td>\n",
       "      <td>24486.721159</td>\n",
       "      <td>1000.0</td>\n",
       "      <td>220.126072</td>\n",
       "      <td>0.220126</td>\n",
       "      <td>0.282259</td>\n",
       "      <td>6823.908238</td>\n",
       "      <td>31000.0</td>\n",
       "    </tr>\n",
       "    <tr>\n",
       "      <th>2021-03</th>\n",
       "      <td>762.131092</td>\n",
       "      <td>46073.838672</td>\n",
       "      <td>0</td>\n",
       "      <td>21587.117513</td>\n",
       "      <td>1000.0</td>\n",
       "      <td>237.868908</td>\n",
       "      <td>0.237869</td>\n",
       "      <td>0.312110</td>\n",
       "      <td>13484.237676</td>\n",
       "      <td>59000.0</td>\n",
       "    </tr>\n",
       "    <tr>\n",
       "      <th>2021-04</th>\n",
       "      <td>742.957710</td>\n",
       "      <td>69401.453077</td>\n",
       "      <td>0</td>\n",
       "      <td>23327.614405</td>\n",
       "      <td>1000.0</td>\n",
       "      <td>257.042290</td>\n",
       "      <td>0.257042</td>\n",
       "      <td>0.345972</td>\n",
       "      <td>21452.548672</td>\n",
       "      <td>90000.0</td>\n",
       "    </tr>\n",
       "    <tr>\n",
       "      <th>2021-05</th>\n",
       "      <td>724.862217</td>\n",
       "      <td>91417.636508</td>\n",
       "      <td>0</td>\n",
       "      <td>22016.183431</td>\n",
       "      <td>1000.0</td>\n",
       "      <td>275.137783</td>\n",
       "      <td>0.275138</td>\n",
       "      <td>0.379573</td>\n",
       "      <td>29706.682175</td>\n",
       "      <td>120000.0</td>\n",
       "    </tr>\n",
       "    <tr>\n",
       "      <th>2021-06</th>\n",
       "      <td>706.626430</td>\n",
       "      <td>113604.510228</td>\n",
       "      <td>0</td>\n",
       "      <td>22186.873720</td>\n",
       "      <td>1000.0</td>\n",
       "      <td>293.373570</td>\n",
       "      <td>0.293374</td>\n",
       "      <td>0.415175</td>\n",
       "      <td>38801.262846</td>\n",
       "      <td>151000.0</td>\n",
       "    </tr>\n",
       "  </tbody>\n",
       "</table>\n",
       "</div>"
      ],
      "text/plain": [
       "               rate     cumulative  iteration        volume  fluid_rate  \\\n",
       "2021-01  800.000000       0.000000          0      0.000000      1000.0   \n",
       "2021-02  779.873928   24486.721159          0  24486.721159      1000.0   \n",
       "2021-03  762.131092   46073.838672          0  21587.117513      1000.0   \n",
       "2021-04  742.957710   69401.453077          0  23327.614405      1000.0   \n",
       "2021-05  724.862217   91417.636508          0  22016.183431      1000.0   \n",
       "2021-06  706.626430  113604.510228          0  22186.873720      1000.0   \n",
       "\n",
       "         water_rate       bsw       wor     water_cum  fluid_cum  \n",
       "2021-01  200.000000  0.200000  0.250000      0.000000        0.0  \n",
       "2021-02  220.126072  0.220126  0.282259   6823.908238    31000.0  \n",
       "2021-03  237.868908  0.237869  0.312110  13484.237676    59000.0  \n",
       "2021-04  257.042290  0.257042  0.345972  21452.548672    90000.0  \n",
       "2021-05  275.137783  0.275138  0.379573  29706.682175   120000.0  \n",
       "2021-06  293.373570  0.293374  0.415175  38801.262846   151000.0  "
      ]
     },
     "execution_count": 14,
     "metadata": {},
     "output_type": "execute_result"
    }
   ],
   "source": [
    " dca_data = {\n",
    "    'ti':'2021-01-01',\n",
    "    'di':0.3,\n",
    "    'freq_di':'A',\n",
    "    'qi':800,\n",
    "    'b':0,\n",
    "    'fluid_rate':1000\n",
    "}\n",
    "    \n",
    "dca_ex = dca.Arps(**dca_data)\n",
    "fr_params = {'start':date(2021,1,1),\n",
    "    'end':date(2021,6,28),\n",
    "    'freq_input':'D',\n",
    "    'freq_output':'M'}\n",
    "\n",
    "\n",
    "dca_ex.forecast(**fr_params)"
   ]
  },
  {
   "cell_type": "code",
   "execution_count": 15,
   "metadata": {},
   "outputs": [
    {
     "name": "stderr",
     "output_type": "stream",
     "text": [
      "/home/scuervo/Documents/dev/dcapy/dcapy/dca/arps.py:101: RuntimeWarning: divide by zero encountered in true_divide\n",
      "  g = np.power(b*di*time_array+1,(b-1)/b)\n",
      "/home/scuervo/Documents/dev/dcapy/dcapy/dca/arps.py:102: RuntimeWarning: divide by zero encountered in true_divide\n",
      "  h = np.power(b*di*ti+1,(b-1)/b)\n"
     ]
    },
    {
     "data": {
      "text/plain": [
       "array([     0.        ,  24486.72115879,  46073.83867164,  69401.45307673,\n",
       "        91417.63650796, 113604.51022754])"
      ]
     },
     "execution_count": 15,
     "metadata": {},
     "output_type": "execute_result"
    }
   ],
   "source": [
    "dca.arps_cumulative([0,  31,  59,  90, 120, 151],800,0.3/365,0)"
   ]
  },
  {
   "cell_type": "code",
   "execution_count": 16,
   "metadata": {},
   "outputs": [
    {
     "name": "stdout",
     "output_type": "stream",
     "text": [
      "Example Arps Class\n",
      "Declination \n",
      " Ti: 0 \n",
      " Qi: [4000.0, 5000.0] bbl/d \n",
      " Di: 0.3 A \n",
      " b: 0.0\n"
     ]
    }
   ],
   "source": [
    "print('Example Arps Class')\n",
    "#print(dca.time_converter_matrix)\n",
    "qi = [4000,5000]\n",
    "di = 0.3\n",
    "b = 0\n",
    "ti = 0\n",
    "di_f = 'A'\n",
    "dc = dca.Arps(qi=qi,di=di,b=b,ti=ti,freq_di=di_f)\n",
    "print(dc)"
   ]
  },
  {
   "cell_type": "code",
   "execution_count": 17,
   "metadata": {},
   "outputs": [
    {
     "name": "stderr",
     "output_type": "stream",
     "text": [
      "/home/scuervo/Documents/dev/dcapy/dcapy/dca/arps.py:78: RuntimeWarning: divide by zero encountered in true_divide\n",
      "  return qi/np.power(1+b*di*time_array,1/b)\n",
      "/home/scuervo/Documents/dev/dcapy/dcapy/dca/arps.py:78: RuntimeWarning: divide by zero encountered in true_divide\n",
      "  return qi/np.power(1+b*di*time_array,1/b)\n",
      "/home/scuervo/Documents/dev/dcapy/dcapy/dca/arps.py:101: RuntimeWarning: divide by zero encountered in true_divide\n",
      "  g = np.power(b*di*time_array+1,(b-1)/b)\n",
      "/home/scuervo/Documents/dev/dcapy/dcapy/dca/arps.py:102: RuntimeWarning: divide by zero encountered in true_divide\n",
      "  h = np.power(b*di*ti+1,(b-1)/b)\n"
     ]
    },
    {
     "name": "stdout",
     "output_type": "stream",
     "text": [
      "Calculate Daily Basis each day\n",
      "           rate     cumulative  iteration       volume\n",
      "28  3908.996387  110721.062689          0  3910.603264\n",
      "29  3905.784833  114628.453079          0  3907.390390\n",
      "30  3902.575918  118532.633235          0  3904.180156\n"
     ]
    },
    {
     "data": {
      "image/png": "[encoded data removed]",
      "text/plain": [
       "<Figure size 432x288 with 1 Axes>"
      ]
     },
     "metadata": {
      "needs_background": "light"
     },
     "output_type": "display_data"
    }
   ],
   "source": [
    "print('Calculate Daily Basis each day')\n",
    "#print(dc.forecast(start=0,end=1000,freq_input='D',freq_output='D'))\n",
    "dd = dc.forecast(start=0,end=365,freq_input='D',freq_output='D')\n",
    "print(dd[28:31])\n",
    "#print(dc.forecast(start=0,end=365,freq_input='D',freq_output='D').head(10))\n",
    "dc.plot(start=0,end=365,freq_input='D',freq_output='D')"
   ]
  },
  {
   "cell_type": "code",
   "execution_count": 18,
   "metadata": {},
   "outputs": [
    {
     "name": "stdout",
     "output_type": "stream",
     "text": [
      "Calculate Daily Basis each Month\n",
      "            rate    cumulative  iteration         volume\n",
      "0    4000.000000  0.000000e+00          0       0.000000\n",
      "30   3902.575918  1.185326e+05          0  118532.633235\n",
      "60   3807.524699  2.341783e+05          0  115645.649987\n",
      "90   3714.788549  3.470073e+05          0  112828.982162\n",
      "120  3624.311083  4.570882e+05          0  110080.917156\n",
      "150  3536.037288  5.644880e+05          0  107399.784078\n",
      "180  3449.913491  6.692719e+05          0  104783.952732\n",
      "210  3365.887327  7.715038e+05          0  102231.832629\n",
      "240  3283.907706  8.712456e+05          0   99741.872015\n",
      "270  3203.924783  9.685582e+05          0   97312.556932\n",
      "300  3125.889925  1.063501e+06          0   94942.410298\n",
      "330  3049.755686  1.156131e+06          0   92629.991004\n",
      "360  2975.475774  1.246504e+06          0   90373.893042\n",
      "0    5000.000000  0.000000e+00          1       0.000000\n",
      "30   4878.219897  1.481658e+05          1  148165.791544\n",
      "60   4759.405873  2.927229e+05          1  144557.062484\n",
      "90   4643.485686  4.337591e+05          1  141036.227702\n",
      "120  4530.388854  5.713602e+05          1  137601.146445\n",
      "150  4420.046610  7.056100e+05          1  134249.730098\n",
      "180  4312.391864  8.365899e+05          1  130979.940916\n",
      "210  4207.359159  9.643797e+05          1  127789.790786\n",
      "240  4104.884633  1.089057e+06          1  124677.340018\n",
      "270  4004.905979  1.210698e+06          1  121640.696165\n",
      "300  3907.362406  1.329376e+06          1  118678.012873\n",
      "330  3812.194607  1.445163e+06          1  115787.488755\n",
      "360  3719.344717  1.558131e+06          1  112967.366302\n"
     ]
    },
    {
     "name": "stderr",
     "output_type": "stream",
     "text": [
      "/home/scuervo/Documents/dev/dcapy/dcapy/dca/arps.py:78: RuntimeWarning: divide by zero encountered in true_divide\n",
      "  return qi/np.power(1+b*di*time_array,1/b)\n",
      "/home/scuervo/Documents/dev/dcapy/dcapy/dca/arps.py:101: RuntimeWarning: divide by zero encountered in true_divide\n",
      "  g = np.power(b*di*time_array+1,(b-1)/b)\n",
      "/home/scuervo/Documents/dev/dcapy/dcapy/dca/arps.py:102: RuntimeWarning: divide by zero encountered in true_divide\n",
      "  h = np.power(b*di*ti+1,(b-1)/b)\n",
      "/home/scuervo/Documents/dev/dcapy/dcapy/dca/arps.py:78: RuntimeWarning: divide by zero encountered in true_divide\n",
      "  return qi/np.power(1+b*di*time_array,1/b)\n",
      "/home/scuervo/Documents/dev/dcapy/dcapy/dca/arps.py:101: RuntimeWarning: divide by zero encountered in true_divide\n",
      "  g = np.power(b*di*time_array+1,(b-1)/b)\n",
      "/home/scuervo/Documents/dev/dcapy/dcapy/dca/arps.py:102: RuntimeWarning: divide by zero encountered in true_divide\n",
      "  h = np.power(b*di*ti+1,(b-1)/b)\n"
     ]
    },
    {
     "data": {
      "image/png": "[encoded data removed]",
      "text/plain": [
       "<Figure size 432x288 with 1 Axes>"
      ]
     },
     "metadata": {
      "needs_background": "light"
     },
     "output_type": "display_data"
    }
   ],
   "source": [
    "print('Calculate Daily Basis each Month')\n",
    "print(dc.forecast(start=0,end=365,freq_input='D',freq_output='M'))\n",
    "dc.plot(start=0,end=365,freq_input='D',freq_output='M',rate_kw={'color':'red'})\n"
   ]
  },
  {
   "cell_type": "code",
   "execution_count": 19,
   "metadata": {},
   "outputs": [
    {
     "name": "stdout",
     "output_type": "stream",
     "text": [
      "Calculate Daily Basis each Year\n",
      "            rate    cumulative  iteration        volume\n",
      "0    4000.000000  0.000000e+00          0  0.000000e+00\n",
      "365  2963.272883  1.261351e+06          0  1.261351e+06\n",
      "0    5000.000000  0.000000e+00          1  0.000000e+00\n",
      "365  3704.091103  1.576689e+06          1  1.576689e+06\n"
     ]
    },
    {
     "name": "stderr",
     "output_type": "stream",
     "text": [
      "/home/scuervo/Documents/dev/dcapy/dcapy/dca/arps.py:78: RuntimeWarning: divide by zero encountered in true_divide\n",
      "  return qi/np.power(1+b*di*time_array,1/b)\n",
      "/home/scuervo/Documents/dev/dcapy/dcapy/dca/arps.py:101: RuntimeWarning: divide by zero encountered in true_divide\n",
      "  g = np.power(b*di*time_array+1,(b-1)/b)\n",
      "/home/scuervo/Documents/dev/dcapy/dcapy/dca/arps.py:102: RuntimeWarning: divide by zero encountered in true_divide\n",
      "  h = np.power(b*di*ti+1,(b-1)/b)\n",
      "/home/scuervo/Documents/dev/dcapy/dcapy/dca/arps.py:78: RuntimeWarning: divide by zero encountered in true_divide\n",
      "  return qi/np.power(1+b*di*time_array,1/b)\n",
      "/home/scuervo/Documents/dev/dcapy/dcapy/dca/arps.py:101: RuntimeWarning: divide by zero encountered in true_divide\n",
      "  g = np.power(b*di*time_array+1,(b-1)/b)\n",
      "/home/scuervo/Documents/dev/dcapy/dcapy/dca/arps.py:102: RuntimeWarning: divide by zero encountered in true_divide\n",
      "  h = np.power(b*di*ti+1,(b-1)/b)\n"
     ]
    },
    {
     "data": {
      "image/png": "[encoded data removed]",
      "text/plain": [
       "<Figure size 432x288 with 1 Axes>"
      ]
     },
     "metadata": {
      "needs_background": "light"
     },
     "output_type": "display_data"
    }
   ],
   "source": [
    "print('Calculate Daily Basis each Year')\n",
    "print(dc.forecast(start=0,end=366,freq_input='D',freq_output='A'))\n",
    "dc.plot(start=0,end=366,freq_input='D',freq_output='A',rate_kw=dict(color='blue',linestyle='-',linewidth=2))"
   ]
  },
  {
   "cell_type": "code",
   "execution_count": 20,
   "metadata": {},
   "outputs": [
    {
     "name": "stdout",
     "output_type": "stream",
     "text": [
      "Calculate Monthly Basis each Month\n",
      "           rate    cumulative  iteration         volume\n",
      "0   4000.000000  0.000000e+00          0       0.000000\n",
      "1   3901.239648  1.185124e+05          0  118512.422264\n",
      "2   3804.917698  2.340988e+05          0  115586.340133\n",
      "3   3710.973945  3.468313e+05          0  112732.503226\n",
      "4   3619.349672  4.567804e+05          0  109949.127804\n",
      "5   3529.987610  5.640149e+05          0  107234.474167\n",
      "6   3442.831906  6.686017e+05          0  104586.845566\n",
      "7   3357.828083  7.706063e+05          0  102004.587148\n",
      "8   3274.923012  8.700924e+05          0   99486.084918\n",
      "9   3194.064875  9.671221e+05          0   97029.764729\n",
      "10  3115.203132  1.061756e+06          0   94634.091302\n",
      "11  3038.288493  1.154054e+06          0   92297.567263\n",
      "12  2963.272883  1.244073e+06          0   90018.732208\n",
      "0   5000.000000  0.000000e+00          1       0.000000\n",
      "1   4876.549560  1.481405e+05          1  148140.527830\n",
      "2   4756.147123  2.926235e+05          1  144482.925166\n",
      "3   4638.717432  4.335391e+05          1  140915.629033\n",
      "4   4524.187090  5.709755e+05          1  137436.409756\n",
      "5   4412.484513  7.050186e+05          1  134043.092708\n",
      "6   4303.539882  8.357521e+05          1  130733.556957\n",
      "7   4197.285104  9.632579e+05          1  127505.733935\n",
      "8   4093.653765  1.087615e+06          1  124357.606147\n",
      "9   3992.581094  1.208903e+06          1  121287.205912\n",
      "10  3894.003915  1.327195e+06          1  118292.614128\n",
      "11  3797.860616  1.442567e+06          1  115371.959079\n",
      "12  3704.091103  1.555091e+06          1  112523.415260\n"
     ]
    },
    {
     "name": "stderr",
     "output_type": "stream",
     "text": [
      "/home/scuervo/Documents/dev/dcapy/dcapy/dca/arps.py:78: RuntimeWarning: divide by zero encountered in true_divide\n",
      "  return qi/np.power(1+b*di*time_array,1/b)\n",
      "/home/scuervo/Documents/dev/dcapy/dcapy/dca/arps.py:101: RuntimeWarning: divide by zero encountered in true_divide\n",
      "  g = np.power(b*di*time_array+1,(b-1)/b)\n",
      "/home/scuervo/Documents/dev/dcapy/dcapy/dca/arps.py:102: RuntimeWarning: divide by zero encountered in true_divide\n",
      "  h = np.power(b*di*ti+1,(b-1)/b)\n",
      "/home/scuervo/Documents/dev/dcapy/dcapy/dca/arps.py:78: RuntimeWarning: divide by zero encountered in true_divide\n",
      "  return qi/np.power(1+b*di*time_array,1/b)\n",
      "/home/scuervo/Documents/dev/dcapy/dcapy/dca/arps.py:101: RuntimeWarning: divide by zero encountered in true_divide\n",
      "  g = np.power(b*di*time_array+1,(b-1)/b)\n",
      "/home/scuervo/Documents/dev/dcapy/dcapy/dca/arps.py:102: RuntimeWarning: divide by zero encountered in true_divide\n",
      "  h = np.power(b*di*ti+1,(b-1)/b)\n"
     ]
    },
    {
     "data": {
      "text/plain": [
       "Text(0, 0.5, 'Rate [bbl/d]')"
      ]
     },
     "execution_count": 20,
     "metadata": {},
     "output_type": "execute_result"
    },
    {
     "data": {
      "image/png": "[encoded data removed]",
      "text/plain": [
       "<Figure size 432x288 with 2 Axes>"
      ]
     },
     "metadata": {
      "needs_background": "light"
     },
     "output_type": "display_data"
    }
   ],
   "source": [
    "print('Calculate Monthly Basis each Month')\n",
    "print(dc.forecast(start=0,end=13,freq_input='M',freq_output='M'))\n",
    "\n",
    "fig, ax = plt.subplots()\n",
    "dc.plot(start=0,end=13,freq_input='M',freq_output='M',cum=True,ax=ax)\n",
    "ax.set_title('Calculate Monthly Basis each Month',fontsize=14)\n",
    "ax.set_xlabel('Time [Years]')\n",
    "ax.set_ylabel('Rate [bbl/d]')"
   ]
  },
  {
   "cell_type": "code",
   "execution_count": 21,
   "metadata": {},
   "outputs": [
    {
     "name": "stdout",
     "output_type": "stream",
     "text": [
      "Calculate Monthly Basis each Year\n",
      "           rate    cumulative  iteration        volume\n",
      "0   4000.000000  0.000000e+00          0  0.000000e+00\n",
      "12  2963.272883  1.244073e+06          0  1.244073e+06\n",
      "0   5000.000000  0.000000e+00          1  0.000000e+00\n",
      "12  3704.091103  1.555091e+06          1  1.555091e+06\n"
     ]
    },
    {
     "name": "stderr",
     "output_type": "stream",
     "text": [
      "/home/scuervo/Documents/dev/dcapy/dcapy/dca/arps.py:78: RuntimeWarning: divide by zero encountered in true_divide\n",
      "  return qi/np.power(1+b*di*time_array,1/b)\n",
      "/home/scuervo/Documents/dev/dcapy/dcapy/dca/arps.py:101: RuntimeWarning: divide by zero encountered in true_divide\n",
      "  g = np.power(b*di*time_array+1,(b-1)/b)\n",
      "/home/scuervo/Documents/dev/dcapy/dcapy/dca/arps.py:102: RuntimeWarning: divide by zero encountered in true_divide\n",
      "  h = np.power(b*di*ti+1,(b-1)/b)\n"
     ]
    }
   ],
   "source": [
    "print('Calculate Monthly Basis each Year')\n",
    "print(dc.forecast(start=0,end=13,freq_input='M',freq_output='A'))"
   ]
  },
  {
   "cell_type": "code",
   "execution_count": 22,
   "metadata": {},
   "outputs": [
    {
     "name": "stdout",
     "output_type": "stream",
     "text": [
      "Calculate Year Basis each Year\n",
      "          rate    cumulative  iteration        volume\n",
      "0  4000.000000  0.000000e+00          0  0.000000e+00\n",
      "1  2963.272883  1.261351e+06          0  1.261351e+06\n",
      "0  5000.000000  0.000000e+00          1  0.000000e+00\n",
      "1  3704.091103  1.576689e+06          1  1.576689e+06\n"
     ]
    },
    {
     "name": "stderr",
     "output_type": "stream",
     "text": [
      "/home/scuervo/Documents/dev/dcapy/dcapy/dca/arps.py:78: RuntimeWarning: divide by zero encountered in true_divide\n",
      "  return qi/np.power(1+b*di*time_array,1/b)\n",
      "/home/scuervo/Documents/dev/dcapy/dcapy/dca/arps.py:101: RuntimeWarning: divide by zero encountered in true_divide\n",
      "  g = np.power(b*di*time_array+1,(b-1)/b)\n",
      "/home/scuervo/Documents/dev/dcapy/dcapy/dca/arps.py:102: RuntimeWarning: divide by zero encountered in true_divide\n",
      "  h = np.power(b*di*ti+1,(b-1)/b)\n"
     ]
    }
   ],
   "source": [
    "print('Calculate Year Basis each Year')\n",
    "print(dc.forecast(start=0,end=2,freq_input='A',freq_output='A'))"
   ]
  },
  {
   "cell_type": "code",
   "execution_count": 23,
   "metadata": {},
   "outputs": [
    {
     "name": "stdout",
     "output_type": "stream",
     "text": [
      "Calculate Year Basis each Year - Rate Limit\n",
      "           rate    cumulative  iteration        volume\n",
      "0   4000.000000  0.000000e+00          0  0.000000e+00\n",
      "1   2963.272883  1.261351e+06          0  1.261351e+06\n",
      "2   2195.246544  2.195783e+06          0  9.344320e+05\n",
      "3   1626.278639  2.888028e+06          0  6.922443e+05\n",
      "4   1204.776848  3.400855e+06          0  5.128272e+05\n",
      "5    892.520641  3.780767e+06          0  3.799117e+05\n",
      "6    661.195553  4.062212e+06          0  2.814455e+05\n",
      "7    489.825713  4.270712e+06          0  2.085000e+05\n",
      "8    362.871813  4.425173e+06          0  1.544606e+05\n",
      "9    268.822051  4.539600e+06          0  1.144272e+05\n",
      "10   199.148273  4.624370e+06          0  8.476976e+04\n",
      "11   147.532670  4.687169e+06          0  6.279898e+04\n",
      "0   5000.000000  0.000000e+00          1  0.000000e+00\n",
      "1   3704.091103  1.576689e+06          1  1.576689e+06\n",
      "2   2744.058180  2.744729e+06          1  1.168040e+06\n",
      "3   2032.848299  3.610035e+06          1  8.653054e+05\n",
      "4   1505.971060  4.251069e+06          1  6.410340e+05\n",
      "5   1115.650801  4.725958e+06          1  4.748896e+05\n",
      "6    826.494441  5.077765e+06          1  3.518069e+05\n",
      "7    612.282141  5.338390e+06          1  2.606250e+05\n",
      "8    453.589766  5.531466e+06          1  1.930757e+05\n",
      "9    336.027564  5.674500e+06          1  1.430340e+05\n",
      "10   248.935342  5.780462e+06          1  1.059622e+05\n",
      "11   184.415837  5.858961e+06          1  7.849873e+04\n",
      "12   136.618612  5.917114e+06          1  5.815329e+04\n"
     ]
    },
    {
     "name": "stderr",
     "output_type": "stream",
     "text": [
      "/home/scuervo/Documents/dev/dcapy/dcapy/dca/arps.py:272: RuntimeWarning: invalid value encountered in true_divide\n",
      "  (np.power(qi / rate, b) - 1)/(b * di)\n",
      "/home/scuervo/Documents/dev/dcapy/dcapy/dca/arps.py:78: RuntimeWarning: divide by zero encountered in true_divide\n",
      "  return qi/np.power(1+b*di*time_array,1/b)\n",
      "/home/scuervo/Documents/dev/dcapy/dcapy/dca/arps.py:101: RuntimeWarning: divide by zero encountered in true_divide\n",
      "  g = np.power(b*di*time_array+1,(b-1)/b)\n",
      "/home/scuervo/Documents/dev/dcapy/dcapy/dca/arps.py:102: RuntimeWarning: divide by zero encountered in true_divide\n",
      "  h = np.power(b*di*ti+1,(b-1)/b)\n"
     ]
    }
   ],
   "source": [
    "print('Calculate Year Basis each Year - Rate Limit')\n",
    "print(dc.forecast(start=0,end=15,freq_input='A',freq_output='A',rate_limit=100))\n"
   ]
  },
  {
   "cell_type": "code",
   "execution_count": 24,
   "metadata": {},
   "outputs": [
    {
     "data": {
      "text/plain": [
       "array([[  0,   1,   2,   3,   4,   5,   6,   7, 100, 100, 100, 100, 100,\n",
       "        100, 100],\n",
       "       [  0,   1,   2,   3,   4,   5,   6,   7, 100, 100, 100, 100, 100,\n",
       "        100, 100]])"
      ]
     },
     "execution_count": 24,
     "metadata": {},
     "output_type": "execute_result"
    }
   ],
   "source": [
    "inn =np.tile(np.arange(0,15),(2,1)) > 7\n",
    "g=np.tile(np.arange(0,15),(2,1))\n",
    "g[inn] = 100\n",
    "g\n"
   ]
  },
  {
   "cell_type": "code",
   "execution_count": 25,
   "metadata": {},
   "outputs": [
    {
     "name": "stdout",
     "output_type": "stream",
     "text": [
      "           rate    cumulative  iteration         volume\n",
      "0   4000.000000  0.000000e+00          0       0.000000\n",
      "5   3529.987610  5.640149e+05          0  564014.867594\n",
      "10  3115.203132  1.061756e+06          0  497741.373663\n",
      "18  2550.512606  1.739385e+06          0  677628.630958\n",
      "0   5000.000000  0.000000e+00          1       0.000000\n",
      "5   4412.484513  7.050186e+05          1  705018.584492\n",
      "10  3894.003915  1.327195e+06          1  622176.717079\n",
      "18  3188.140758  2.174231e+06          1  847035.788698\n"
     ]
    },
    {
     "name": "stderr",
     "output_type": "stream",
     "text": [
      "/home/scuervo/Documents/dev/dcapy/dcapy/dca/arps.py:78: RuntimeWarning: divide by zero encountered in true_divide\n",
      "  return qi/np.power(1+b*di*time_array,1/b)\n",
      "/home/scuervo/Documents/dev/dcapy/dcapy/dca/arps.py:101: RuntimeWarning: divide by zero encountered in true_divide\n",
      "  g = np.power(b*di*time_array+1,(b-1)/b)\n",
      "/home/scuervo/Documents/dev/dcapy/dcapy/dca/arps.py:102: RuntimeWarning: divide by zero encountered in true_divide\n",
      "  h = np.power(b*di*ti+1,(b-1)/b)\n"
     ]
    }
   ],
   "source": [
    "# Custom time list\n",
    "print(dc.forecast(time_list=np.array([0,5,10,18]),freq_input='M'))"
   ]
  },
  {
   "cell_type": "code",
   "execution_count": 26,
   "metadata": {},
   "outputs": [
    {
     "name": "stdout",
     "output_type": "stream",
     "text": [
      "Example Arps Class estimate water rate  - Fluid Rate\n",
      "         rate    cumulative  iteration        volume  fluid_rate  water_rate  \\\n",
      "0  400.000000      0.000000          0      0.000000      1000.0  600.000000   \n",
      "1  390.123965  11851.242226          0  11851.242226      1000.0  609.876035   \n",
      "2  380.491770  23409.876240          0  11558.634013      1000.0  619.508230   \n",
      "3  371.097395  34683.126562          0  11273.250323      1000.0  628.902605   \n",
      "4  361.934967  45678.039343          0  10994.912780      1000.0  638.065033   \n",
      "5  352.998761  56401.486759          0  10723.447417      1000.0  647.001239   \n",
      "0  500.000000      0.000000          1      0.000000      1000.0  500.000000   \n",
      "1  487.654956  14814.052783          1  14814.052783      1000.0  512.345044   \n",
      "2  475.614712  29262.345300          1  14448.292517      1000.0  524.385288   \n",
      "3  463.871743  43353.908203          1  14091.562903      1000.0  536.128257   \n",
      "4  452.418709  57097.549178          1  13743.640976      1000.0  547.581291   \n",
      "5  441.248451  70501.858449          1  13404.309271      1000.0  558.751549   \n",
      "\n",
      "        bsw       wor     water_cum  fluid_cum  \n",
      "0  0.600000  1.500000      0.000000        0.0  \n",
      "1  0.609876  1.563288  18296.281056    30000.0  \n",
      "2  0.619508  1.628178  36881.527962    60000.0  \n",
      "3  0.628903  1.694710  55748.606126    90000.0  \n",
      "4  0.638065  1.762927  74890.557109   120000.0  \n",
      "5  0.647001  1.832871  94300.594278   150000.0  \n",
      "0  0.500000  1.000000      0.000000        0.0  \n",
      "1  0.512345  1.050630  15370.351320    30000.0  \n",
      "2  0.524385  1.102542  31101.909952    60000.0  \n",
      "3  0.536128  1.155768  47185.757657    90000.0  \n",
      "4  0.547581  1.210342  63613.196387   120000.0  \n",
      "5  0.558752  1.266297  80375.742848   150000.0  \n"
     ]
    },
    {
     "name": "stderr",
     "output_type": "stream",
     "text": [
      "/home/scuervo/Documents/dev/dcapy/dcapy/dca/arps.py:78: RuntimeWarning: divide by zero encountered in true_divide\n",
      "  return qi/np.power(1+b*di*time_array,1/b)\n",
      "/home/scuervo/Documents/dev/dcapy/dcapy/dca/arps.py:101: RuntimeWarning: divide by zero encountered in true_divide\n",
      "  g = np.power(b*di*time_array+1,(b-1)/b)\n",
      "/home/scuervo/Documents/dev/dcapy/dcapy/dca/arps.py:102: RuntimeWarning: divide by zero encountered in true_divide\n",
      "  h = np.power(b*di*ti+1,(b-1)/b)\n"
     ]
    }
   ],
   "source": [
    "print('Example Arps Class estimate water rate  - Fluid Rate')\n",
    "#print(dca.time_converter_matrix)\n",
    "qi = [400,500]\n",
    "di = 0.3\n",
    "b = 0\n",
    "ti = 0\n",
    "di_f = 'A'\n",
    "fluid_rate = 1000\n",
    "dc = dca.Arps(qi=qi,di=di,b=b,ti=ti,freq_di=di_f, fluid_rate=fluid_rate)\n",
    "print(dc.forecast(start=0, end=6, freq_input='M', freq_output='M'))"
   ]
  },
  {
   "cell_type": "code",
   "execution_count": 27,
   "metadata": {},
   "outputs": [
    {
     "name": "stdout",
     "output_type": "stream",
     "text": [
      "Example Arps Class estimate water rate  - Fluid Rate\n",
      "               rate    cumulative  iteration        volume  fluid_rate  \\\n",
      "2021-02  400.000000      0.000000          0      0.000000      1000.0   \n",
      "2021-03  390.899639  11072.106269          0  11072.106269      1200.0   \n",
      "2021-04  381.065546  23036.919336          0  11964.813067      1300.0   \n",
      "2021-05  371.784305  34329.094979          0  11292.175643      1200.0   \n",
      "2021-06  362.431108  45708.818254          0  11379.723275      1300.0   \n",
      "2021-07  353.603729  56448.796662          0  10739.978408      1200.0   \n",
      "2021-02  500.000000      0.000000          1      0.000000      1000.0   \n",
      "2021-03  488.624548  13840.132836          1  13840.132836      1200.0   \n",
      "2021-04  476.331932  28796.149170          1  14956.016334      1300.0   \n",
      "2021-05  464.730382  42911.368724          1  14115.219554      1200.0   \n",
      "2021-06  453.038885  57136.022817          1  14224.654094      1300.0   \n",
      "2021-07  442.004661  70560.995827          1  13424.973010      1200.0   \n",
      "\n",
      "         water_rate       bsw       wor      water_cum  fluid_cum  \n",
      "2021-02  600.000000  0.600000  1.500000       0.000000        0.0  \n",
      "2021-03  809.100361  0.674250  2.069842   22654.810117    33600.0  \n",
      "2021-04  918.934454  0.706873  2.411487   51141.778199    73900.0  \n",
      "2021-05  828.215695  0.690180  2.227678   75988.249034   109900.0  \n",
      "2021-06  937.568892  0.721207  2.586889  105052.884677   150200.0  \n",
      "2021-07  846.396271  0.705330  2.393629  130444.772814   186200.0  \n",
      "2021-02  500.000000  0.500000  1.000000       0.000000        0.0  \n",
      "2021-03  711.375452  0.592813  1.455873   19918.512646    33600.0  \n",
      "2021-04  823.668068  0.633591  1.729189   45452.222748    73900.0  \n",
      "2021-05  735.269618  0.612725  1.582142   67510.311292   109900.0  \n",
      "2021-06  846.961115  0.651509  1.869511   93766.105846   150200.0  \n",
      "2021-07  757.995339  0.631663  1.714903  116505.966017   186200.0  \n"
     ]
    },
    {
     "name": "stderr",
     "output_type": "stream",
     "text": [
      "/home/scuervo/Documents/dev/dcapy/dcapy/dca/arps.py:78: RuntimeWarning: divide by zero encountered in true_divide\n",
      "  return qi/np.power(1+b*di*time_array,1/b)\n",
      "/home/scuervo/Documents/dev/dcapy/dcapy/dca/arps.py:101: RuntimeWarning: divide by zero encountered in true_divide\n",
      "  g = np.power(b*di*time_array+1,(b-1)/b)\n",
      "/home/scuervo/Documents/dev/dcapy/dcapy/dca/arps.py:102: RuntimeWarning: divide by zero encountered in true_divide\n",
      "  h = np.power(b*di*ti+1,(b-1)/b)\n"
     ]
    }
   ],
   "source": [
    "print('Example Arps Class estimate water rate  - Fluid Rate')\n",
    "#print(dca.time_converter_matrix)\n",
    "qi = [400,500]\n",
    "di = 0.3\n",
    "b = 0\n",
    "ti = date(2021,2,1)\n",
    "di_f = 'A'\n",
    "fluid_rate = [1000,1200,1300,1200,1300,1200]\n",
    "dc = dca.Arps(qi=qi,di=di,b=b,ti=ti,freq_di=di_f, fluid_rate=fluid_rate)\n",
    "print(dc.forecast(start=date(2021,2,1), end=date(2021,7,1), freq_output='M'))  "
   ]
  },
  {
   "cell_type": "code",
   "execution_count": 28,
   "metadata": {},
   "outputs": [
    {
     "name": "stdout",
     "output_type": "stream",
     "text": [
      "Example Arps Class estimate water rate  - bsw\n",
      "               rate    cumulative  iteration        volume   bsw  water_rate  \\\n",
      "2021-02  400.000000      0.000000          0      0.000000  0.10   44.444444   \n",
      "2021-03  390.899639  11072.106269          0  11072.106269  0.12   53.304496   \n",
      "2021-04  381.065546  23036.919336          0  11964.813067  0.13   56.940829   \n",
      "2021-05  371.784305  34329.094979          0  11292.175643  0.12   50.697860   \n",
      "2021-06  362.431108  45708.818254          0  11379.723275  0.13   54.156373   \n",
      "2021-07  353.603729  56448.796662          0  10739.978408  0.12   48.218690   \n",
      "2021-02  500.000000      0.000000          1      0.000000  0.10   55.555556   \n",
      "2021-03  488.624548  13840.132836          1  13840.132836  0.12   66.630620   \n",
      "2021-04  476.331932  28796.149170          1  14956.016334  0.13   71.176036   \n",
      "2021-05  464.730382  42911.368724          1  14115.219554  0.12   63.372325   \n",
      "2021-06  453.038885  57136.022817          1  14224.654094  0.13   67.695466   \n",
      "2021-07  442.004661  70560.995827          1  13424.973010  0.12   60.273363   \n",
      "\n",
      "         fluid_rate       wor    water_cum     fluid_cum  \n",
      "2021-02  444.444444  0.111111     0.000000      0.000000  \n",
      "2021-03  444.204135  0.136364  1492.525893  12437.715776  \n",
      "2021-04  438.006374  0.149425  3257.691582  26015.913384  \n",
      "2021-05  422.482165  0.136364  4778.627377  38690.378344  \n",
      "2021-06  416.587481  0.149425  6457.474925  51604.590248  \n",
      "2021-07  401.822419  0.136364  7904.035633  63659.262820  \n",
      "2021-02  555.555556  0.111111     0.000000      0.000000  \n",
      "2021-03  555.255169  0.136364  1865.657366  15547.144720  \n",
      "2021-04  547.507968  0.149425  4072.114478  32519.891729  \n",
      "2021-05  528.102707  0.136364  5973.284222  48362.972930  \n",
      "2021-06  520.734351  0.149425  8071.843656  64505.737810  \n",
      "2021-07  502.278024  0.136364  9880.044542  79574.078525  \n"
     ]
    },
    {
     "name": "stderr",
     "output_type": "stream",
     "text": [
      "/home/scuervo/Documents/dev/dcapy/dcapy/dca/arps.py:78: RuntimeWarning: divide by zero encountered in true_divide\n",
      "  return qi/np.power(1+b*di*time_array,1/b)\n",
      "/home/scuervo/Documents/dev/dcapy/dcapy/dca/arps.py:101: RuntimeWarning: divide by zero encountered in true_divide\n",
      "  g = np.power(b*di*time_array+1,(b-1)/b)\n",
      "/home/scuervo/Documents/dev/dcapy/dcapy/dca/arps.py:102: RuntimeWarning: divide by zero encountered in true_divide\n",
      "  h = np.power(b*di*ti+1,(b-1)/b)\n"
     ]
    }
   ],
   "source": [
    "print('Example Arps Class estimate water rate  - bsw')\n",
    "#print(dca.time_converter_matrix)\n",
    "qi = [400,500]\n",
    "di = 0.3\n",
    "b = 0\n",
    "ti = date(2021,2,1)\n",
    "di_f = 'A'\n",
    "bsw = [0.1000,0.1200,0.1300,0.1200,0.1300,0.1200]\n",
    "dc = dca.Arps(qi=qi,di=di,b=b,ti=ti,freq_di=di_f, bsw=bsw)\n",
    "print(dc.forecast(start=date(2021,2,1), end=date(2021,7,1), freq_output='M')) "
   ]
  },
  {
   "cell_type": "code",
   "execution_count": 29,
   "metadata": {},
   "outputs": [
    {
     "name": "stdout",
     "output_type": "stream",
     "text": [
      "Example Arps Class estimate water rate  - Fluid Rate\n",
      "         rate   cumulative  iteration      volume     bsw  water_rate  \\\n",
      "0  400.000000     0.000000          0    0.000000  1000.0 -400.400400   \n",
      "1  399.671368   399.835661          0  399.835661  1200.0 -400.004705   \n",
      "2  399.343006   799.342826          0  399.507164  1300.0 -399.650429   \n",
      "3  399.014914  1198.521763          0  399.178937  1200.0 -399.347703   \n",
      "4  398.687091  1597.372743          0  398.850980  1300.0 -398.994009   \n",
      "5  398.359538  1995.896035          0  398.523292  1200.0 -398.691781   \n",
      "0  500.000000     0.000000          1    0.000000  1000.0 -500.500501   \n",
      "1  499.589210   499.794577          1  499.794577  1200.0 -500.005882   \n",
      "2  499.178757   999.178532          1  499.383956  1300.0 -499.563037   \n",
      "3  498.768642  1498.152204          1  498.973672  1200.0 -499.184629   \n",
      "4  498.358864  1996.715929          1  498.563725  1300.0 -498.742512   \n",
      "5  497.949422  2494.870043          1  498.154115  1200.0 -498.364726   \n",
      "\n",
      "   fluid_rate       wor    water_cum  fluid_cum  \n",
      "0   -0.400400 -1.001001    -0.000000  -0.000000  \n",
      "1   -0.333337 -1.000834  -400.004705  -0.333337  \n",
      "2   -0.307423 -1.000770  -799.655135  -0.640761  \n",
      "3   -0.332790 -1.000834 -1199.002838  -0.973550  \n",
      "4   -0.306918 -1.000770 -1597.996847  -1.280469  \n",
      "5   -0.332243 -1.000834 -1996.688628  -1.612712  \n",
      "0   -0.500501 -1.001001    -0.000000  -0.000000  \n",
      "1   -0.416672 -1.000834  -500.005882  -0.416672  \n",
      "2   -0.384279 -1.000770  -999.568918  -0.800951  \n",
      "3   -0.415987 -1.000834 -1498.753547  -1.216938  \n",
      "4   -0.383648 -1.000770 -1997.496059  -1.600586  \n",
      "5   -0.415304 -1.000834 -2495.860785  -2.015890  \n"
     ]
    },
    {
     "name": "stderr",
     "output_type": "stream",
     "text": [
      "/home/scuervo/Documents/dev/dcapy/dcapy/dca/arps.py:78: RuntimeWarning: divide by zero encountered in true_divide\n",
      "  return qi/np.power(1+b*di*time_array,1/b)\n",
      "/home/scuervo/Documents/dev/dcapy/dcapy/dca/arps.py:101: RuntimeWarning: divide by zero encountered in true_divide\n",
      "  g = np.power(b*di*time_array+1,(b-1)/b)\n",
      "/home/scuervo/Documents/dev/dcapy/dcapy/dca/arps.py:102: RuntimeWarning: divide by zero encountered in true_divide\n",
      "  h = np.power(b*di*ti+1,(b-1)/b)\n"
     ]
    }
   ],
   "source": [
    "print('Example Arps Class estimate water rate  - Fluid Rate')\n",
    "#print(dca.time_converter_matrix)\n",
    "qi = [400,500]\n",
    "di = 0.3\n",
    "b = 0\n",
    "ti = 0\n",
    "di_f = 'A'\n",
    "bsw = 0.5\n",
    "dc = dca.Arps(qi=qi,di=di,b=b,ti=ti,freq_di=di_f, bsw=fluid_rate)\n",
    "print(dc.forecast(start=0, end=6, freq_input='D',freq_output='D')) "
   ]
  },
  {
   "cell_type": "code",
   "execution_count": 30,
   "metadata": {},
   "outputs": [
    {
     "name": "stdout",
     "output_type": "stream",
     "text": [
      "Example Arps Class estimate water rate  - bsw\n"
     ]
    },
    {
     "name": "stderr",
     "output_type": "stream",
     "text": [
      "/home/scuervo/Documents/dev/dcapy/dcapy/dca/arps.py:78: RuntimeWarning: divide by zero encountered in true_divide\n",
      "  return qi/np.power(1+b*di*time_array,1/b)\n",
      "/home/scuervo/Documents/dev/dcapy/dcapy/dca/arps.py:101: RuntimeWarning: divide by zero encountered in true_divide\n",
      "  g = np.power(b*di*time_array+1,(b-1)/b)\n",
      "/home/scuervo/Documents/dev/dcapy/dcapy/dca/arps.py:102: RuntimeWarning: divide by zero encountered in true_divide\n",
      "  h = np.power(b*di*ti+1,(b-1)/b)\n"
     ]
    },
    {
     "name": "stdout",
     "output_type": "stream",
     "text": [
      "               rate    cumulative  iteration        volume  wor       bsw  \\\n",
      "2021-02  400.000000      0.000000          0      0.000000  2.0  0.666667   \n",
      "2021-03  390.899639  11072.106269          0  11072.106269  2.0  0.666667   \n",
      "2021-04  381.065546  23036.919336          0  11964.813067  2.0  0.666667   \n",
      "2021-05  371.784305  34329.094979          0  11292.175643  2.0  0.666667   \n",
      "2021-06  362.431108  45708.818254          0  11379.723275  2.0  0.666667   \n",
      "2021-07  353.603729  56448.796662          0  10739.978408  2.0  0.666667   \n",
      "2021-02  500.000000      0.000000          1      0.000000  2.0  0.666667   \n",
      "2021-03  488.624548  13840.132836          1  13840.132836  2.0  0.666667   \n",
      "2021-04  476.331932  28796.149170          1  14956.016334  2.0  0.666667   \n",
      "2021-05  464.730382  42911.368724          1  14115.219554  2.0  0.666667   \n",
      "2021-06  453.038885  57136.022817          1  14224.654094  2.0  0.666667   \n",
      "2021-07  442.004661  70560.995827          1  13424.973010  2.0  0.666667   \n",
      "\n",
      "          water_rate   fluid_rate      water_cum      fluid_cum  \n",
      "2021-02   800.000000  1200.000000       0.000000       0.000000  \n",
      "2021-03   781.799277  1172.698916   21890.379766   32835.569649  \n",
      "2021-04   762.131092  1143.196637   45516.443603   68274.665404  \n",
      "2021-05   743.568611  1115.352916   67823.501933  101735.252899  \n",
      "2021-06   724.862217  1087.293325   90294.230646  135441.345969  \n",
      "2021-07   707.207458  1060.811186  111510.454373  167265.681559  \n",
      "2021-02  1000.000000  1500.000000       0.000000       0.000000  \n",
      "2021-03   977.249097  1465.873645   27362.974708   41044.462062  \n",
      "2021-04   952.663864  1428.995797   56895.554504   85343.331755  \n",
      "2021-05   929.460764  1394.191146   84779.377416  127169.066124  \n",
      "2021-06   906.077771  1359.116656  112867.788308  169301.682462  \n",
      "2021-07   884.009322  1326.013983  139388.067966  209082.101949  \n"
     ]
    }
   ],
   "source": [
    "print('Example Arps Class estimate water rate  - bsw')\n",
    "#print(dca.time_converter_matrix)\n",
    "qi = [400,500]\n",
    "di = 0.3\n",
    "b = 0\n",
    "ti = date(2021,2,1)\n",
    "di_f = 'A'\n",
    "wor = 2\n",
    "dc = dca.Arps(qi=qi,di=di,b=b,ti=ti,freq_di=di_f, wor=wor)\n",
    "print(dc.forecast(start=date(2021,2,1), end=date(2021,7,1), freq_output='M'))"
   ]
  },
  {
   "cell_type": "code",
   "execution_count": 31,
   "metadata": {},
   "outputs": [
    {
     "name": "stdout",
     "output_type": "stream",
     "text": [
      "Example Arps Class estimate water rate  - Fluid Rate\n",
      "         rate   cumulative  iteration      volume   wor       bsw  \\\n",
      "0  400.000000     0.000000          0    0.000000  10.0  0.909091   \n",
      "1  399.671368   399.835661          0  399.835661  11.0  0.916667   \n",
      "2  399.343006   799.342826          0  399.507164  12.0  0.923077   \n",
      "3  399.014914  1198.521763          0  399.178937  13.0  0.928571   \n",
      "4  398.687091  1597.372743          0  398.850980  14.0  0.933333   \n",
      "5  398.359538  1995.896035          0  398.523292  15.0  0.937500   \n",
      "0  500.000000     0.000000          1    0.000000  10.0  0.909091   \n",
      "1  499.589210   499.794577          1  499.794577  11.0  0.916667   \n",
      "2  499.178757   999.178532          1  499.383956  12.0  0.923077   \n",
      "3  498.768642  1498.152204          1  498.973672  13.0  0.928571   \n",
      "4  498.358864  1996.715929          1  498.563725  14.0  0.933333   \n",
      "5  497.949422  2494.870043          1  498.154115  15.0  0.937500   \n",
      "\n",
      "    water_rate   fluid_rate     water_cum     fluid_cum  \n",
      "0  4000.000000  4400.000000      0.000000      0.000000  \n",
      "1  4396.385047  4796.056415   4396.385047   4796.056415  \n",
      "2  4792.116071  5191.459077   9188.501118   9987.515492  \n",
      "3  5187.193877  5586.208791  14375.694995  15573.724283  \n",
      "4  5581.619273  5980.306363  19957.314268  21554.030646  \n",
      "5  5975.393063  6373.752600  25932.707330  27927.783246  \n",
      "0  5000.000000  5500.000000      0.000000      0.000000  \n",
      "1  5495.481309  5995.070519   5495.481309   5995.070519  \n",
      "2  5990.145088  6489.323846  11485.626398  12484.394365  \n",
      "3  6483.992346  6982.760988  17969.618744  19467.155353  \n",
      "4  6977.024091  7475.382954  24946.642835  26942.538308  \n",
      "5  7469.241328  7967.190750  32415.884163  34909.729058  \n"
     ]
    },
    {
     "name": "stderr",
     "output_type": "stream",
     "text": [
      "/home/scuervo/Documents/dev/dcapy/dcapy/dca/arps.py:78: RuntimeWarning: divide by zero encountered in true_divide\n",
      "  return qi/np.power(1+b*di*time_array,1/b)\n",
      "/home/scuervo/Documents/dev/dcapy/dcapy/dca/arps.py:101: RuntimeWarning: divide by zero encountered in true_divide\n",
      "  g = np.power(b*di*time_array+1,(b-1)/b)\n",
      "/home/scuervo/Documents/dev/dcapy/dcapy/dca/arps.py:102: RuntimeWarning: divide by zero encountered in true_divide\n",
      "  h = np.power(b*di*ti+1,(b-1)/b)\n"
     ]
    }
   ],
   "source": [
    "print('Example Arps Class estimate water rate  - Fluid Rate')\n",
    "#print(dca.time_converter_matrix)\n",
    "qi = [400,500]\n",
    "di = 0.3\n",
    "b = 0\n",
    "ti = 0\n",
    "di_f = 'A'\n",
    "wor = [10,11,12,13,14,15]\n",
    "dc = dca.Arps(qi=qi,di=di,b=b,ti=ti,freq_di=di_f, wor=wor)\n",
    "print(dc.forecast(start=0, end=6, freq_input='D',freq_output='D')) "
   ]
  },
  {
   "cell_type": "code",
   "execution_count": 32,
   "metadata": {},
   "outputs": [
    {
     "name": "stderr",
     "output_type": "stream",
     "text": [
      "/home/scuervo/Documents/dev/dcapy/dcapy/dca/arps.py:78: RuntimeWarning: divide by zero encountered in true_divide\n",
      "  return qi/np.power(1+b*di*time_array,1/b)\n",
      "/home/scuervo/Documents/dev/dcapy/dcapy/dca/arps.py:101: RuntimeWarning: divide by zero encountered in true_divide\n",
      "  g = np.power(b*di*time_array+1,(b-1)/b)\n",
      "/home/scuervo/Documents/dev/dcapy/dcapy/dca/arps.py:102: RuntimeWarning: divide by zero encountered in true_divide\n",
      "  h = np.power(b*di*ti+1,(b-1)/b)\n"
     ]
    },
    {
     "name": "stdout",
     "output_type": "stream",
     "text": [
      "Example Arps Class estimate water rate  - Fluid Rate\n",
      "         rate   cumulative  iteration      volume   wor       bsw  \\\n",
      "0  400.000000     0.000000          0    0.000000  10.0  0.909091   \n",
      "1  399.671368   399.835661          0  399.835661  11.0  0.916667   \n",
      "2  399.343006   799.342826          0  399.507164  12.0  0.923077   \n",
      "3  399.014914  1198.521763          0  399.178937  13.0  0.928571   \n",
      "4  398.687091  1597.372743          0  398.850980  14.0  0.933333   \n",
      "5  398.359538  1995.896035          0  398.523292  15.0  0.937500   \n",
      "0  500.000000     0.000000          1    0.000000  10.0  0.909091   \n",
      "1  499.589210   499.794577          1  499.794577  11.0  0.916667   \n",
      "2  499.178757   999.178532          1  499.383956  12.0  0.923077   \n",
      "3  498.768642  1498.152204          1  498.973672  13.0  0.928571   \n",
      "4  498.358864  1996.715929          1  498.563725  14.0  0.933333   \n",
      "5  497.949422  2494.870043          1  498.154115  15.0  0.937500   \n",
      "\n",
      "    water_rate   fluid_rate     water_cum     fluid_cum  glr     gas_rate  \\\n",
      "0  4000.000000  4400.000000      0.000000      0.000000  0.5  2200.000000   \n",
      "1  4396.385047  4796.056415   4396.385047   4796.056415  0.5  2398.028208   \n",
      "2  4792.116071  5191.459077   9188.501118   9987.515492  0.5  2595.729538   \n",
      "3  5187.193877  5586.208791  14375.694995  15573.724283  0.5  2793.104395   \n",
      "4  5581.619273  5980.306363  19957.314268  21554.030646  0.5  2990.153182   \n",
      "5  5975.393063  6373.752600  25932.707330  27927.783246  0.5  3186.876300   \n",
      "0  5000.000000  5500.000000      0.000000      0.000000  0.5  2750.000000   \n",
      "1  5495.481309  5995.070519   5495.481309   5995.070519  0.5  2997.535260   \n",
      "2  5990.145088  6489.323846  11485.626398  12484.394365  0.5  3244.661923   \n",
      "3  6483.992346  6982.760988  17969.618744  19467.155353  0.5  3491.380494   \n",
      "4  6977.024091  7475.382954  24946.642835  26942.538308  0.5  3737.691477   \n",
      "5  7469.241328  7967.190750  32415.884163  34909.729058  0.5  3983.595375   \n",
      "\n",
      "   gor       gas_cum  \n",
      "0  5.5      0.000000  \n",
      "1  6.0   2398.028208  \n",
      "2  6.5   4993.757746  \n",
      "3  7.0   7786.862141  \n",
      "4  7.5  10777.015323  \n",
      "5  8.0  13963.891623  \n",
      "0  5.5      0.000000  \n",
      "1  6.0   2997.535260  \n",
      "2  6.5   6242.197183  \n",
      "3  7.0   9733.577677  \n",
      "4  7.5  13471.269154  \n",
      "5  8.0  17454.864529  \n"
     ]
    }
   ],
   "source": [
    "print('Example Arps Class estimate water rate  - Fluid Rate')\n",
    "#print(dca.time_converter_matrix)\n",
    "qi = [400,500]\n",
    "di = 0.3\n",
    "b = 0\n",
    "ti = 0\n",
    "di_f = 'A'\n",
    "wor = [10,11,12,13,14,15]\n",
    "glr = 0.5\n",
    "dc = dca.Arps(qi=qi,di=di,b=b,ti=ti,freq_di=di_f, wor=wor, glr=glr)\n",
    "print(dc.forecast(start=0, end=6, freq_input='D',freq_output='D')) "
   ]
  },
  {
   "cell_type": "markdown",
   "metadata": {},
   "source": [
    "## Using Arps with dates"
   ]
  },
  {
   "cell_type": "code",
   "execution_count": 33,
   "metadata": {},
   "outputs": [
    {
     "name": "stdout",
     "output_type": "stream",
     "text": [
      "Example Arps Class\n",
      "Declination \n",
      " Ti: 2021-01-01 \n",
      " Qi: 5000.0 bbl/d \n",
      " Di: 0.3 A \n",
      " b: 0.0\n"
     ]
    }
   ],
   "source": [
    "print('Example Arps Class')\n",
    "#print(dca.time_converter_matrix)\n",
    "qi = 5000\n",
    "di = 0.3\n",
    "b = 0\n",
    "ti = date(2021,1,1)\n",
    "di_f = 'A'\n",
    "dc1 = dca.Arps(qi=qi,di=di,b=b,ti=ti,freq_di=di_f)\n",
    "print(dc1)"
   ]
  },
  {
   "cell_type": "code",
   "execution_count": 34,
   "metadata": {},
   "outputs": [
    {
     "name": "stderr",
     "output_type": "stream",
     "text": [
      "/home/scuervo/Documents/dev/dcapy/dcapy/dca/arps.py:78: RuntimeWarning: divide by zero encountered in true_divide\n",
      "  return qi/np.power(1+b*di*time_array,1/b)\n",
      "/home/scuervo/Documents/dev/dcapy/dcapy/dca/arps.py:101: RuntimeWarning: divide by zero encountered in true_divide\n",
      "  g = np.power(b*di*time_array+1,(b-1)/b)\n",
      "/home/scuervo/Documents/dev/dcapy/dcapy/dca/arps.py:102: RuntimeWarning: divide by zero encountered in true_divide\n",
      "  h = np.power(b*di*ti+1,(b-1)/b)\n"
     ]
    },
    {
     "data": {
      "text/plain": [
       "Text(0, 0.5, 'Rate [bbl/d]')"
      ]
     },
     "execution_count": 34,
     "metadata": {},
     "output_type": "execute_result"
    },
    {
     "data": {
      "image/png": "[encoded data removed]",
      "text/plain": [
       "<Figure size 720x504 with 1 Axes>"
      ]
     },
     "metadata": {
      "needs_background": "light"
     },
     "output_type": "display_data"
    }
   ],
   "source": [
    "from_time = date(2021,1,1)\n",
    "to_time = date(2023,1,1)\n",
    "\n",
    "\n",
    "\n",
    "fig, ax = plt.subplots(figsize=(10,7))\n",
    "dc1.plot(start=from_time,end=to_time,ax=ax)\n",
    "ax.set_title('Calculate Monthly Basis each Month',fontsize=14)\n",
    "ax.set_xlabel('Date',fontsize=14)\n",
    "ax.set_ylabel('Rate [bbl/d]',fontsize=14)"
   ]
  },
  {
   "cell_type": "code",
   "execution_count": 35,
   "metadata": {},
   "outputs": [
    {
     "name": "stderr",
     "output_type": "stream",
     "text": [
      "/home/scuervo/Documents/dev/dcapy/dcapy/dca/arps.py:78: RuntimeWarning: divide by zero encountered in true_divide\n",
      "  return qi/np.power(1+b*di*time_array,1/b)\n",
      "/home/scuervo/Documents/dev/dcapy/dcapy/dca/arps.py:101: RuntimeWarning: divide by zero encountered in true_divide\n",
      "  g = np.power(b*di*time_array+1,(b-1)/b)\n",
      "/home/scuervo/Documents/dev/dcapy/dcapy/dca/arps.py:102: RuntimeWarning: divide by zero encountered in true_divide\n",
      "  h = np.power(b*di*ti+1,(b-1)/b)\n"
     ]
    },
    {
     "data": {
      "image/png": "[encoded data removed]",
      "text/plain": [
       "<Figure size 432x288 with 1 Axes>"
      ]
     },
     "metadata": {
      "needs_background": "light"
     },
     "output_type": "display_data"
    }
   ],
   "source": [
    "dc1.plot(start=from_time,end=to_time,freq_output='M')"
   ]
  },
  {
   "cell_type": "code",
   "execution_count": 36,
   "metadata": {},
   "outputs": [
    {
     "name": "stderr",
     "output_type": "stream",
     "text": [
      "/home/scuervo/Documents/dev/dcapy/dcapy/dca/arps.py:78: RuntimeWarning: divide by zero encountered in true_divide\n",
      "  return qi/np.power(1+b*di*time_array,1/b)\n",
      "/home/scuervo/Documents/dev/dcapy/dcapy/dca/arps.py:101: RuntimeWarning: divide by zero encountered in true_divide\n",
      "  g = np.power(b*di*time_array+1,(b-1)/b)\n",
      "/home/scuervo/Documents/dev/dcapy/dcapy/dca/arps.py:102: RuntimeWarning: divide by zero encountered in true_divide\n",
      "  h = np.power(b*di*ti+1,(b-1)/b)\n"
     ]
    },
    {
     "data": {
      "text/html": [
       "<div>\n",
       "<style scoped>\n",
       "    .dataframe tbody tr th:only-of-type {\n",
       "        vertical-align: middle;\n",
       "    }\n",
       "\n",
       "    .dataframe tbody tr th {\n",
       "        vertical-align: top;\n",
       "    }\n",
       "\n",
       "    .dataframe thead th {\n",
       "        text-align: right;\n",
       "    }\n",
       "</style>\n",
       "<table border=\"1\" class=\"dataframe\">\n",
       "  <thead>\n",
       "    <tr style=\"text-align: right;\">\n",
       "      <th></th>\n",
       "      <th>rate</th>\n",
       "      <th>cumulative</th>\n",
       "      <th>iteration</th>\n",
       "      <th>volume</th>\n",
       "    </tr>\n",
       "  </thead>\n",
       "  <tbody>\n",
       "    <tr>\n",
       "      <th>2021-01</th>\n",
       "      <td>5000.000000</td>\n",
       "      <td>0.000000e+00</td>\n",
       "      <td>0</td>\n",
       "      <td>0.000000</td>\n",
       "    </tr>\n",
       "    <tr>\n",
       "      <th>2021-02</th>\n",
       "      <td>4874.212049</td>\n",
       "      <td>1.530420e+05</td>\n",
       "      <td>0</td>\n",
       "      <td>153042.007242</td>\n",
       "    </tr>\n",
       "    <tr>\n",
       "      <th>2021-03</th>\n",
       "      <td>4763.319322</td>\n",
       "      <td>2.879615e+05</td>\n",
       "      <td>0</td>\n",
       "      <td>134919.484455</td>\n",
       "    </tr>\n",
       "    <tr>\n",
       "      <th>2021-04</th>\n",
       "      <td>4643.485686</td>\n",
       "      <td>4.337591e+05</td>\n",
       "      <td>0</td>\n",
       "      <td>145797.590032</td>\n",
       "    </tr>\n",
       "    <tr>\n",
       "      <th>2021-05</th>\n",
       "      <td>4530.388854</td>\n",
       "      <td>5.713602e+05</td>\n",
       "      <td>0</td>\n",
       "      <td>137601.146445</td>\n",
       "    </tr>\n",
       "    <tr>\n",
       "      <th>2021-06</th>\n",
       "      <td>4416.415187</td>\n",
       "      <td>7.100282e+05</td>\n",
       "      <td>0</td>\n",
       "      <td>138667.960747</td>\n",
       "    </tr>\n",
       "    <tr>\n",
       "      <th>2021-07</th>\n",
       "      <td>4308.848888</td>\n",
       "      <td>8.409005e+05</td>\n",
       "      <td>0</td>\n",
       "      <td>130872.330399</td>\n",
       "    </tr>\n",
       "    <tr>\n",
       "      <th>2021-08</th>\n",
       "      <td>4200.448634</td>\n",
       "      <td>9.727875e+05</td>\n",
       "      <td>0</td>\n",
       "      <td>131886.976552</td>\n",
       "    </tr>\n",
       "    <tr>\n",
       "      <th>2021-09</th>\n",
       "      <td>4094.775468</td>\n",
       "      <td>1.101357e+06</td>\n",
       "      <td>0</td>\n",
       "      <td>128569.018039</td>\n",
       "    </tr>\n",
       "    <tr>\n",
       "      <th>2021-10</th>\n",
       "      <td>3995.043033</td>\n",
       "      <td>1.222698e+06</td>\n",
       "      <td>0</td>\n",
       "      <td>121341.129683</td>\n",
       "    </tr>\n",
       "    <tr>\n",
       "      <th>2021-11</th>\n",
       "      <td>3894.537377</td>\n",
       "      <td>1.344980e+06</td>\n",
       "      <td>0</td>\n",
       "      <td>122281.880948</td>\n",
       "    </tr>\n",
       "    <tr>\n",
       "      <th>2021-12</th>\n",
       "      <td>3799.681945</td>\n",
       "      <td>1.460387e+06</td>\n",
       "      <td>0</td>\n",
       "      <td>115407.442635</td>\n",
       "    </tr>\n",
       "    <tr>\n",
       "      <th>2022-01</th>\n",
       "      <td>3704.091103</td>\n",
       "      <td>1.576689e+06</td>\n",
       "      <td>0</td>\n",
       "      <td>116302.190343</td>\n",
       "    </tr>\n",
       "    <tr>\n",
       "      <th>2022-02</th>\n",
       "      <td>3610.905097</td>\n",
       "      <td>1.690065e+06</td>\n",
       "      <td>0</td>\n",
       "      <td>113376.307495</td>\n",
       "    </tr>\n",
       "    <tr>\n",
       "      <th>2022-03</th>\n",
       "      <td>3528.753745</td>\n",
       "      <td>1.790016e+06</td>\n",
       "      <td>0</td>\n",
       "      <td>99950.812409</td>\n",
       "    </tr>\n",
       "    <tr>\n",
       "      <th>2022-04</th>\n",
       "      <td>3439.978804</td>\n",
       "      <td>1.898026e+06</td>\n",
       "      <td>0</td>\n",
       "      <td>108009.511227</td>\n",
       "    </tr>\n",
       "    <tr>\n",
       "      <th>2022-05</th>\n",
       "      <td>3356.194609</td>\n",
       "      <td>1.999963e+06</td>\n",
       "      <td>0</td>\n",
       "      <td>101937.436473</td>\n",
       "    </tr>\n",
       "    <tr>\n",
       "      <th>2022-06</th>\n",
       "      <td>3271.760841</td>\n",
       "      <td>2.102691e+06</td>\n",
       "      <td>0</td>\n",
       "      <td>102727.751946</td>\n",
       "    </tr>\n",
       "    <tr>\n",
       "      <th>2022-07</th>\n",
       "      <td>3192.073767</td>\n",
       "      <td>2.199644e+06</td>\n",
       "      <td>0</td>\n",
       "      <td>96952.606943</td>\n",
       "    </tr>\n",
       "    <tr>\n",
       "      <th>2022-08</th>\n",
       "      <td>3111.768883</td>\n",
       "      <td>2.297348e+06</td>\n",
       "      <td>0</td>\n",
       "      <td>97704.275300</td>\n",
       "    </tr>\n",
       "    <tr>\n",
       "      <th>2022-09</th>\n",
       "      <td>3033.484276</td>\n",
       "      <td>2.392594e+06</td>\n",
       "      <td>0</td>\n",
       "      <td>95246.271178</td>\n",
       "    </tr>\n",
       "    <tr>\n",
       "      <th>2022-10</th>\n",
       "      <td>2959.600671</td>\n",
       "      <td>2.482486e+06</td>\n",
       "      <td>0</td>\n",
       "      <td>89891.719787</td>\n",
       "    </tr>\n",
       "    <tr>\n",
       "      <th>2022-11</th>\n",
       "      <td>2885.144250</td>\n",
       "      <td>2.573074e+06</td>\n",
       "      <td>0</td>\n",
       "      <td>90588.645465</td>\n",
       "    </tr>\n",
       "    <tr>\n",
       "      <th>2022-12</th>\n",
       "      <td>2814.873617</td>\n",
       "      <td>2.658570e+06</td>\n",
       "      <td>0</td>\n",
       "      <td>85495.936306</td>\n",
       "    </tr>\n",
       "    <tr>\n",
       "      <th>2023-01</th>\n",
       "      <td>2744.058180</td>\n",
       "      <td>2.744729e+06</td>\n",
       "      <td>0</td>\n",
       "      <td>86158.781711</td>\n",
       "    </tr>\n",
       "  </tbody>\n",
       "</table>\n",
       "</div>"
      ],
      "text/plain": [
       "                rate    cumulative  iteration         volume\n",
       "2021-01  5000.000000  0.000000e+00          0       0.000000\n",
       "2021-02  4874.212049  1.530420e+05          0  153042.007242\n",
       "2021-03  4763.319322  2.879615e+05          0  134919.484455\n",
       "2021-04  4643.485686  4.337591e+05          0  145797.590032\n",
       "2021-05  4530.388854  5.713602e+05          0  137601.146445\n",
       "2021-06  4416.415187  7.100282e+05          0  138667.960747\n",
       "2021-07  4308.848888  8.409005e+05          0  130872.330399\n",
       "2021-08  4200.448634  9.727875e+05          0  131886.976552\n",
       "2021-09  4094.775468  1.101357e+06          0  128569.018039\n",
       "2021-10  3995.043033  1.222698e+06          0  121341.129683\n",
       "2021-11  3894.537377  1.344980e+06          0  122281.880948\n",
       "2021-12  3799.681945  1.460387e+06          0  115407.442635\n",
       "2022-01  3704.091103  1.576689e+06          0  116302.190343\n",
       "2022-02  3610.905097  1.690065e+06          0  113376.307495\n",
       "2022-03  3528.753745  1.790016e+06          0   99950.812409\n",
       "2022-04  3439.978804  1.898026e+06          0  108009.511227\n",
       "2022-05  3356.194609  1.999963e+06          0  101937.436473\n",
       "2022-06  3271.760841  2.102691e+06          0  102727.751946\n",
       "2022-07  3192.073767  2.199644e+06          0   96952.606943\n",
       "2022-08  3111.768883  2.297348e+06          0   97704.275300\n",
       "2022-09  3033.484276  2.392594e+06          0   95246.271178\n",
       "2022-10  2959.600671  2.482486e+06          0   89891.719787\n",
       "2022-11  2885.144250  2.573074e+06          0   90588.645465\n",
       "2022-12  2814.873617  2.658570e+06          0   85495.936306\n",
       "2023-01  2744.058180  2.744729e+06          0   86158.781711"
      ]
     },
     "execution_count": 36,
     "metadata": {},
     "output_type": "execute_result"
    }
   ],
   "source": [
    "dc1.forecast(start=from_time,end=to_time,freq_output='M')"
   ]
  },
  {
   "cell_type": "code",
   "execution_count": 37,
   "metadata": {},
   "outputs": [
    {
     "name": "stderr",
     "output_type": "stream",
     "text": [
      "/home/scuervo/Documents/dev/dcapy/dcapy/dca/arps.py:78: RuntimeWarning: divide by zero encountered in true_divide\n",
      "  return qi/np.power(1+b*di*time_array,1/b)\n",
      "/home/scuervo/Documents/dev/dcapy/dcapy/dca/arps.py:101: RuntimeWarning: divide by zero encountered in true_divide\n",
      "  g = np.power(b*di*time_array+1,(b-1)/b)\n",
      "/home/scuervo/Documents/dev/dcapy/dcapy/dca/arps.py:102: RuntimeWarning: divide by zero encountered in true_divide\n",
      "  h = np.power(b*di*ti+1,(b-1)/b)\n"
     ]
    },
    {
     "data": {
      "text/html": [
       "<div>\n",
       "<style scoped>\n",
       "    .dataframe tbody tr th:only-of-type {\n",
       "        vertical-align: middle;\n",
       "    }\n",
       "\n",
       "    .dataframe tbody tr th {\n",
       "        vertical-align: top;\n",
       "    }\n",
       "\n",
       "    .dataframe thead th {\n",
       "        text-align: right;\n",
       "    }\n",
       "</style>\n",
       "<table border=\"1\" class=\"dataframe\">\n",
       "  <thead>\n",
       "    <tr style=\"text-align: right;\">\n",
       "      <th></th>\n",
       "      <th>rate</th>\n",
       "      <th>cumulative</th>\n",
       "      <th>iteration</th>\n",
       "      <th>volume</th>\n",
       "    </tr>\n",
       "  </thead>\n",
       "  <tbody>\n",
       "    <tr>\n",
       "      <th>2021</th>\n",
       "      <td>5000.000000</td>\n",
       "      <td>0.000000e+00</td>\n",
       "      <td>0</td>\n",
       "      <td>0.000000e+00</td>\n",
       "    </tr>\n",
       "    <tr>\n",
       "      <th>2022</th>\n",
       "      <td>3704.091103</td>\n",
       "      <td>1.576689e+06</td>\n",
       "      <td>0</td>\n",
       "      <td>1.576689e+06</td>\n",
       "    </tr>\n",
       "    <tr>\n",
       "      <th>2023</th>\n",
       "      <td>2744.058180</td>\n",
       "      <td>2.744729e+06</td>\n",
       "      <td>0</td>\n",
       "      <td>1.168040e+06</td>\n",
       "    </tr>\n",
       "  </tbody>\n",
       "</table>\n",
       "</div>"
      ],
      "text/plain": [
       "             rate    cumulative  iteration        volume\n",
       "2021  5000.000000  0.000000e+00          0  0.000000e+00\n",
       "2022  3704.091103  1.576689e+06          0  1.576689e+06\n",
       "2023  2744.058180  2.744729e+06          0  1.168040e+06"
      ]
     },
     "execution_count": 37,
     "metadata": {},
     "output_type": "execute_result"
    }
   ],
   "source": [
    "dc1.forecast(start=from_time,end=to_time,freq_output='A')"
   ]
  },
  {
   "cell_type": "code",
   "execution_count": 38,
   "metadata": {},
   "outputs": [
    {
     "data": {
      "text/html": [
       "<div>\n",
       "<style scoped>\n",
       "    .dataframe tbody tr th:only-of-type {\n",
       "        vertical-align: middle;\n",
       "    }\n",
       "\n",
       "    .dataframe tbody tr th {\n",
       "        vertical-align: top;\n",
       "    }\n",
       "\n",
       "    .dataframe thead th {\n",
       "        text-align: right;\n",
       "    }\n",
       "</style>\n",
       "<table border=\"1\" class=\"dataframe\">\n",
       "  <thead>\n",
       "    <tr style=\"text-align: right;\">\n",
       "      <th>to</th>\n",
       "      <th>A</th>\n",
       "      <th>D</th>\n",
       "      <th>M</th>\n",
       "    </tr>\n",
       "    <tr>\n",
       "      <th>from</th>\n",
       "      <th></th>\n",
       "      <th></th>\n",
       "      <th></th>\n",
       "    </tr>\n",
       "  </thead>\n",
       "  <tbody>\n",
       "    <tr>\n",
       "      <th>A</th>\n",
       "      <td>1.0</td>\n",
       "      <td>0.002740</td>\n",
       "      <td>0.083333</td>\n",
       "    </tr>\n",
       "    <tr>\n",
       "      <th>D</th>\n",
       "      <td>365.0</td>\n",
       "      <td>1.000000</td>\n",
       "      <td>30.000000</td>\n",
       "    </tr>\n",
       "    <tr>\n",
       "      <th>M</th>\n",
       "      <td>12.0</td>\n",
       "      <td>0.033333</td>\n",
       "      <td>1.000000</td>\n",
       "    </tr>\n",
       "  </tbody>\n",
       "</table>\n",
       "</div>"
      ],
      "text/plain": [
       "to        A         D          M\n",
       "from                            \n",
       "A       1.0  0.002740   0.083333\n",
       "D     365.0  1.000000  30.000000\n",
       "M      12.0  0.033333   1.000000"
      ]
     },
     "execution_count": 38,
     "metadata": {},
     "output_type": "execute_result"
    }
   ],
   "source": [
    "dca.time_converter_matrix"
   ]
  },
  {
   "cell_type": "code",
   "execution_count": 39,
   "metadata": {},
   "outputs": [
    {
     "name": "stderr",
     "output_type": "stream",
     "text": [
      "/home/scuervo/Documents/dev/dcapy/dcapy/dca/arps.py:78: RuntimeWarning: divide by zero encountered in true_divide\n",
      "  return qi/np.power(1+b*di*time_array,1/b)\n",
      "/home/scuervo/Documents/dev/dcapy/dcapy/dca/arps.py:101: RuntimeWarning: divide by zero encountered in true_divide\n",
      "  g = np.power(b*di*time_array+1,(b-1)/b)\n",
      "/home/scuervo/Documents/dev/dcapy/dcapy/dca/arps.py:102: RuntimeWarning: divide by zero encountered in true_divide\n",
      "  h = np.power(b*di*ti+1,(b-1)/b)\n"
     ]
    },
    {
     "name": "stdout",
     "output_type": "stream",
     "text": [
      "['2021-01-01' '2021-02-05' '2021-06-17' '2098-08-21']\n"
     ]
    },
    {
     "data": {
      "text/html": [
       "<div>\n",
       "<style scoped>\n",
       "    .dataframe tbody tr th:only-of-type {\n",
       "        vertical-align: middle;\n",
       "    }\n",
       "\n",
       "    .dataframe tbody tr th {\n",
       "        vertical-align: top;\n",
       "    }\n",
       "\n",
       "    .dataframe thead th {\n",
       "        text-align: right;\n",
       "    }\n",
       "</style>\n",
       "<table border=\"1\" class=\"dataframe\">\n",
       "  <thead>\n",
       "    <tr style=\"text-align: right;\">\n",
       "      <th></th>\n",
       "      <th>rate</th>\n",
       "      <th>cumulative</th>\n",
       "      <th>iteration</th>\n",
       "      <th>volume</th>\n",
       "    </tr>\n",
       "  </thead>\n",
       "  <tbody>\n",
       "    <tr>\n",
       "      <th>2021-01</th>\n",
       "      <td>5.000000e+03</td>\n",
       "      <td>0.000000e+00</td>\n",
       "      <td>0</td>\n",
       "      <td>0.000000e+00</td>\n",
       "    </tr>\n",
       "    <tr>\n",
       "      <th>2021-02</th>\n",
       "      <td>4.874212e+03</td>\n",
       "      <td>1.530420e+05</td>\n",
       "      <td>0</td>\n",
       "      <td>1.530420e+05</td>\n",
       "    </tr>\n",
       "    <tr>\n",
       "      <th>2021-06</th>\n",
       "      <td>4.416415e+03</td>\n",
       "      <td>7.100282e+05</td>\n",
       "      <td>0</td>\n",
       "      <td>5.569862e+05</td>\n",
       "    </tr>\n",
       "    <tr>\n",
       "      <th>2098-08</th>\n",
       "      <td>3.839821e-07</td>\n",
       "      <td>6.083333e+06</td>\n",
       "      <td>0</td>\n",
       "      <td>5.373305e+06</td>\n",
       "    </tr>\n",
       "  </tbody>\n",
       "</table>\n",
       "</div>"
      ],
      "text/plain": [
       "                 rate    cumulative  iteration        volume\n",
       "2021-01  5.000000e+03  0.000000e+00          0  0.000000e+00\n",
       "2021-02  4.874212e+03  1.530420e+05          0  1.530420e+05\n",
       "2021-06  4.416415e+03  7.100282e+05          0  5.569862e+05\n",
       "2098-08  3.839821e-07  6.083333e+06          0  5.373305e+06"
      ]
     },
     "execution_count": 39,
     "metadata": {},
     "output_type": "execute_result"
    }
   ],
   "source": [
    "times = np.array([date(2021,1,1), date(2021,2,5), date(2021,6,17),date(2098,8,21)], dtype='datetime64')\n",
    "print(times)\n",
    "dc1.forecast(time_list=times)"
   ]
  },
  {
   "cell_type": "code",
   "execution_count": 40,
   "metadata": {},
   "outputs": [
    {
     "name": "stdout",
     "output_type": "stream",
     "text": [
      "Example Arps Class with probabilistic methods\n",
      "Declination \n",
      " Ti: 2021-01-01 \n",
      " Qi: <scipy.stats._distn_infrastructure.rv_frozen object at 0x7f7986bfcc70> bbl/d \n",
      " Di: 0.3 A \n",
      " b: 0.0\n"
     ]
    }
   ],
   "source": [
    "print('Example Arps Class with probabilistic methods')\n",
    "#print(dca.time_converter_matrix)\n",
    "qi = stats.norm(loc=5000,scale=500)\n",
    "di = 0.3\n",
    "b = 0\n",
    "ti = date(2021,1,1)\n",
    "di_f = 'A'\n",
    "dc2 = dca.Arps(qi=qi,di=di,b=b,ti=ti,freq_di=di_f)\n",
    "print(dc2)"
   ]
  },
  {
   "cell_type": "code",
   "execution_count": 41,
   "metadata": {},
   "outputs": [
    {
     "name": "stderr",
     "output_type": "stream",
     "text": [
      "/home/scuervo/Documents/dev/dcapy/dcapy/dca/arps.py:272: RuntimeWarning: invalid value encountered in true_divide\n",
      "  (np.power(qi / rate, b) - 1)/(b * di)\n",
      "/home/scuervo/Documents/dev/dcapy/dcapy/dca/arps.py:78: RuntimeWarning: divide by zero encountered in true_divide\n",
      "  return qi/np.power(1+b*di*time_array,1/b)\n",
      "/home/scuervo/Documents/dev/dcapy/dcapy/dca/arps.py:101: RuntimeWarning: divide by zero encountered in true_divide\n",
      "  g = np.power(b*di*time_array+1,(b-1)/b)\n",
      "/home/scuervo/Documents/dev/dcapy/dcapy/dca/arps.py:102: RuntimeWarning: divide by zero encountered in true_divide\n",
      "  h = np.power(b*di*ti+1,(b-1)/b)\n"
     ]
    },
    {
     "data": {
      "text/html": [
       "<div>\n",
       "<style scoped>\n",
       "    .dataframe tbody tr th:only-of-type {\n",
       "        vertical-align: middle;\n",
       "    }\n",
       "\n",
       "    .dataframe tbody tr th {\n",
       "        vertical-align: top;\n",
       "    }\n",
       "\n",
       "    .dataframe thead th {\n",
       "        text-align: right;\n",
       "    }\n",
       "</style>\n",
       "<table border=\"1\" class=\"dataframe\">\n",
       "  <thead>\n",
       "    <tr style=\"text-align: right;\">\n",
       "      <th></th>\n",
       "      <th>rate</th>\n",
       "      <th>cumulative</th>\n",
       "      <th>iteration</th>\n",
       "      <th>volume</th>\n",
       "    </tr>\n",
       "  </thead>\n",
       "  <tbody>\n",
       "    <tr>\n",
       "      <th>2021-01</th>\n",
       "      <td>5185.201202</td>\n",
       "      <td>0.000000e+00</td>\n",
       "      <td>0</td>\n",
       "      <td>0.000000</td>\n",
       "    </tr>\n",
       "    <tr>\n",
       "      <th>2021-02</th>\n",
       "      <td>5054.754035</td>\n",
       "      <td>1.587107e+05</td>\n",
       "      <td>0</td>\n",
       "      <td>158710.719993</td>\n",
       "    </tr>\n",
       "    <tr>\n",
       "      <th>2021-03</th>\n",
       "      <td>4939.753815</td>\n",
       "      <td>2.986277e+05</td>\n",
       "      <td>0</td>\n",
       "      <td>139916.934604</td>\n",
       "    </tr>\n",
       "    <tr>\n",
       "      <th>2021-04</th>\n",
       "      <td>4815.481513</td>\n",
       "      <td>4.498256e+05</td>\n",
       "      <td>0</td>\n",
       "      <td>151197.967827</td>\n",
       "    </tr>\n",
       "    <tr>\n",
       "      <th>2021-05</th>\n",
       "      <td>4698.195546</td>\n",
       "      <td>5.925235e+05</td>\n",
       "      <td>0</td>\n",
       "      <td>142697.925999</td>\n",
       "    </tr>\n",
       "    <tr>\n",
       "      <th>2021-06</th>\n",
       "      <td>4580.000268</td>\n",
       "      <td>7.363278e+05</td>\n",
       "      <td>0</td>\n",
       "      <td>143804.255360</td>\n",
       "    </tr>\n",
       "    <tr>\n",
       "      <th>2021-07</th>\n",
       "      <td>4468.449687</td>\n",
       "      <td>8.720477e+05</td>\n",
       "      <td>0</td>\n",
       "      <td>135719.872989</td>\n",
       "    </tr>\n",
       "    <tr>\n",
       "      <th>2021-08</th>\n",
       "      <td>4356.034261</td>\n",
       "      <td>1.008820e+06</td>\n",
       "      <td>0</td>\n",
       "      <td>136772.101879</td>\n",
       "    </tr>\n",
       "    <tr>\n",
       "      <th>2021-09</th>\n",
       "      <td>4246.446936</td>\n",
       "      <td>1.142151e+06</td>\n",
       "      <td>0</td>\n",
       "      <td>133331.245385</td>\n",
       "    </tr>\n",
       "    <tr>\n",
       "      <th>2021-01</th>\n",
       "      <td>4702.686931</td>\n",
       "      <td>0.000000e+00</td>\n",
       "      <td>1</td>\n",
       "      <td>0.000000</td>\n",
       "    </tr>\n",
       "    <tr>\n",
       "      <th>2021-02</th>\n",
       "      <td>4584.378660</td>\n",
       "      <td>1.439417e+05</td>\n",
       "      <td>1</td>\n",
       "      <td>143941.729459</td>\n",
       "    </tr>\n",
       "    <tr>\n",
       "      <th>2021-03</th>\n",
       "      <td>4480.079904</td>\n",
       "      <td>2.708385e+05</td>\n",
       "      <td>1</td>\n",
       "      <td>126896.819247</td>\n",
       "    </tr>\n",
       "    <tr>\n",
       "      <th>2021-04</th>\n",
       "      <td>4367.371890</td>\n",
       "      <td>4.079666e+05</td>\n",
       "      <td>1</td>\n",
       "      <td>137128.084232</td>\n",
       "    </tr>\n",
       "    <tr>\n",
       "      <th>2021-05</th>\n",
       "      <td>4261.000090</td>\n",
       "      <td>5.373857e+05</td>\n",
       "      <td>1</td>\n",
       "      <td>129419.022605</td>\n",
       "    </tr>\n",
       "  </tbody>\n",
       "</table>\n",
       "</div>"
      ],
      "text/plain": [
       "                rate    cumulative  iteration         volume\n",
       "2021-01  5185.201202  0.000000e+00          0       0.000000\n",
       "2021-02  5054.754035  1.587107e+05          0  158710.719993\n",
       "2021-03  4939.753815  2.986277e+05          0  139916.934604\n",
       "2021-04  4815.481513  4.498256e+05          0  151197.967827\n",
       "2021-05  4698.195546  5.925235e+05          0  142697.925999\n",
       "2021-06  4580.000268  7.363278e+05          0  143804.255360\n",
       "2021-07  4468.449687  8.720477e+05          0  135719.872989\n",
       "2021-08  4356.034261  1.008820e+06          0  136772.101879\n",
       "2021-09  4246.446936  1.142151e+06          0  133331.245385\n",
       "2021-01  4702.686931  0.000000e+00          1       0.000000\n",
       "2021-02  4584.378660  1.439417e+05          1  143941.729459\n",
       "2021-03  4480.079904  2.708385e+05          1  126896.819247\n",
       "2021-04  4367.371890  4.079666e+05          1  137128.084232\n",
       "2021-05  4261.000090  5.373857e+05          1  129419.022605"
      ]
     },
     "execution_count": 41,
     "metadata": {},
     "output_type": "execute_result"
    }
   ],
   "source": [
    "dc2.forecast(start=date(2021,1,1), end=date(2022,1,1), iter=2, rate_limit=4200)"
   ]
  },
  {
   "cell_type": "code",
   "execution_count": 42,
   "metadata": {},
   "outputs": [
    {
     "name": "stderr",
     "output_type": "stream",
     "text": [
      "/home/scuervo/Documents/dev/dcapy/dcapy/dca/arps.py:78: RuntimeWarning: divide by zero encountered in true_divide\n",
      "  return qi/np.power(1+b*di*time_array,1/b)\n",
      "/home/scuervo/Documents/dev/dcapy/dcapy/dca/arps.py:101: RuntimeWarning: divide by zero encountered in true_divide\n",
      "  g = np.power(b*di*time_array+1,(b-1)/b)\n",
      "/home/scuervo/Documents/dev/dcapy/dcapy/dca/arps.py:102: RuntimeWarning: divide by zero encountered in true_divide\n",
      "  h = np.power(b*di*ti+1,(b-1)/b)\n"
     ]
    },
    {
     "data": {
      "image/png": "[encoded data removed]",
      "text/plain": [
       "<Figure size 432x288 with 1 Axes>"
      ]
     },
     "metadata": {
      "needs_background": "light"
     },
     "output_type": "display_data"
    }
   ],
   "source": [
    "dc2.plot(start=date(2021,1,1), end=date(2022,1,1), iter=8)"
   ]
  },
  {
   "cell_type": "code",
   "execution_count": 43,
   "metadata": {},
   "outputs": [
    {
     "name": "stdout",
     "output_type": "stream",
     "text": [
      "Example Arps Class with probabilistic methods\n",
      "Declination \n",
      " Ti: 2021-01-01 \n",
      " Qi: 1000.0 bbl/d \n",
      " Di: 0.6 A \n",
      " b: <scipy.stats._distn_infrastructure.rv_frozen object at 0x7f7986bc22e0>\n"
     ]
    }
   ],
   "source": [
    "print('Example Arps Class with probabilistic methods')\n",
    "#print(dca.time_converter_matrix)\n",
    "qi = 1000\n",
    "di = 0.6\n",
    "b = stats.uniform(loc=0,scale=1)\n",
    "ti = date(2021,1,1)\n",
    "di_f = 'A'\n",
    "dc3 = dca.Arps(qi=qi,di=di,b=b,ti=ti,freq_di=di_f)\n",
    "print(dc3)"
   ]
  },
  {
   "cell_type": "code",
   "execution_count": 44,
   "metadata": {},
   "outputs": [
    {
     "data": {
      "image/png": "[encoded data removed]",
      "text/plain": [
       "<Figure size 432x288 with 1 Axes>"
      ]
     },
     "metadata": {
      "needs_background": "light"
     },
     "output_type": "display_data"
    }
   ],
   "source": [
    "dc3.plot(start=date(2021,1,1), end=date(2022,1,1), iter=4)"
   ]
  },
  {
   "cell_type": "code",
   "execution_count": 45,
   "metadata": {},
   "outputs": [
    {
     "data": {
      "text/plain": [
       "{'qi': 1000.0,\n",
       " 'di': 0.6,\n",
       " 'b': <scipy.stats._distn_infrastructure.rv_frozen at 0x7f7986bc22e0>,\n",
       " 'ti': datetime.date(2021, 1, 1),\n",
       " 'freq_di': <FreqEnum.A: 'A'>,\n",
       " 'seed': None,\n",
       " 'fluid_rate': None,\n",
       " 'bsw': None,\n",
       " 'wor': None,\n",
       " 'gor': None,\n",
       " 'glr': None}"
      ]
     },
     "execution_count": 45,
     "metadata": {},
     "output_type": "execute_result"
    }
   ],
   "source": [
    "dc3.dict()"
   ]
  },
  {
   "cell_type": "code",
   "execution_count": null,
   "metadata": {},
   "outputs": [],
   "source": []
  }
 ],
 "metadata": {
  "kernelspec": {
   "display_name": "Python 3",
   "language": "python",
   "name": "python3"
  },
  "language_info": {
   "codemirror_mode": {
    "name": "ipython",
    "version": 3
   },
   "file_extension": ".py",
   "mimetype": "text/x-python",
   "name": "python",
   "nbconvert_exporter": "python",
   "pygments_lexer": "ipython3",
   "version": "3.8.6"
  }
 },
 "nbformat": 4,
 "nbformat_minor": 2
}
