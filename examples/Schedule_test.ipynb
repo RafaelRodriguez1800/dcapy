{
 "cells": [
  {
   "cell_type": "code",
   "execution_count": 1,
   "metadata": {},
   "outputs": [
    {
     "output_type": "stream",
     "name": "stdout",
     "text": [
      "/home/scuervo91/dev/dcapy\n/home/scuervo91/anaconda3/envs/reservoir/bin/python\n"
     ]
    }
   ],
   "source": [
    "import os\n",
    "path = os.path.abspath(os.path.join('..'))\n",
    "print(path)\n",
    "import sys\n",
    "\n",
    "sys.path.insert(0,path)\n",
    "print(sys.executable)"
   ]
  },
  {
   "cell_type": "code",
   "execution_count": 2,
   "metadata": {},
   "outputs": [],
   "source": [
    "from dcapy import dca\n",
    "from dcapy.schedule import PeriodSchedule, ScenarioSchedule\n",
    "import numpy as np \n",
    "import pandas as pd\n",
    "from datetime import date\n"
   ]
  },
  {
   "cell_type": "code",
   "execution_count": 3,
   "metadata": {},
   "outputs": [],
   "source": [
    "dca1 = dca.Arps(ti=date(2021,2,1), di=0.3, freq_di='A', qi=500, b=0)\n",
    "dca2 = dca.Arps(ti=0, di=0.3, freq_di='A', qi=500, b=0)"
   ]
  },
  {
   "cell_type": "code",
   "execution_count": 4,
   "metadata": {},
   "outputs": [],
   "source": [
    "p1 = dict(name='pdp',dca=dca1, start=date(2021,2,1), end=date(2022,1,1))\n",
    "p2 = dict(name='pdnp',dca=dca2, start=1, end=10)\n",
    "s1= PeriodSchedule(**p1)\n",
    "s2= PeriodSchedule(**p2)"
   ]
  },
  {
   "cell_type": "code",
   "execution_count": 5,
   "metadata": {},
   "outputs": [
    {
     "output_type": "execute_result",
     "data": {
      "text/plain": [
       "ScenarioSchedule(periods=[PeriodSchedule(name='pdp', dca=Declination \n",
       " Ti: 2021-02-01 \n",
       " Qi: 500.0 bbl/d \n",
       " Di: 0.3 A \n",
       " b: 0.0, start=datetime.date(2021, 2, 1), end=datetime.date(2022, 1, 1), freq_input='M', freq_output='M', rate_limit=None, cum_limit=None, fluid_rate=None, bsw=None, gor=None, glr=None, cashflow=None), PeriodSchedule(name='pdnp', dca=Declination \n",
       " Ti: 0 \n",
       " Qi: 500.0 bbl/d \n",
       " Di: 0.3 A \n",
       " b: 0.0, start=1, end=10, freq_input='M', freq_output='M', rate_limit=None, cum_limit=None, fluid_rate=None, bsw=None, gor=None, glr=None, cashflow=None)])"
      ]
     },
     "metadata": {},
     "execution_count": 5
    }
   ],
   "source": [
    "ScenarioSchedule(periods=[s1,s2])"
   ]
  },
  {
   "cell_type": "code",
   "execution_count": 6,
   "metadata": {},
   "outputs": [
    {
     "output_type": "execute_result",
     "data": {
      "text/plain": [
       "         rate     cumulative  iteration\n",
       "1  487.654956   14814.052783          0\n",
       "2  475.614712   29262.345300          0\n",
       "3  463.871743   43353.908203          0\n",
       "4  452.418709   57097.549178          0\n",
       "5  441.248451   70501.858449          0\n",
       "6  430.353988   83575.214145          0\n",
       "7  419.728510   96325.787538          0\n",
       "8  409.365377  108761.548153          0\n",
       "9  399.258109  120890.268744          0"
      ],
      "text/html": "<div>\n<style scoped>\n    .dataframe tbody tr th:only-of-type {\n        vertical-align: middle;\n    }\n\n    .dataframe tbody tr th {\n        vertical-align: top;\n    }\n\n    .dataframe thead th {\n        text-align: right;\n    }\n</style>\n<table border=\"1\" class=\"dataframe\">\n  <thead>\n    <tr style=\"text-align: right;\">\n      <th></th>\n      <th>rate</th>\n      <th>cumulative</th>\n      <th>iteration</th>\n    </tr>\n  </thead>\n  <tbody>\n    <tr>\n      <th>1</th>\n      <td>487.654956</td>\n      <td>14814.052783</td>\n      <td>0</td>\n    </tr>\n    <tr>\n      <th>2</th>\n      <td>475.614712</td>\n      <td>29262.345300</td>\n      <td>0</td>\n    </tr>\n    <tr>\n      <th>3</th>\n      <td>463.871743</td>\n      <td>43353.908203</td>\n      <td>0</td>\n    </tr>\n    <tr>\n      <th>4</th>\n      <td>452.418709</td>\n      <td>57097.549178</td>\n      <td>0</td>\n    </tr>\n    <tr>\n      <th>5</th>\n      <td>441.248451</td>\n      <td>70501.858449</td>\n      <td>0</td>\n    </tr>\n    <tr>\n      <th>6</th>\n      <td>430.353988</td>\n      <td>83575.214145</td>\n      <td>0</td>\n    </tr>\n    <tr>\n      <th>7</th>\n      <td>419.728510</td>\n      <td>96325.787538</td>\n      <td>0</td>\n    </tr>\n    <tr>\n      <th>8</th>\n      <td>409.365377</td>\n      <td>108761.548153</td>\n      <td>0</td>\n    </tr>\n    <tr>\n      <th>9</th>\n      <td>399.258109</td>\n      <td>120890.268744</td>\n      <td>0</td>\n    </tr>\n  </tbody>\n</table>\n</div>"
     },
     "metadata": {},
     "execution_count": 6
    }
   ],
   "source": [
    "s2.forecast()"
   ]
  },
  {
   "cell_type": "code",
   "execution_count": 7,
   "metadata": {},
   "outputs": [
    {
     "output_type": "execute_result",
     "data": {
      "text/plain": [
       "{'name': 'pdp',\n",
       " 'dca': {'ti': '2021-01-01',\n",
       "  'di': 0.3,\n",
       "  'freq_di': 'A',\n",
       "  'qi': [800, 500],\n",
       "  'b': 0},\n",
       " 'start': '2021-01-01',\n",
       " 'end': '2022-01-01'}"
      ]
     },
     "metadata": {},
     "execution_count": 7
    }
   ],
   "source": [
    "per ={\n",
    "    'name':'pdp',\n",
    "    'dca':{\n",
    "        'ti':'2021-01-01',\n",
    "        'di':0.3,\n",
    "        'freq_di':'A',\n",
    "        'qi':[800,500],\n",
    "        'b':0\n",
    "    },\n",
    "    'start':'2021-01-01',\n",
    "    'end':'2022-01-01'\n",
    "}\n",
    "per"
   ]
  },
  {
   "cell_type": "code",
   "execution_count": 8,
   "metadata": {},
   "outputs": [
    {
     "output_type": "execute_result",
     "data": {
      "text/plain": [
       "               rate    cumulative  iteration\n",
       "2021-01  800.000000  0.000000e+00          0\n",
       "2021-02  779.873928  7.346016e+05          0\n",
       "2021-03  762.131092  1.382215e+06          0\n",
       "2021-04  742.957710  2.082044e+06          0\n",
       "2021-05  724.862217  2.742529e+06          0\n",
       "2021-06  706.626430  3.408135e+06          0\n",
       "2021-07  689.415822  4.036322e+06          0\n",
       "2021-08  672.071781  4.669380e+06          0\n",
       "2021-09  655.164075  5.286511e+06          0\n",
       "2021-10  639.206885  5.868949e+06          0\n",
       "2021-11  623.125980  6.455902e+06          0\n",
       "2021-12  607.949111  7.009857e+06          0\n",
       "2022-01  592.654577  7.568108e+06          0\n",
       "2021-01  500.000000  0.000000e+00          1\n",
       "2021-02  487.421205  4.591260e+05          1\n",
       "2021-03  476.331932  8.638845e+05          1\n",
       "2021-04  464.348569  1.301277e+06          1\n",
       "2021-05  453.038885  1.714081e+06          1\n",
       "2021-06  441.641519  2.130085e+06          1\n",
       "2021-07  430.884889  2.522702e+06          1\n",
       "2021-08  420.044863  2.918362e+06          1\n",
       "2021-09  409.477547  3.304070e+06          1\n",
       "2021-10  399.504303  3.668093e+06          1\n",
       "2021-11  389.453738  4.034939e+06          1\n",
       "2021-12  379.968194  4.381161e+06          1\n",
       "2022-01  370.409110  4.730067e+06          1"
      ],
      "text/html": "<div>\n<style scoped>\n    .dataframe tbody tr th:only-of-type {\n        vertical-align: middle;\n    }\n\n    .dataframe tbody tr th {\n        vertical-align: top;\n    }\n\n    .dataframe thead th {\n        text-align: right;\n    }\n</style>\n<table border=\"1\" class=\"dataframe\">\n  <thead>\n    <tr style=\"text-align: right;\">\n      <th></th>\n      <th>rate</th>\n      <th>cumulative</th>\n      <th>iteration</th>\n    </tr>\n  </thead>\n  <tbody>\n    <tr>\n      <th>2021-01</th>\n      <td>800.000000</td>\n      <td>0.000000e+00</td>\n      <td>0</td>\n    </tr>\n    <tr>\n      <th>2021-02</th>\n      <td>779.873928</td>\n      <td>7.346016e+05</td>\n      <td>0</td>\n    </tr>\n    <tr>\n      <th>2021-03</th>\n      <td>762.131092</td>\n      <td>1.382215e+06</td>\n      <td>0</td>\n    </tr>\n    <tr>\n      <th>2021-04</th>\n      <td>742.957710</td>\n      <td>2.082044e+06</td>\n      <td>0</td>\n    </tr>\n    <tr>\n      <th>2021-05</th>\n      <td>724.862217</td>\n      <td>2.742529e+06</td>\n      <td>0</td>\n    </tr>\n    <tr>\n      <th>2021-06</th>\n      <td>706.626430</td>\n      <td>3.408135e+06</td>\n      <td>0</td>\n    </tr>\n    <tr>\n      <th>2021-07</th>\n      <td>689.415822</td>\n      <td>4.036322e+06</td>\n      <td>0</td>\n    </tr>\n    <tr>\n      <th>2021-08</th>\n      <td>672.071781</td>\n      <td>4.669380e+06</td>\n      <td>0</td>\n    </tr>\n    <tr>\n      <th>2021-09</th>\n      <td>655.164075</td>\n      <td>5.286511e+06</td>\n      <td>0</td>\n    </tr>\n    <tr>\n      <th>2021-10</th>\n      <td>639.206885</td>\n      <td>5.868949e+06</td>\n      <td>0</td>\n    </tr>\n    <tr>\n      <th>2021-11</th>\n      <td>623.125980</td>\n      <td>6.455902e+06</td>\n      <td>0</td>\n    </tr>\n    <tr>\n      <th>2021-12</th>\n      <td>607.949111</td>\n      <td>7.009857e+06</td>\n      <td>0</td>\n    </tr>\n    <tr>\n      <th>2022-01</th>\n      <td>592.654577</td>\n      <td>7.568108e+06</td>\n      <td>0</td>\n    </tr>\n    <tr>\n      <th>2021-01</th>\n      <td>500.000000</td>\n      <td>0.000000e+00</td>\n      <td>1</td>\n    </tr>\n    <tr>\n      <th>2021-02</th>\n      <td>487.421205</td>\n      <td>4.591260e+05</td>\n      <td>1</td>\n    </tr>\n    <tr>\n      <th>2021-03</th>\n      <td>476.331932</td>\n      <td>8.638845e+05</td>\n      <td>1</td>\n    </tr>\n    <tr>\n      <th>2021-04</th>\n      <td>464.348569</td>\n      <td>1.301277e+06</td>\n      <td>1</td>\n    </tr>\n    <tr>\n      <th>2021-05</th>\n      <td>453.038885</td>\n      <td>1.714081e+06</td>\n      <td>1</td>\n    </tr>\n    <tr>\n      <th>2021-06</th>\n      <td>441.641519</td>\n      <td>2.130085e+06</td>\n      <td>1</td>\n    </tr>\n    <tr>\n      <th>2021-07</th>\n      <td>430.884889</td>\n      <td>2.522702e+06</td>\n      <td>1</td>\n    </tr>\n    <tr>\n      <th>2021-08</th>\n      <td>420.044863</td>\n      <td>2.918362e+06</td>\n      <td>1</td>\n    </tr>\n    <tr>\n      <th>2021-09</th>\n      <td>409.477547</td>\n      <td>3.304070e+06</td>\n      <td>1</td>\n    </tr>\n    <tr>\n      <th>2021-10</th>\n      <td>399.504303</td>\n      <td>3.668093e+06</td>\n      <td>1</td>\n    </tr>\n    <tr>\n      <th>2021-11</th>\n      <td>389.453738</td>\n      <td>4.034939e+06</td>\n      <td>1</td>\n    </tr>\n    <tr>\n      <th>2021-12</th>\n      <td>379.968194</td>\n      <td>4.381161e+06</td>\n      <td>1</td>\n    </tr>\n    <tr>\n      <th>2022-01</th>\n      <td>370.409110</td>\n      <td>4.730067e+06</td>\n      <td>1</td>\n    </tr>\n  </tbody>\n</table>\n</div>"
     },
     "metadata": {},
     "execution_count": 8
    }
   ],
   "source": [
    "PeriodSchedule(**per).forecast() "
   ]
  },
  {
   "cell_type": "code",
   "execution_count": null,
   "metadata": {},
   "outputs": [],
   "source": []
  }
 ],
 "metadata": {
  "kernelspec": {
   "name": "python3",
   "display_name": "Python 3.8.6 64-bit ('reservoir': conda)",
   "metadata": {
    "interpreter": {
     "hash": "2734225794a599eee73db8b28313b5c7010c8c5556bd85f7e50dc3b83f8d403a"
    }
   }
  },
  "language_info": {
   "codemirror_mode": {
    "name": "ipython",
    "version": 3
   },
   "file_extension": ".py",
   "mimetype": "text/x-python",
   "name": "python",
   "nbconvert_exporter": "python",
   "pygments_lexer": "ipython3",
   "version": "3.8.6"
  }
 },
 "nbformat": 4,
 "nbformat_minor": 4
}