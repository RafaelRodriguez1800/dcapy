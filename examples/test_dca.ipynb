{
 "metadata": {
  "language_info": {
   "codemirror_mode": {
    "name": "ipython",
    "version": 3
   },
   "file_extension": ".py",
   "mimetype": "text/x-python",
   "name": "python",
   "nbconvert_exporter": "python",
   "pygments_lexer": "ipython3",
   "version": "3.8.6-final"
  },
  "orig_nbformat": 2,
  "kernelspec": {
   "name": "python3",
   "display_name": "Python 3.8.6 64-bit ('reservoir': conda)",
   "metadata": {
    "interpreter": {
     "hash": "2734225794a599eee73db8b28313b5c7010c8c5556bd85f7e50dc3b83f8d403a"
    }
   }
  }
 },
 "nbformat": 4,
 "nbformat_minor": 2,
 "cells": [
  {
   "cell_type": "code",
   "execution_count": 1,
   "metadata": {},
   "outputs": [
    {
     "output_type": "stream",
     "name": "stdout",
     "text": [
      "/home/scuervo91/dev/dcapy\n/home/scuervo91/anaconda3/envs/reservoir/bin/python\n"
     ]
    }
   ],
   "source": [
    "import os\n",
    "path = os.path.abspath(os.path.join('..'))\n",
    "print(path)\n",
    "import sys\n",
    "\n",
    "sys.path.insert(0,path)\n",
    "print(sys.executable)"
   ]
  },
  {
   "cell_type": "code",
   "execution_count": 2,
   "metadata": {},
   "outputs": [],
   "source": [
    "from dcapy import dca\n",
    "import numpy as np \n",
    "import pandas as pd\n",
    "from datetime import date\n",
    "import matplotlib.pyplot as plt\n",
    "import seaborn as sns \n",
    "from scipy import stats"
   ]
  },
  {
   "source": [
    "# dcapy Basis Examples to try"
   ],
   "cell_type": "markdown",
   "metadata": {}
  },
  {
   "source": [
    "## Basics Equations\n",
    "\n",
    "First Section will explore the Arps Declination Analysis equations. \n",
    "Starting from Equations used to calculate rate then cumulatives.\n",
    "\n",
    "The library numpy is used to performed the majority of operations"
   ],
   "cell_type": "markdown",
   "metadata": {}
  },
  {
   "source": [
    "### Exponential b = 0, Examples\n",
    "\n",
    "The time array used with this function is relative to a Initial Time which is always 0"
   ],
   "cell_type": "markdown",
   "metadata": {}
  },
  {
   "cell_type": "code",
   "execution_count": 3,
   "metadata": {},
   "outputs": [
    {
     "output_type": "execute_result",
     "data": {
      "text/plain": [
       "array([500.        , 274.40581805, 203.28482987, 150.59710596,\n",
       "        24.89353418])"
      ]
     },
     "metadata": {},
     "execution_count": 3
    }
   ],
   "source": [
    "time1 = [0,2,3,4,10]\n",
    "qi1 = 500\n",
    "di1 = 0.3 \n",
    "dca.arps_exp_rate(time1,qi1,di1)"
   ]
  },
  {
   "source": [
    "Cumulative volume can be calculated  for any timestep"
   ],
   "cell_type": "markdown",
   "metadata": {}
  },
  {
   "cell_type": "code",
   "execution_count": 4,
   "metadata": {},
   "outputs": [
    {
     "output_type": "execute_result",
     "data": {
      "text/plain": [
       "array([   0.        ,  751.98060651,  989.0505671 , 1164.67631348,\n",
       "       1583.68821939])"
      ]
     },
     "metadata": {},
     "execution_count": 4
    }
   ],
   "source": [
    "dca.arps_exp_cumulative(time1,qi1,di1)\n"
   ]
  },
  {
   "source": [
    "### Hyperbolic 0<b<1, Examples\n",
    "\n",
    "The time array used with this function is relative to a Initial Time which is always 0"
   ],
   "cell_type": "markdown",
   "metadata": {}
  },
  {
   "cell_type": "code",
   "execution_count": 5,
   "metadata": {},
   "outputs": [
    {
     "output_type": "execute_result",
     "data": {
      "text/plain": [
       "array([500.        , 295.85798817, 237.81212842, 195.3125    ,\n",
       "        80.        ])"
      ]
     },
     "metadata": {},
     "execution_count": 5
    }
   ],
   "source": [
    "b = 0.5\n",
    "dca.arps_hyp_rate(time1,qi1,di1,b)"
   ]
  },
  {
   "cell_type": "code",
   "execution_count": 6,
   "metadata": {},
   "outputs": [
    {
     "output_type": "execute_result",
     "data": {
      "text/plain": [
       "array([  -0.        ,  769.23076923, 1034.48275862, 1250.        ,\n",
       "       2000.        ])"
      ]
     },
     "metadata": {},
     "execution_count": 6
    }
   ],
   "source": [
    "dca.arps_hyp_cumulative(time1,qi1,di1,b,ti=0)"
   ]
  },
  {
   "source": [
    "### Armonic, Examples\n",
    "\n",
    "The time array used with this function is relative to a Initial Time which is always 0"
   ],
   "cell_type": "markdown",
   "metadata": {}
  },
  {
   "cell_type": "code",
   "execution_count": 7,
   "metadata": {},
   "outputs": [
    {
     "output_type": "execute_result",
     "data": {
      "text/plain": [
       "array([500.        , 312.5       , 263.15789474, 227.27272727,\n",
       "       125.        ])"
      ]
     },
     "metadata": {},
     "execution_count": 7
    }
   ],
   "source": [
    "b = 1\n",
    "dca.arps_hyp_rate(time1,qi1,di1,b)"
   ]
  },
  {
   "cell_type": "code",
   "execution_count": 8,
   "metadata": {},
   "outputs": [
    {
     "output_type": "execute_result",
     "data": {
      "text/plain": [
       "array([   0.        ,  783.33938208, 1069.75647695, 1314.09560061,\n",
       "       2310.49060187])"
      ]
     },
     "metadata": {},
     "execution_count": 8
    }
   ],
   "source": [
    "dca.arps_arm_cumulative(time1,qi1,di1,b,ti=0)"
   ]
  },
  {
   "source": [
    "## Use arps_forecast and arps_cumulative \n",
    "independently of the b. It internally uses the appropiate equation"
   ],
   "cell_type": "markdown",
   "metadata": {}
  },
  {
   "cell_type": "code",
   "execution_count": 9,
   "metadata": {},
   "outputs": [
    {
     "output_type": "stream",
     "name": "stdout",
     "text": [
      "Examples Arps Forecast function\nExample 1. Single Values\nForecast Example 1\n[500.         274.40581805 150.59710596  82.64944411]\n"
     ]
    }
   ],
   "source": [
    "print('Examples Arps Forecast function')\n",
    "\n",
    "print('Example 1. Single Values')\n",
    "time1 = [0,2,4,6]\n",
    "qi1 = 500,\n",
    "di1 = 0.3\n",
    "b1 = 0 \n",
    "f1 = dca.arps_forecast(time1,qi1,di1,b1)\n",
    "print('Forecast Example 1')\n",
    "print(f1)\n"
   ]
  },
  {
   "cell_type": "code",
   "execution_count": 10,
   "metadata": {},
   "outputs": [
    {
     "output_type": "execute_result",
     "data": {
      "text/plain": [
       "array([   0.        ,  751.98060651, 1164.67631348, 1391.16851963])"
      ]
     },
     "metadata": {},
     "execution_count": 10
    }
   ],
   "source": [
    "dca.arps_cumulative(time1,qi1,di1,b1)"
   ]
  },
  {
   "cell_type": "code",
   "execution_count": 11,
   "metadata": {},
   "outputs": [
    {
     "output_type": "stream",
     "name": "stdout",
     "text": [
      "\nExample 2. Multiple values\n ->Time array [0, 2, 4, 6]\n ->qi [600, 700, 900]\n -> di 0.3\n b [0, 0.5, 1]\nForecast Example 2\n[[600.         700.         900.        ]\n [329.28698166 414.20118343 562.5       ]\n [180.71652715 273.4375     409.09090909]\n [ 99.17933293 193.90581717 321.42857143]]\n"
     ]
    },
    {
     "output_type": "execute_result",
     "data": {
      "text/plain": [
       "(4, 3)"
      ]
     },
     "metadata": {},
     "execution_count": 11
    }
   ],
   "source": [
    "print('\\nExample 2. Multiple values')\n",
    "time2 = [0,2,4,6]\n",
    "qi2 = [600,700,900]\n",
    "di2 = 0.3\n",
    "b2 = [0,0.5,1]\n",
    "print(f' ->Time array {time2}\\n ->qi {qi2}\\n -> di {di2}\\n b {b2}')    \n",
    "f2 = dca.arps_forecast(time2,qi2,di2,b2)\n",
    "print('Forecast Example 2')\n",
    "print(f2)\n",
    "f2.shape"
   ]
  },
  {
   "cell_type": "code",
   "execution_count": 12,
   "metadata": {},
   "outputs": [
    {
     "output_type": "execute_result",
     "data": {
      "text/plain": [
       "array([[   0.        ,   -0.        ,    0.        ],\n",
       "       [ 902.37672781, 1076.92307692, 1410.01088774],\n",
       "       [1397.61157618, 1750.        , 2365.37208109],\n",
       "       [1669.40222356, 2210.52631579, 3088.85825154]])"
      ]
     },
     "metadata": {},
     "execution_count": 12
    }
   ],
   "source": [
    "dca.arps_cumulative(time2,qi2,di2,b2)"
   ]
  },
  {
   "source": [
    "# Arps Class"
   ],
   "cell_type": "markdown",
   "metadata": {}
  },
  {
   "cell_type": "code",
   "execution_count": 13,
   "metadata": {},
   "outputs": [
    {
     "output_type": "stream",
     "name": "stdout",
     "text": [
      "Example Arps Class\n ->qi 5000\n -> di 0.3\n b 0\n ->di_freq A\n"
     ]
    }
   ],
   "source": [
    "print('Example Arps Class')\n",
    "#print(dca.time_converter_matrix)\n",
    "qi = 5000\n",
    "di = 0.3\n",
    "b = 0\n",
    "ti = 0\n",
    "di_f = 'A'\n",
    "print(f' ->qi {qi}\\n -> di {di}\\n b {b}\\n ->di_freq {di_f}')  \n",
    "dc = dca.Arps(qi,di,b,ti,freq_di=di_f)"
   ]
  },
  {
   "cell_type": "code",
   "execution_count": 14,
   "metadata": {},
   "outputs": [
    {
     "output_type": "execute_result",
     "data": {
      "text/plain": [
       "Declination \n",
       " Ti: 0 \n",
       " Qi: 5000 bbl/d \n",
       " Rate: 0.3 A \n",
       " b: 0"
      ]
     },
     "metadata": {},
     "execution_count": 14
    }
   ],
   "source": [
    "dc"
   ]
  },
  {
   "cell_type": "code",
   "execution_count": 15,
   "metadata": {},
   "outputs": [
    {
     "output_type": "stream",
     "name": "stdout",
     "text": [
      "Calculate Daily Basis each day\n"
     ]
    },
    {
     "output_type": "execute_result",
     "data": {
      "text/plain": [
       "            rate    cumulative\n",
       "0    5000.000000  0.000000e+00\n",
       "1    4995.892099  4.997946e+03\n",
       "2    4991.787574  9.991785e+03\n",
       "3    4987.686420  1.498152e+04\n",
       "4    4983.588636  1.996716e+04\n",
       "..           ...           ...\n",
       "360  3719.344717  1.558131e+06\n",
       "361  3716.288977  1.561848e+06\n",
       "362  3713.235748  1.565563e+06\n",
       "363  3710.185028  1.569275e+06\n",
       "364  3707.136813  1.572984e+06\n",
       "\n",
       "[365 rows x 2 columns]"
      ],
      "text/html": "<div>\n<style scoped>\n    .dataframe tbody tr th:only-of-type {\n        vertical-align: middle;\n    }\n\n    .dataframe tbody tr th {\n        vertical-align: top;\n    }\n\n    .dataframe thead th {\n        text-align: right;\n    }\n</style>\n<table border=\"1\" class=\"dataframe\">\n  <thead>\n    <tr style=\"text-align: right;\">\n      <th></th>\n      <th>rate</th>\n      <th>cumulative</th>\n    </tr>\n  </thead>\n  <tbody>\n    <tr>\n      <th>0</th>\n      <td>5000.000000</td>\n      <td>0.000000e+00</td>\n    </tr>\n    <tr>\n      <th>1</th>\n      <td>4995.892099</td>\n      <td>4.997946e+03</td>\n    </tr>\n    <tr>\n      <th>2</th>\n      <td>4991.787574</td>\n      <td>9.991785e+03</td>\n    </tr>\n    <tr>\n      <th>3</th>\n      <td>4987.686420</td>\n      <td>1.498152e+04</td>\n    </tr>\n    <tr>\n      <th>4</th>\n      <td>4983.588636</td>\n      <td>1.996716e+04</td>\n    </tr>\n    <tr>\n      <th>...</th>\n      <td>...</td>\n      <td>...</td>\n    </tr>\n    <tr>\n      <th>360</th>\n      <td>3719.344717</td>\n      <td>1.558131e+06</td>\n    </tr>\n    <tr>\n      <th>361</th>\n      <td>3716.288977</td>\n      <td>1.561848e+06</td>\n    </tr>\n    <tr>\n      <th>362</th>\n      <td>3713.235748</td>\n      <td>1.565563e+06</td>\n    </tr>\n    <tr>\n      <th>363</th>\n      <td>3710.185028</td>\n      <td>1.569275e+06</td>\n    </tr>\n    <tr>\n      <th>364</th>\n      <td>3707.136813</td>\n      <td>1.572984e+06</td>\n    </tr>\n  </tbody>\n</table>\n<p>365 rows × 2 columns</p>\n</div>"
     },
     "metadata": {},
     "execution_count": 15
    }
   ],
   "source": [
    "print('Calculate Daily Basis each day')\n",
    "#print(dc.forecast(start=0,end=1000,freq_input='D',freq_output='D'))\n",
    "dd = dc.forecast(start=0,end=365,freq_input='D',freq_output='D')\n",
    "\n",
    "dd"
   ]
  },
  {
   "cell_type": "code",
   "execution_count": 16,
   "metadata": {},
   "outputs": [
    {
     "output_type": "stream",
     "name": "stdout",
     "text": [
      "Calculate Daily Basis each Month\n            rate    cumulative\n0    5000.000000  0.000000e+00\n30   4878.219897  1.481658e+05\n60   4759.405873  2.927229e+05\n90   4643.485686  4.337591e+05\n120  4530.388854  5.713602e+05\n150  4420.046610  7.056100e+05\n180  4312.391864  8.365899e+05\n210  4207.359159  9.643797e+05\n240  4104.884633  1.089057e+06\n270  4004.905979  1.210698e+06\n300  3907.362406  1.329376e+06\n330  3812.194607  1.445163e+06\n360  3719.344717  1.558131e+06\n"
     ]
    }
   ],
   "source": [
    "print('Calculate Daily Basis each Month')\n",
    "print(dc.forecast(start=0,end=365,freq_input='D',freq_output='M'))"
   ]
  },
  {
   "cell_type": "code",
   "execution_count": 17,
   "metadata": {},
   "outputs": [
    {
     "output_type": "stream",
     "name": "stdout",
     "text": [
      "Calculate Daily Basis each Year\n            rate    cumulative\n0    5000.000000  0.000000e+00\n365  3704.091103  1.576689e+06\n"
     ]
    }
   ],
   "source": [
    "print('Calculate Daily Basis each Year')\n",
    "print(dc.forecast(start=0,end=366,freq_input='D',freq_output='A'))"
   ]
  },
  {
   "cell_type": "code",
   "execution_count": 19,
   "metadata": {},
   "outputs": [
    {
     "output_type": "stream",
     "name": "stdout",
     "text": [
      "Calculate Monthly Basis each Month\n           rate    cumulative\n0   5000.000000  0.000000e+00\n1   4876.549560  1.481405e+05\n2   4756.147123  2.926235e+05\n3   4638.717432  4.335391e+05\n4   4524.187090  5.709755e+05\n5   4412.484513  7.050186e+05\n6   4303.539882  8.357521e+05\n7   4197.285104  9.632579e+05\n8   4093.653765  1.087615e+06\n9   3992.581094  1.208903e+06\n10  3894.003915  1.327195e+06\n11  3797.860616  1.442567e+06\n12  3704.091103  1.555091e+06\n"
     ]
    }
   ],
   "source": [
    "print('Calculate Monthly Basis each Month')\n",
    "print(dc.forecast(start=0,end=13,freq_input='M',freq_output='M'))"
   ]
  },
  {
   "cell_type": "code",
   "execution_count": 20,
   "metadata": {},
   "outputs": [
    {
     "output_type": "stream",
     "name": "stdout",
     "text": [
      "Calculate Monthly Basis each Year\n           rate    cumulative\n0   5000.000000  0.000000e+00\n12  3704.091103  1.555091e+06\n"
     ]
    }
   ],
   "source": [
    "print('Calculate Monthly Basis each Year')\n",
    "print(dc.forecast(start=0,end=13,freq_input='M',freq_output='A'))"
   ]
  },
  {
   "cell_type": "code",
   "execution_count": 23,
   "metadata": {},
   "outputs": [
    {
     "output_type": "stream",
     "name": "stdout",
     "text": [
      "Calculate Year Basis each Year\n          rate    cumulative\n0  5000.000000  0.000000e+00\n1  3704.091103  1.576689e+06\n"
     ]
    }
   ],
   "source": [
    "print('Calculate Year Basis each Year')\n",
    "print(dc.forecast(start=0,end=2,freq_input='A',freq_output='A'))"
   ]
  },
  {
   "cell_type": "code",
   "execution_count": 24,
   "metadata": {},
   "outputs": [
    {
     "output_type": "stream",
     "name": "stdout",
     "text": [
      "Calculate Year Basis each Year - Rate Limit\n          rate    cumulative\n0  5000.000000  0.000000e+00\n1  3704.091103  1.576689e+06\n2  2744.058180  2.744729e+06\n3  2032.848299  3.610035e+06\n4  1505.971060  4.251069e+06\n5  1115.650801  4.725958e+06\n6   826.494441  5.077765e+06\n7   612.282141  5.338390e+06\n"
     ]
    }
   ],
   "source": [
    "print('Calculate Year Basis each Year - Rate Limit')\n",
    "print(dc.forecast(start=0,end=15,freq_input='A',freq_output='A',rate_limit=500))\n"
   ]
  },
  {
   "source": [
    "## Using Arps with dates"
   ],
   "cell_type": "markdown",
   "metadata": {}
  },
  {
   "cell_type": "code",
   "execution_count": 25,
   "metadata": {},
   "outputs": [
    {
     "output_type": "stream",
     "name": "stdout",
     "text": [
      "Example Arps Class\nDeclination \n Ti: 2021-01-01 \n Qi: 5000 bbl/d \n Rate: 0.3 A \n b: 0\n"
     ]
    }
   ],
   "source": [
    "print('Example Arps Class')\n",
    "#print(dca.time_converter_matrix)\n",
    "qi = 5000\n",
    "di = 0.3\n",
    "b = 0\n",
    "ti = date(2021,1,1)\n",
    "di_f = 'A'\n",
    "dc1 = dca.Arps(qi,di,b,ti,freq_di=di_f)\n",
    "print(dc1)"
   ]
  },
  {
   "cell_type": "code",
   "execution_count": 27,
   "metadata": {},
   "outputs": [
    {
     "output_type": "execute_result",
     "data": {
      "text/plain": [
       "            rate    cumulative\n",
       "0    5000.000000  0.000000e+00\n",
       "1    4995.892099  4.997946e+03\n",
       "2    4991.787574  9.991785e+03\n",
       "3    4987.686420  1.498152e+04\n",
       "4    4983.588636  1.996716e+04\n",
       "..           ...           ...\n",
       "726  2753.094588  2.733735e+06\n",
       "727  2750.832700  2.736487e+06\n",
       "728  2748.572671  2.739237e+06\n",
       "729  2746.314498  2.741984e+06\n",
       "730  2744.058180  2.744729e+06\n",
       "\n",
       "[731 rows x 2 columns]"
      ],
      "text/html": "<div>\n<style scoped>\n    .dataframe tbody tr th:only-of-type {\n        vertical-align: middle;\n    }\n\n    .dataframe tbody tr th {\n        vertical-align: top;\n    }\n\n    .dataframe thead th {\n        text-align: right;\n    }\n</style>\n<table border=\"1\" class=\"dataframe\">\n  <thead>\n    <tr style=\"text-align: right;\">\n      <th></th>\n      <th>rate</th>\n      <th>cumulative</th>\n    </tr>\n  </thead>\n  <tbody>\n    <tr>\n      <th>0</th>\n      <td>5000.000000</td>\n      <td>0.000000e+00</td>\n    </tr>\n    <tr>\n      <th>1</th>\n      <td>4995.892099</td>\n      <td>4.997946e+03</td>\n    </tr>\n    <tr>\n      <th>2</th>\n      <td>4991.787574</td>\n      <td>9.991785e+03</td>\n    </tr>\n    <tr>\n      <th>3</th>\n      <td>4987.686420</td>\n      <td>1.498152e+04</td>\n    </tr>\n    <tr>\n      <th>4</th>\n      <td>4983.588636</td>\n      <td>1.996716e+04</td>\n    </tr>\n    <tr>\n      <th>...</th>\n      <td>...</td>\n      <td>...</td>\n    </tr>\n    <tr>\n      <th>726</th>\n      <td>2753.094588</td>\n      <td>2.733735e+06</td>\n    </tr>\n    <tr>\n      <th>727</th>\n      <td>2750.832700</td>\n      <td>2.736487e+06</td>\n    </tr>\n    <tr>\n      <th>728</th>\n      <td>2748.572671</td>\n      <td>2.739237e+06</td>\n    </tr>\n    <tr>\n      <th>729</th>\n      <td>2746.314498</td>\n      <td>2.741984e+06</td>\n    </tr>\n    <tr>\n      <th>730</th>\n      <td>2744.058180</td>\n      <td>2.744729e+06</td>\n    </tr>\n  </tbody>\n</table>\n<p>731 rows × 2 columns</p>\n</div>"
     },
     "metadata": {},
     "execution_count": 27
    }
   ],
   "source": [
    "from_time = date(2021,1,1)\n",
    "to_time = date(2023,1,1)\n",
    "\n",
    "dc1.forecast(start=from_time,end=to_time)"
   ]
  },
  {
   "cell_type": "code",
   "execution_count": 28,
   "metadata": {},
   "outputs": [
    {
     "output_type": "execute_result",
     "data": {
      "text/plain": [
       "            rate    cumulative\n",
       "30   4878.219897  1.481658e+05\n",
       "58   4767.235988  2.831962e+05\n",
       "89   4647.303819  4.291137e+05\n",
       "119  4534.113992  5.668280e+05\n",
       "150  4420.046610  7.056100e+05\n",
       "180  4312.391864  8.365899e+05\n",
       "211  4203.902476  9.685853e+05\n",
       "242  4098.142420  1.097260e+06\n",
       "272  3998.327979  1.218701e+06\n",
       "303  3897.739683  1.341083e+06\n",
       "333  3802.806255  1.456586e+06\n",
       "364  3707.136813  1.572984e+06\n",
       "395  3613.874184  1.686453e+06\n",
       "423  3531.655282  1.786486e+06\n",
       "454  3442.807346  1.894584e+06\n",
       "484  3358.954260  1.996606e+06\n",
       "515  3274.451065  2.099418e+06\n",
       "545  3194.698467  2.196450e+06\n",
       "576  3114.327552  2.294235e+06\n",
       "607  3035.978576  2.389559e+06\n",
       "637  2962.034219  2.479525e+06\n",
       "668  2887.516576  2.570188e+06\n",
       "698  2817.188163  2.655754e+06\n",
       "729  2746.314498  2.741984e+06"
      ],
      "text/html": "<div>\n<style scoped>\n    .dataframe tbody tr th:only-of-type {\n        vertical-align: middle;\n    }\n\n    .dataframe tbody tr th {\n        vertical-align: top;\n    }\n\n    .dataframe thead th {\n        text-align: right;\n    }\n</style>\n<table border=\"1\" class=\"dataframe\">\n  <thead>\n    <tr style=\"text-align: right;\">\n      <th></th>\n      <th>rate</th>\n      <th>cumulative</th>\n    </tr>\n  </thead>\n  <tbody>\n    <tr>\n      <th>30</th>\n      <td>4878.219897</td>\n      <td>1.481658e+05</td>\n    </tr>\n    <tr>\n      <th>58</th>\n      <td>4767.235988</td>\n      <td>2.831962e+05</td>\n    </tr>\n    <tr>\n      <th>89</th>\n      <td>4647.303819</td>\n      <td>4.291137e+05</td>\n    </tr>\n    <tr>\n      <th>119</th>\n      <td>4534.113992</td>\n      <td>5.668280e+05</td>\n    </tr>\n    <tr>\n      <th>150</th>\n      <td>4420.046610</td>\n      <td>7.056100e+05</td>\n    </tr>\n    <tr>\n      <th>180</th>\n      <td>4312.391864</td>\n      <td>8.365899e+05</td>\n    </tr>\n    <tr>\n      <th>211</th>\n      <td>4203.902476</td>\n      <td>9.685853e+05</td>\n    </tr>\n    <tr>\n      <th>242</th>\n      <td>4098.142420</td>\n      <td>1.097260e+06</td>\n    </tr>\n    <tr>\n      <th>272</th>\n      <td>3998.327979</td>\n      <td>1.218701e+06</td>\n    </tr>\n    <tr>\n      <th>303</th>\n      <td>3897.739683</td>\n      <td>1.341083e+06</td>\n    </tr>\n    <tr>\n      <th>333</th>\n      <td>3802.806255</td>\n      <td>1.456586e+06</td>\n    </tr>\n    <tr>\n      <th>364</th>\n      <td>3707.136813</td>\n      <td>1.572984e+06</td>\n    </tr>\n    <tr>\n      <th>395</th>\n      <td>3613.874184</td>\n      <td>1.686453e+06</td>\n    </tr>\n    <tr>\n      <th>423</th>\n      <td>3531.655282</td>\n      <td>1.786486e+06</td>\n    </tr>\n    <tr>\n      <th>454</th>\n      <td>3442.807346</td>\n      <td>1.894584e+06</td>\n    </tr>\n    <tr>\n      <th>484</th>\n      <td>3358.954260</td>\n      <td>1.996606e+06</td>\n    </tr>\n    <tr>\n      <th>515</th>\n      <td>3274.451065</td>\n      <td>2.099418e+06</td>\n    </tr>\n    <tr>\n      <th>545</th>\n      <td>3194.698467</td>\n      <td>2.196450e+06</td>\n    </tr>\n    <tr>\n      <th>576</th>\n      <td>3114.327552</td>\n      <td>2.294235e+06</td>\n    </tr>\n    <tr>\n      <th>607</th>\n      <td>3035.978576</td>\n      <td>2.389559e+06</td>\n    </tr>\n    <tr>\n      <th>637</th>\n      <td>2962.034219</td>\n      <td>2.479525e+06</td>\n    </tr>\n    <tr>\n      <th>668</th>\n      <td>2887.516576</td>\n      <td>2.570188e+06</td>\n    </tr>\n    <tr>\n      <th>698</th>\n      <td>2817.188163</td>\n      <td>2.655754e+06</td>\n    </tr>\n    <tr>\n      <th>729</th>\n      <td>2746.314498</td>\n      <td>2.741984e+06</td>\n    </tr>\n  </tbody>\n</table>\n</div>"
     },
     "metadata": {},
     "execution_count": 28
    }
   ],
   "source": [
    "dc1.forecast(start=from_time,end=to_time,freq_input='M')"
   ]
  },
  {
   "cell_type": "code",
   "execution_count": 29,
   "metadata": {},
   "outputs": [
    {
     "output_type": "execute_result",
     "data": {
      "text/plain": [
       "            rate    cumulative\n",
       "364  3707.136813  1.572984e+06\n",
       "729  2746.314498  2.741984e+06"
      ],
      "text/html": "<div>\n<style scoped>\n    .dataframe tbody tr th:only-of-type {\n        vertical-align: middle;\n    }\n\n    .dataframe tbody tr th {\n        vertical-align: top;\n    }\n\n    .dataframe thead th {\n        text-align: right;\n    }\n</style>\n<table border=\"1\" class=\"dataframe\">\n  <thead>\n    <tr style=\"text-align: right;\">\n      <th></th>\n      <th>rate</th>\n      <th>cumulative</th>\n    </tr>\n  </thead>\n  <tbody>\n    <tr>\n      <th>364</th>\n      <td>3707.136813</td>\n      <td>1.572984e+06</td>\n    </tr>\n    <tr>\n      <th>729</th>\n      <td>2746.314498</td>\n      <td>2.741984e+06</td>\n    </tr>\n  </tbody>\n</table>\n</div>"
     },
     "metadata": {},
     "execution_count": 29
    }
   ],
   "source": [
    "dc1.forecast(start=from_time,end=to_time,freq_input='A')"
   ]
  },
  {
   "cell_type": "code",
   "execution_count": 30,
   "metadata": {},
   "outputs": [
    {
     "output_type": "execute_result",
     "data": {
      "text/plain": [
       "to        A         D          M\n",
       "from                            \n",
       "A       1.0  0.002740   0.083333\n",
       "D     365.0  1.000000  30.000000\n",
       "M      12.0  0.033333   1.000000"
      ],
      "text/html": "<div>\n<style scoped>\n    .dataframe tbody tr th:only-of-type {\n        vertical-align: middle;\n    }\n\n    .dataframe tbody tr th {\n        vertical-align: top;\n    }\n\n    .dataframe thead th {\n        text-align: right;\n    }\n</style>\n<table border=\"1\" class=\"dataframe\">\n  <thead>\n    <tr style=\"text-align: right;\">\n      <th>to</th>\n      <th>A</th>\n      <th>D</th>\n      <th>M</th>\n    </tr>\n    <tr>\n      <th>from</th>\n      <th></th>\n      <th></th>\n      <th></th>\n    </tr>\n  </thead>\n  <tbody>\n    <tr>\n      <th>A</th>\n      <td>1.0</td>\n      <td>0.002740</td>\n      <td>0.083333</td>\n    </tr>\n    <tr>\n      <th>D</th>\n      <td>365.0</td>\n      <td>1.000000</td>\n      <td>30.000000</td>\n    </tr>\n    <tr>\n      <th>M</th>\n      <td>12.0</td>\n      <td>0.033333</td>\n      <td>1.000000</td>\n    </tr>\n  </tbody>\n</table>\n</div>"
     },
     "metadata": {},
     "execution_count": 30
    }
   ],
   "source": [
    "dca.time_converter_matrix"
   ]
  },
  {
   "cell_type": "code",
   "execution_count": null,
   "metadata": {},
   "outputs": [],
   "source": []
  }
 ]
}